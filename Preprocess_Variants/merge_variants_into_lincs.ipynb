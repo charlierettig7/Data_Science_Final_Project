{
  "cells": [
    {
      "cell_type": "markdown",
      "metadata": {
        "id": "TFmib4dRXaHJ"
      },
      "source": [
        "Mount Google Drive to Colab"
      ]
    },
    {
      "cell_type": "code",
      "execution_count": null,
      "metadata": {
        "colab": {
          "base_uri": "https://localhost:8080/"
        },
        "id": "zC5J28XoWtfQ",
        "outputId": "ded4da95-8288-4ad2-bc49-2dc029cdfe5e"
      },
      "outputs": [
        {
          "name": "stdout",
          "output_type": "stream",
          "text": [
            "Drive already mounted at /content/drive; to attempt to forcibly remount, call drive.mount(\"/content/drive\", force_remount=True).\n"
          ]
        }
      ],
      "source": [
        "from google.colab import drive\n",
        "drive.mount('/content/drive')"
      ]
    },
    {
      "cell_type": "code",
      "execution_count": null,
      "metadata": {},
      "outputs": [
        {
          "name": "stdout",
          "output_type": "stream",
          "text": [
            "\n",
            "\u001b[1m[\u001b[0m\u001b[34;49mnotice\u001b[0m\u001b[1;39;49m]\u001b[0m\u001b[39;49m A new release of pip available: \u001b[0m\u001b[31;49m22.3.1\u001b[0m\u001b[39;49m -> \u001b[0m\u001b[32;49m25.1.1\u001b[0m\n",
            "\u001b[1m[\u001b[0m\u001b[34;49mnotice\u001b[0m\u001b[1;39;49m]\u001b[0m\u001b[39;49m To update, run: \u001b[0m\u001b[32;49mpip3 install --upgrade pip\u001b[0m\n"
          ]
        }
      ],
      "source": [
        "!pip install -q pandas"
      ]
    },
    {
      "cell_type": "code",
      "execution_count": 58,
      "metadata": {
        "colab": {
          "base_uri": "https://localhost:8080/"
        },
        "id": "8s70BivLXZZ1",
        "outputId": "f1f484e0-d9a5-4920-cbe6-81d0f7e6c4b1"
      },
      "outputs": [
        {
          "name": "stderr",
          "output_type": "stream",
          "text": [
            "/var/folders/rk/_8vnc6913c5fyc733rjczgp80000gn/T/ipykernel_7556/1839780662.py:5: DtypeWarning: Columns (23,51,57,58,59,60,62,72) have mixed types. Specify dtype option on import or set low_memory=False.\n",
            "  variants = pd.read_csv(variant_path)\n"
          ]
        }
      ],
      "source": [
        "import pandas as pd\n",
        "\n",
        "variant_path = '/content/drive/MyDrive/Data Science Final Project/Data/mutations_cellosaurus_full.csv'\n",
        "variant_path = 'data/mutations_cellosaurus_full.csv'\n",
        "variants = pd.read_csv(variant_path)"
      ]
    },
    {
      "cell_type": "code",
      "execution_count": 89,
      "metadata": {
        "colab": {
          "base_uri": "https://localhost:8080/",
          "height": 226
        },
        "id": "tdg6KV4UaxVX",
        "outputId": "3092d11d-a868-44d6-af4d-210560d72fb1"
      },
      "outputs": [
        {
          "data": {
            "text/html": [
              "<div>\n",
              "<style scoped>\n",
              "    .dataframe tbody tr th:only-of-type {\n",
              "        vertical-align: middle;\n",
              "    }\n",
              "\n",
              "    .dataframe tbody tr th {\n",
              "        vertical-align: top;\n",
              "    }\n",
              "\n",
              "    .dataframe thead th {\n",
              "        text-align: right;\n",
              "    }\n",
              "</style>\n",
              "<table border=\"1\" class=\"dataframe\">\n",
              "  <thead>\n",
              "    <tr style=\"text-align: right;\">\n",
              "      <th></th>\n",
              "      <th>cellosaurus_ids.accession</th>\n",
              "      <th>HugoSymbol</th>\n",
              "      <th>DNAChange</th>\n",
              "      <th>Pos</th>\n",
              "    </tr>\n",
              "  </thead>\n",
              "  <tbody>\n",
              "    <tr>\n",
              "      <th>0</th>\n",
              "      <td>CVCL_2262</td>\n",
              "      <td>CC2D1B</td>\n",
              "      <td>ENST00000284376.8:c.1335T&gt;A</td>\n",
              "      <td>52358457</td>\n",
              "    </tr>\n",
              "    <tr>\n",
              "      <th>1</th>\n",
              "      <td>CVCL_2262</td>\n",
              "      <td>PDE4B</td>\n",
              "      <td>ENST00000341517.9:c.1492C&gt;A</td>\n",
              "      <td>66367803</td>\n",
              "    </tr>\n",
              "    <tr>\n",
              "      <th>2</th>\n",
              "      <td>CVCL_2262</td>\n",
              "      <td>AGL</td>\n",
              "      <td>ENST00000361915.8:c.392C&gt;T</td>\n",
              "      <td>99862355</td>\n",
              "    </tr>\n",
              "    <tr>\n",
              "      <th>3</th>\n",
              "      <td>CVCL_2262</td>\n",
              "      <td>PPM1J</td>\n",
              "      <td>ENST00000309276.11:c.14T&gt;A</td>\n",
              "      <td>112715288</td>\n",
              "    </tr>\n",
              "    <tr>\n",
              "      <th>4</th>\n",
              "      <td>CVCL_2262</td>\n",
              "      <td>ADCY10</td>\n",
              "      <td>ENST00000367851.9:c.4093C&gt;A</td>\n",
              "      <td>167823083</td>\n",
              "    </tr>\n",
              "  </tbody>\n",
              "</table>\n",
              "</div>"
            ],
            "text/plain": [
              "  cellosaurus_ids.accession HugoSymbol                    DNAChange        Pos\n",
              "0                 CVCL_2262     CC2D1B  ENST00000284376.8:c.1335T>A   52358457\n",
              "1                 CVCL_2262      PDE4B  ENST00000341517.9:c.1492C>A   66367803\n",
              "2                 CVCL_2262        AGL   ENST00000361915.8:c.392C>T   99862355\n",
              "3                 CVCL_2262      PPM1J   ENST00000309276.11:c.14T>A  112715288\n",
              "4                 CVCL_2262     ADCY10  ENST00000367851.9:c.4093C>A  167823083"
            ]
          },
          "execution_count": 89,
          "metadata": {},
          "output_type": "execute_result"
        }
      ],
      "source": [
        "variants_subset = variants[[\n",
        "    'cellosaurus_ids.accession',\n",
        "    'HugoSymbol',\n",
        " #   'Chrom',\n",
        "    'DNAChange',\n",
        "    'Pos',\n",
        " #   'Ref',\n",
        " #   'Alt',\n",
        " #   'ProteinChange',\n",
        " #   'AF',\n",
        " #   'VariantType',\n",
        " #   'VariantInfo',\n",
        " #   'VepImpact',\n",
        " #   'VepBiotype',\n",
        " #   'RevelScore',\n",
        " #   'VepLofTool',\n",
        " #   'LikelyLoF',\n",
        " #   'OncogeneHighImpact',\n",
        " #   'TumorSuppressorHighImpact',\n",
        " #   'AMClass',\n",
        " #   'AMPathogenicity',\n",
        " #   'Hotspot'\n",
        "]]\n",
        "variants_subset.head()"
      ]
    },
    {
      "cell_type": "code",
      "execution_count": 108,
      "metadata": {},
      "outputs": [],
      "source": [
        "all_mutations = set(variants_subset['DNAChange'])"
      ]
    },
    {
      "cell_type": "code",
      "execution_count": 110,
      "metadata": {},
      "outputs": [],
      "source": [
        "all_mutations_list = list(all_mutations)"
      ]
    },
    {
      "cell_type": "code",
      "execution_count": 99,
      "metadata": {},
      "outputs": [
        {
          "data": {
            "text/plain": [
              "638368"
            ]
          },
          "execution_count": 99,
          "metadata": {},
          "output_type": "execute_result"
        }
      ],
      "source": [
        "len(all_mutations)"
      ]
    },
    {
      "cell_type": "code",
      "execution_count": 111,
      "metadata": {},
      "outputs": [
        {
          "name": "stdout",
          "output_type": "stream",
          "text": [
            "       cellosaurus_ids.accession HugoSymbol  \\\n",
            "142                    CVCL_N588     CASC15   \n",
            "294                    CVCL_2268    FAM86DP   \n",
            "375                    CVCL_2270  LINC02930   \n",
            "414                    CVCL_2270      DLEU1   \n",
            "529                    CVCL_2270   IL21-AS1   \n",
            "...                          ...        ...   \n",
            "715493                 CVCL_2815    CHEK2P1   \n",
            "716870                       NaN  LINC01749   \n",
            "716877                       NaN     LNCBRM   \n",
            "716920                 CVCL_6C44  LINC00615   \n",
            "716984                 CVCL_6C44  LINC01097   \n",
            "\n",
            "                                  DNAChange        Pos  \n",
            "142            ENST00000652081.1:n.459+1G>A   22610641  \n",
            "294             ENST00000477247.6:n.97-2A>G   75432872  \n",
            "375            ENST00000659883.1:n.659-2A>G  120824384  \n",
            "414            ENST00000479420.5:n.458-1G>A   50589474  \n",
            "529           ENST00000417927.1:n.2798-1G>A  122648100  \n",
            "...                                     ...        ...  \n",
            "715493          ENST00000614446.1:n.86+2T>C   11412635  \n",
            "716870  ENST00000607802.1:n.2208-60_2252del   63083792  \n",
            "716877         ENST00000664455.1:n.165+2dup   57577925  \n",
            "716920     ENST00000546725.1:n.112-3_112del   90940144  \n",
            "716984         ENST00000627575.1:n.221-2A>G   13528304  \n",
            "\n",
            "[2047 rows x 4 columns]\n",
            "True\n"
          ]
        }
      ],
      "source": [
        "filtered = variants_subset[variants_subset['DNAChange'].str.contains(r':n\\.', regex=True, na=False)]\n",
        "print(filtered)\n",
        "print(any(\":n.\" in change for change in variants_subset['DNAChange'].unique()))"
      ]
    },
    {
      "cell_type": "code",
      "execution_count": 86,
      "metadata": {},
      "outputs": [
        {
          "name": "stdout",
          "output_type": "stream",
          "text": [
            "cellosaurus_ids.accession\n",
            "CVCL_0001    135\n",
            "CVCL_0002     88\n",
            "CVCL_0004    292\n",
            "CVCL_0005    163\n",
            "CVCL_0006    106\n",
            "            ... \n",
            "CVCL_YU12    195\n",
            "CVCL_YU13    162\n",
            "CVCL_YU14    168\n",
            "CVCL_YU15    170\n",
            "CVCL_ZV94    172\n",
            "Length: 1854, dtype: int64\n",
            "25 12303 377.77562028047464 725.8685010146571\n"
          ]
        }
      ],
      "source": [
        "counts = variants_subset.groupby('cellosaurus_ids.accession').size()\n",
        "print(counts)\n",
        "print(counts.min(), counts.max(), counts.mean(), counts.std())"
      ]
    },
    {
      "cell_type": "code",
      "execution_count": null,
      "metadata": {
        "id": "AslHFc0Wd8cR"
      },
      "outputs": [],
      "source": [
        "variant_dict_by_cell_line = {}\n",
        "for cell_line, group in variants_subset.groupby('cellosaurus_ids.accession'):\n",
        "    # Convert group to list of dictionaries, excluding the grouping column\n",
        "    variant_dict_by_cell_line[cell_line] = group.drop(columns='cellosaurus_ids.accession').to_dict('records')\n",
        "variant_dict_by_cell_line['CVCL_0030']"
      ]
    },
    {
      "cell_type": "code",
      "execution_count": 90,
      "metadata": {
        "id": "SIIe4fE3Zeea"
      },
      "outputs": [],
      "source": [
        "lincs_path = '/content/drive/MyDrive/Data Science Final Project/Data/final/signature_response_features_r2_top0.7_final.parquet'\n",
        "lincs_path = 'data/signature_response_features_r2_top0.7_final.parquet'\n",
        "lincs = pd.read_parquet(lincs_path, engine='pyarrow')"
      ]
    },
    {
      "cell_type": "code",
      "execution_count": 91,
      "metadata": {},
      "outputs": [],
      "source": [
        "compound_path = 'data/comp_info.parquet'\n",
        "compound_info = pd.read_parquet(compound_path, engine='pyarrow')\n",
        "compound_info[compound_info['target'].notna()]\n",
        "compound_info = compound_info[['pert_id', 'target']]"
      ]
    },
    {
      "cell_type": "code",
      "execution_count": 92,
      "metadata": {},
      "outputs": [],
      "source": [
        "lincs = lincs.merge(compound_info, left_on='pert_id', right_on='pert_id')"
      ]
    },
    {
      "cell_type": "code",
      "execution_count": 93,
      "metadata": {},
      "outputs": [],
      "source": [
        "lincs['mutations'] = lincs['cellosaurus_id'].map(variant_dict_by_cell_line)"
      ]
    },
    {
      "cell_type": "code",
      "execution_count": null,
      "metadata": {},
      "outputs": [],
      "source": [
        "lincs['mutated_genes'] = lincs['mutations'].apply(lambda x: [variant['HugoSymbol'] for variant in x] if isinstance(x, list) else [])\n",
        "lincs['target_mutated'] = lincs.apply(\n",
        "    lambda row: row['target'] in row['mutated_genes'], axis=1\n",
        ")"
      ]
    },
    {
      "cell_type": "code",
      "execution_count": 94,
      "metadata": {},
      "outputs": [
        {
          "data": {
            "text/html": [
              "<div>\n",
              "<style scoped>\n",
              "    .dataframe tbody tr th:only-of-type {\n",
              "        vertical-align: middle;\n",
              "    }\n",
              "\n",
              "    .dataframe tbody tr th {\n",
              "        vertical-align: top;\n",
              "    }\n",
              "\n",
              "    .dataframe thead th {\n",
              "        text-align: right;\n",
              "    }\n",
              "</style>\n",
              "<table border=\"1\" class=\"dataframe\">\n",
              "  <thead>\n",
              "    <tr style=\"text-align: right;\">\n",
              "      <th></th>\n",
              "      <th>sig_id</th>\n",
              "      <th>pert_id</th>\n",
              "      <th>cellosaurus_id</th>\n",
              "      <th>inchi_key</th>\n",
              "      <th>cell_drug</th>\n",
              "      <th>nearest_dose</th>\n",
              "      <th>responses</th>\n",
              "      <th>cmap_name</th>\n",
              "      <th>smiles</th>\n",
              "      <th>fps_0</th>\n",
              "      <th>...</th>\n",
              "      <th>9988</th>\n",
              "      <th>9989</th>\n",
              "      <th>999</th>\n",
              "      <th>9990</th>\n",
              "      <th>9991</th>\n",
              "      <th>9992</th>\n",
              "      <th>9993</th>\n",
              "      <th>9997</th>\n",
              "      <th>target</th>\n",
              "      <th>mutations</th>\n",
              "    </tr>\n",
              "  </thead>\n",
              "  <tbody>\n",
              "    <tr>\n",
              "      <th>0</th>\n",
              "      <td>ABY001_HT29_XH:BRD-K70511574:2.5:24</td>\n",
              "      <td>BRD-K70511574</td>\n",
              "      <td>CVCL_0320</td>\n",
              "      <td>OCKHRKSTDPOHEN-BQYQJAHWSA-N</td>\n",
              "      <td>CVCL_0320OCKHRKSTDPOHEN-BQYQJAHWSA-N</td>\n",
              "      <td>2.5</td>\n",
              "      <td>0.191586</td>\n",
              "      <td>HMN-214</td>\n",
              "      <td>COc1ccc(cc1)S(=O)(=O)N(C(C)=O)c1ccccc1C=Cc1cc[...</td>\n",
              "      <td>0</td>\n",
              "      <td>...</td>\n",
              "      <td>-0.116750</td>\n",
              "      <td>-1.074700</td>\n",
              "      <td>0.266150</td>\n",
              "      <td>0.312750</td>\n",
              "      <td>-0.311050</td>\n",
              "      <td>0.015850</td>\n",
              "      <td>0.774600</td>\n",
              "      <td>-0.510450</td>\n",
              "      <td>CSF1R</td>\n",
              "      <td>[{'HugoSymbol': 'PRAMEF12', 'DNAChange': 'ENST...</td>\n",
              "    </tr>\n",
              "    <tr>\n",
              "      <th>1</th>\n",
              "      <td>ABY001_HT29_XH:BRD-K70511574:2.5:24</td>\n",
              "      <td>BRD-K70511574</td>\n",
              "      <td>CVCL_0320</td>\n",
              "      <td>OCKHRKSTDPOHEN-BQYQJAHWSA-N</td>\n",
              "      <td>CVCL_0320OCKHRKSTDPOHEN-BQYQJAHWSA-N</td>\n",
              "      <td>2.5</td>\n",
              "      <td>0.191586</td>\n",
              "      <td>HMN-214</td>\n",
              "      <td>COc1ccc(cc1)S(=O)(=O)N(C(C)=O)c1ccccc1C=Cc1cc[...</td>\n",
              "      <td>0</td>\n",
              "      <td>...</td>\n",
              "      <td>-0.116750</td>\n",
              "      <td>-1.074700</td>\n",
              "      <td>0.266150</td>\n",
              "      <td>0.312750</td>\n",
              "      <td>-0.311050</td>\n",
              "      <td>0.015850</td>\n",
              "      <td>0.774600</td>\n",
              "      <td>-0.510450</td>\n",
              "      <td>FLT1</td>\n",
              "      <td>[{'HugoSymbol': 'PRAMEF12', 'DNAChange': 'ENST...</td>\n",
              "    </tr>\n",
              "    <tr>\n",
              "      <th>2</th>\n",
              "      <td>ABY001_HT29_XH:BRD-K70511574:2.5:24</td>\n",
              "      <td>BRD-K70511574</td>\n",
              "      <td>CVCL_0320</td>\n",
              "      <td>OCKHRKSTDPOHEN-BQYQJAHWSA-N</td>\n",
              "      <td>CVCL_0320OCKHRKSTDPOHEN-BQYQJAHWSA-N</td>\n",
              "      <td>2.5</td>\n",
              "      <td>0.191586</td>\n",
              "      <td>HMN-214</td>\n",
              "      <td>COc1ccc(cc1)S(=O)(=O)N(C(C)=O)c1ccccc1C=Cc1cc[...</td>\n",
              "      <td>0</td>\n",
              "      <td>...</td>\n",
              "      <td>-0.116750</td>\n",
              "      <td>-1.074700</td>\n",
              "      <td>0.266150</td>\n",
              "      <td>0.312750</td>\n",
              "      <td>-0.311050</td>\n",
              "      <td>0.015850</td>\n",
              "      <td>0.774600</td>\n",
              "      <td>-0.510450</td>\n",
              "      <td>FLT3</td>\n",
              "      <td>[{'HugoSymbol': 'PRAMEF12', 'DNAChange': 'ENST...</td>\n",
              "    </tr>\n",
              "    <tr>\n",
              "      <th>3</th>\n",
              "      <td>ABY001_HT29_XH:BRD-K70511574:2.5:24</td>\n",
              "      <td>BRD-K70511574</td>\n",
              "      <td>CVCL_0320</td>\n",
              "      <td>OCKHRKSTDPOHEN-BQYQJAHWSA-N</td>\n",
              "      <td>CVCL_0320OCKHRKSTDPOHEN-BQYQJAHWSA-N</td>\n",
              "      <td>2.5</td>\n",
              "      <td>0.191586</td>\n",
              "      <td>HMN-214</td>\n",
              "      <td>COc1ccc(cc1)S(=O)(=O)N(C(C)=O)c1ccccc1C=Cc1cc[...</td>\n",
              "      <td>0</td>\n",
              "      <td>...</td>\n",
              "      <td>-0.116750</td>\n",
              "      <td>-1.074700</td>\n",
              "      <td>0.266150</td>\n",
              "      <td>0.312750</td>\n",
              "      <td>-0.311050</td>\n",
              "      <td>0.015850</td>\n",
              "      <td>0.774600</td>\n",
              "      <td>-0.510450</td>\n",
              "      <td>FLT4</td>\n",
              "      <td>[{'HugoSymbol': 'PRAMEF12', 'DNAChange': 'ENST...</td>\n",
              "    </tr>\n",
              "    <tr>\n",
              "      <th>4</th>\n",
              "      <td>ABY001_HT29_XH:BRD-K70511574:2.5:24</td>\n",
              "      <td>BRD-K70511574</td>\n",
              "      <td>CVCL_0320</td>\n",
              "      <td>OCKHRKSTDPOHEN-BQYQJAHWSA-N</td>\n",
              "      <td>CVCL_0320OCKHRKSTDPOHEN-BQYQJAHWSA-N</td>\n",
              "      <td>2.5</td>\n",
              "      <td>0.191586</td>\n",
              "      <td>HMN-214</td>\n",
              "      <td>COc1ccc(cc1)S(=O)(=O)N(C(C)=O)c1ccccc1C=Cc1cc[...</td>\n",
              "      <td>0</td>\n",
              "      <td>...</td>\n",
              "      <td>-0.116750</td>\n",
              "      <td>-1.074700</td>\n",
              "      <td>0.266150</td>\n",
              "      <td>0.312750</td>\n",
              "      <td>-0.311050</td>\n",
              "      <td>0.015850</td>\n",
              "      <td>0.774600</td>\n",
              "      <td>-0.510450</td>\n",
              "      <td>KDR</td>\n",
              "      <td>[{'HugoSymbol': 'PRAMEF12', 'DNAChange': 'ENST...</td>\n",
              "    </tr>\n",
              "    <tr>\n",
              "      <th>...</th>\n",
              "      <td>...</td>\n",
              "      <td>...</td>\n",
              "      <td>...</td>\n",
              "      <td>...</td>\n",
              "      <td>...</td>\n",
              "      <td>...</td>\n",
              "      <td>...</td>\n",
              "      <td>...</td>\n",
              "      <td>...</td>\n",
              "      <td>...</td>\n",
              "      <td>...</td>\n",
              "      <td>...</td>\n",
              "      <td>...</td>\n",
              "      <td>...</td>\n",
              "      <td>...</td>\n",
              "      <td>...</td>\n",
              "      <td>...</td>\n",
              "      <td>...</td>\n",
              "      <td>...</td>\n",
              "      <td>...</td>\n",
              "      <td>...</td>\n",
              "    </tr>\n",
              "    <tr>\n",
              "      <th>182141</th>\n",
              "      <td>DOSVAL005_A375_24H:BRD-A19037878:5</td>\n",
              "      <td>BRD-A19037878</td>\n",
              "      <td>CVCL_0132</td>\n",
              "      <td>RTKIYFITIVXBLE-WKWSCTOISA-N</td>\n",
              "      <td>CVCL_0132RTKIYFITIVXBLE-WKWSCTOISA-N</td>\n",
              "      <td>4.0</td>\n",
              "      <td>0.228885</td>\n",
              "      <td>BRD-A19037878</td>\n",
              "      <td>CC(C=C(C)C=CC(=O)NO)C(=O)c1ccc(cc1)N(C)C</td>\n",
              "      <td>0</td>\n",
              "      <td>...</td>\n",
              "      <td>0.085574</td>\n",
              "      <td>-3.965151</td>\n",
              "      <td>2.360926</td>\n",
              "      <td>1.487882</td>\n",
              "      <td>-1.511580</td>\n",
              "      <td>3.141681</td>\n",
              "      <td>5.463110</td>\n",
              "      <td>0.673212</td>\n",
              "      <td>None</td>\n",
              "      <td>[{'HugoSymbol': 'SPEN', 'DNAChange': 'ENST0000...</td>\n",
              "    </tr>\n",
              "    <tr>\n",
              "      <th>182142</th>\n",
              "      <td>DOSVAL001_A549_24H:BRD-K19540840:5</td>\n",
              "      <td>BRD-K19540840</td>\n",
              "      <td>CVCL_0023</td>\n",
              "      <td>OUKYUETWWIPKQR-UHFFFAOYSA-N</td>\n",
              "      <td>CVCL_0023OUKYUETWWIPKQR-UHFFFAOYSA-N</td>\n",
              "      <td>4.0</td>\n",
              "      <td>0.706393</td>\n",
              "      <td>saracatinib</td>\n",
              "      <td>CN1CCN(CCOc2cc(OC3CCOCC3)c3c(Nc4c5OCOc5ccc4Cl)...</td>\n",
              "      <td>0</td>\n",
              "      <td>...</td>\n",
              "      <td>-0.334990</td>\n",
              "      <td>-0.230673</td>\n",
              "      <td>-0.650040</td>\n",
              "      <td>-1.271203</td>\n",
              "      <td>-0.336669</td>\n",
              "      <td>-0.480971</td>\n",
              "      <td>-0.794008</td>\n",
              "      <td>-0.868529</td>\n",
              "      <td>ABL1</td>\n",
              "      <td>[{'HugoSymbol': 'ENO1', 'DNAChange': 'ENST0000...</td>\n",
              "    </tr>\n",
              "    <tr>\n",
              "      <th>182143</th>\n",
              "      <td>DOSVAL001_A549_24H:BRD-K19540840:5</td>\n",
              "      <td>BRD-K19540840</td>\n",
              "      <td>CVCL_0023</td>\n",
              "      <td>OUKYUETWWIPKQR-UHFFFAOYSA-N</td>\n",
              "      <td>CVCL_0023OUKYUETWWIPKQR-UHFFFAOYSA-N</td>\n",
              "      <td>4.0</td>\n",
              "      <td>0.706393</td>\n",
              "      <td>saracatinib</td>\n",
              "      <td>CN1CCN(CCOc2cc(OC3CCOCC3)c3c(Nc4c5OCOc5ccc4Cl)...</td>\n",
              "      <td>0</td>\n",
              "      <td>...</td>\n",
              "      <td>-0.334990</td>\n",
              "      <td>-0.230673</td>\n",
              "      <td>-0.650040</td>\n",
              "      <td>-1.271203</td>\n",
              "      <td>-0.336669</td>\n",
              "      <td>-0.480971</td>\n",
              "      <td>-0.794008</td>\n",
              "      <td>-0.868529</td>\n",
              "      <td>SRC</td>\n",
              "      <td>[{'HugoSymbol': 'ENO1', 'DNAChange': 'ENST0000...</td>\n",
              "    </tr>\n",
              "    <tr>\n",
              "      <th>182144</th>\n",
              "      <td>DOSVAL006_A549_24H:BRD-K88378636:10</td>\n",
              "      <td>BRD-K88378636</td>\n",
              "      <td>CVCL_0023</td>\n",
              "      <td>DBRXOUCRJQVYJQ-CKNDUULBSA-N</td>\n",
              "      <td>CVCL_0023DBRXOUCRJQVYJQ-CKNDUULBSA-N</td>\n",
              "      <td>10.0</td>\n",
              "      <td>0.160186</td>\n",
              "      <td>withaferin-a</td>\n",
              "      <td>C[C@@H]([C@H]1CC[C@H]2[C@@H]3C[C@H]4O[C@]45[C@...</td>\n",
              "      <td>0</td>\n",
              "      <td>...</td>\n",
              "      <td>-1.487008</td>\n",
              "      <td>-1.915593</td>\n",
              "      <td>-1.596961</td>\n",
              "      <td>0.518605</td>\n",
              "      <td>-2.138142</td>\n",
              "      <td>1.708408</td>\n",
              "      <td>0.332337</td>\n",
              "      <td>2.292674</td>\n",
              "      <td>NAMPT</td>\n",
              "      <td>[{'HugoSymbol': 'ENO1', 'DNAChange': 'ENST0000...</td>\n",
              "    </tr>\n",
              "    <tr>\n",
              "      <th>182145</th>\n",
              "      <td>DOSVAL006_A549_24H:BRD-K88378636:10</td>\n",
              "      <td>BRD-K88378636</td>\n",
              "      <td>CVCL_0023</td>\n",
              "      <td>DBRXOUCRJQVYJQ-CKNDUULBSA-N</td>\n",
              "      <td>CVCL_0023DBRXOUCRJQVYJQ-CKNDUULBSA-N</td>\n",
              "      <td>10.0</td>\n",
              "      <td>0.160186</td>\n",
              "      <td>withaferin-a</td>\n",
              "      <td>C[C@@H]([C@H]1CC[C@H]2[C@@H]3C[C@H]4O[C@]45[C@...</td>\n",
              "      <td>0</td>\n",
              "      <td>...</td>\n",
              "      <td>-1.487008</td>\n",
              "      <td>-1.915593</td>\n",
              "      <td>-1.596961</td>\n",
              "      <td>0.518605</td>\n",
              "      <td>-2.138142</td>\n",
              "      <td>1.708408</td>\n",
              "      <td>0.332337</td>\n",
              "      <td>2.292674</td>\n",
              "      <td>IKBKB</td>\n",
              "      <td>[{'HugoSymbol': 'ENO1', 'DNAChange': 'ENST0000...</td>\n",
              "    </tr>\n",
              "  </tbody>\n",
              "</table>\n",
              "<p>182146 rows × 14387 columns</p>\n",
              "</div>"
            ],
            "text/plain": [
              "                                     sig_id        pert_id cellosaurus_id  \\\n",
              "0       ABY001_HT29_XH:BRD-K70511574:2.5:24  BRD-K70511574      CVCL_0320   \n",
              "1       ABY001_HT29_XH:BRD-K70511574:2.5:24  BRD-K70511574      CVCL_0320   \n",
              "2       ABY001_HT29_XH:BRD-K70511574:2.5:24  BRD-K70511574      CVCL_0320   \n",
              "3       ABY001_HT29_XH:BRD-K70511574:2.5:24  BRD-K70511574      CVCL_0320   \n",
              "4       ABY001_HT29_XH:BRD-K70511574:2.5:24  BRD-K70511574      CVCL_0320   \n",
              "...                                     ...            ...            ...   \n",
              "182141   DOSVAL005_A375_24H:BRD-A19037878:5  BRD-A19037878      CVCL_0132   \n",
              "182142   DOSVAL001_A549_24H:BRD-K19540840:5  BRD-K19540840      CVCL_0023   \n",
              "182143   DOSVAL001_A549_24H:BRD-K19540840:5  BRD-K19540840      CVCL_0023   \n",
              "182144  DOSVAL006_A549_24H:BRD-K88378636:10  BRD-K88378636      CVCL_0023   \n",
              "182145  DOSVAL006_A549_24H:BRD-K88378636:10  BRD-K88378636      CVCL_0023   \n",
              "\n",
              "                          inchi_key                             cell_drug  \\\n",
              "0       OCKHRKSTDPOHEN-BQYQJAHWSA-N  CVCL_0320OCKHRKSTDPOHEN-BQYQJAHWSA-N   \n",
              "1       OCKHRKSTDPOHEN-BQYQJAHWSA-N  CVCL_0320OCKHRKSTDPOHEN-BQYQJAHWSA-N   \n",
              "2       OCKHRKSTDPOHEN-BQYQJAHWSA-N  CVCL_0320OCKHRKSTDPOHEN-BQYQJAHWSA-N   \n",
              "3       OCKHRKSTDPOHEN-BQYQJAHWSA-N  CVCL_0320OCKHRKSTDPOHEN-BQYQJAHWSA-N   \n",
              "4       OCKHRKSTDPOHEN-BQYQJAHWSA-N  CVCL_0320OCKHRKSTDPOHEN-BQYQJAHWSA-N   \n",
              "...                             ...                                   ...   \n",
              "182141  RTKIYFITIVXBLE-WKWSCTOISA-N  CVCL_0132RTKIYFITIVXBLE-WKWSCTOISA-N   \n",
              "182142  OUKYUETWWIPKQR-UHFFFAOYSA-N  CVCL_0023OUKYUETWWIPKQR-UHFFFAOYSA-N   \n",
              "182143  OUKYUETWWIPKQR-UHFFFAOYSA-N  CVCL_0023OUKYUETWWIPKQR-UHFFFAOYSA-N   \n",
              "182144  DBRXOUCRJQVYJQ-CKNDUULBSA-N  CVCL_0023DBRXOUCRJQVYJQ-CKNDUULBSA-N   \n",
              "182145  DBRXOUCRJQVYJQ-CKNDUULBSA-N  CVCL_0023DBRXOUCRJQVYJQ-CKNDUULBSA-N   \n",
              "\n",
              "        nearest_dose  responses      cmap_name  \\\n",
              "0                2.5   0.191586        HMN-214   \n",
              "1                2.5   0.191586        HMN-214   \n",
              "2                2.5   0.191586        HMN-214   \n",
              "3                2.5   0.191586        HMN-214   \n",
              "4                2.5   0.191586        HMN-214   \n",
              "...              ...        ...            ...   \n",
              "182141           4.0   0.228885  BRD-A19037878   \n",
              "182142           4.0   0.706393    saracatinib   \n",
              "182143           4.0   0.706393    saracatinib   \n",
              "182144          10.0   0.160186   withaferin-a   \n",
              "182145          10.0   0.160186   withaferin-a   \n",
              "\n",
              "                                                   smiles  fps_0  ...  \\\n",
              "0       COc1ccc(cc1)S(=O)(=O)N(C(C)=O)c1ccccc1C=Cc1cc[...      0  ...   \n",
              "1       COc1ccc(cc1)S(=O)(=O)N(C(C)=O)c1ccccc1C=Cc1cc[...      0  ...   \n",
              "2       COc1ccc(cc1)S(=O)(=O)N(C(C)=O)c1ccccc1C=Cc1cc[...      0  ...   \n",
              "3       COc1ccc(cc1)S(=O)(=O)N(C(C)=O)c1ccccc1C=Cc1cc[...      0  ...   \n",
              "4       COc1ccc(cc1)S(=O)(=O)N(C(C)=O)c1ccccc1C=Cc1cc[...      0  ...   \n",
              "...                                                   ...    ...  ...   \n",
              "182141           CC(C=C(C)C=CC(=O)NO)C(=O)c1ccc(cc1)N(C)C      0  ...   \n",
              "182142  CN1CCN(CCOc2cc(OC3CCOCC3)c3c(Nc4c5OCOc5ccc4Cl)...      0  ...   \n",
              "182143  CN1CCN(CCOc2cc(OC3CCOCC3)c3c(Nc4c5OCOc5ccc4Cl)...      0  ...   \n",
              "182144  C[C@@H]([C@H]1CC[C@H]2[C@@H]3C[C@H]4O[C@]45[C@...      0  ...   \n",
              "182145  C[C@@H]([C@H]1CC[C@H]2[C@@H]3C[C@H]4O[C@]45[C@...      0  ...   \n",
              "\n",
              "            9988      9989       999      9990      9991      9992      9993  \\\n",
              "0      -0.116750 -1.074700  0.266150  0.312750 -0.311050  0.015850  0.774600   \n",
              "1      -0.116750 -1.074700  0.266150  0.312750 -0.311050  0.015850  0.774600   \n",
              "2      -0.116750 -1.074700  0.266150  0.312750 -0.311050  0.015850  0.774600   \n",
              "3      -0.116750 -1.074700  0.266150  0.312750 -0.311050  0.015850  0.774600   \n",
              "4      -0.116750 -1.074700  0.266150  0.312750 -0.311050  0.015850  0.774600   \n",
              "...          ...       ...       ...       ...       ...       ...       ...   \n",
              "182141  0.085574 -3.965151  2.360926  1.487882 -1.511580  3.141681  5.463110   \n",
              "182142 -0.334990 -0.230673 -0.650040 -1.271203 -0.336669 -0.480971 -0.794008   \n",
              "182143 -0.334990 -0.230673 -0.650040 -1.271203 -0.336669 -0.480971 -0.794008   \n",
              "182144 -1.487008 -1.915593 -1.596961  0.518605 -2.138142  1.708408  0.332337   \n",
              "182145 -1.487008 -1.915593 -1.596961  0.518605 -2.138142  1.708408  0.332337   \n",
              "\n",
              "            9997  target                                          mutations  \n",
              "0      -0.510450   CSF1R  [{'HugoSymbol': 'PRAMEF12', 'DNAChange': 'ENST...  \n",
              "1      -0.510450    FLT1  [{'HugoSymbol': 'PRAMEF12', 'DNAChange': 'ENST...  \n",
              "2      -0.510450    FLT3  [{'HugoSymbol': 'PRAMEF12', 'DNAChange': 'ENST...  \n",
              "3      -0.510450    FLT4  [{'HugoSymbol': 'PRAMEF12', 'DNAChange': 'ENST...  \n",
              "4      -0.510450     KDR  [{'HugoSymbol': 'PRAMEF12', 'DNAChange': 'ENST...  \n",
              "...          ...     ...                                                ...  \n",
              "182141  0.673212    None  [{'HugoSymbol': 'SPEN', 'DNAChange': 'ENST0000...  \n",
              "182142 -0.868529    ABL1  [{'HugoSymbol': 'ENO1', 'DNAChange': 'ENST0000...  \n",
              "182143 -0.868529     SRC  [{'HugoSymbol': 'ENO1', 'DNAChange': 'ENST0000...  \n",
              "182144  2.292674   NAMPT  [{'HugoSymbol': 'ENO1', 'DNAChange': 'ENST0000...  \n",
              "182145  2.292674   IKBKB  [{'HugoSymbol': 'ENO1', 'DNAChange': 'ENST0000...  \n",
              "\n",
              "[182146 rows x 14387 columns]"
            ]
          },
          "execution_count": 94,
          "metadata": {},
          "output_type": "execute_result"
        }
      ],
      "source": [
        "lincs"
      ]
    },
    {
      "cell_type": "code",
      "execution_count": 117,
      "metadata": {},
      "outputs": [
        {
          "data": {
            "text/plain": [
              "(182146, 18587)"
            ]
          },
          "execution_count": 117,
          "metadata": {},
          "output_type": "execute_result"
        }
      ],
      "source": [
        "lincs.shape"
      ]
    },
    {
      "cell_type": "code",
      "execution_count": 118,
      "metadata": {},
      "outputs": [
        {
          "ename": "",
          "evalue": "",
          "output_type": "error",
          "traceback": [
            "\u001b[1;31mThe Kernel crashed while executing code in the current cell or a previous cell. \n",
            "\u001b[1;31mPlease review the code in the cell(s) to identify a possible cause of the failure. \n",
            "\u001b[1;31mClick <a href='https://aka.ms/vscodeJupyterKernelCrash'>here</a> for more info. \n",
            "\u001b[1;31mView Jupyter <a href='command:jupyter.viewOutput'>log</a> for further details."
          ]
        }
      ],
      "source": [
        "n_rows = 182146\n",
        "df = pd.DataFrame({mut: [0]*n_rows for mut in all_mutations_list})"
      ]
    },
    {
      "cell_type": "code",
      "execution_count": 103,
      "metadata": {},
      "outputs": [
        {
          "ename": "KeyboardInterrupt",
          "evalue": "",
          "output_type": "error",
          "traceback": [
            "\u001b[31m---------------------------------------------------------------------------\u001b[39m",
            "\u001b[31mKeyboardInterrupt\u001b[39m                         Traceback (most recent call last)",
            "\u001b[36mCell\u001b[39m\u001b[36m \u001b[39m\u001b[32mIn[103]\u001b[39m\u001b[32m, line 3\u001b[39m\n\u001b[32m      1\u001b[39m lincs[\u001b[33m'\u001b[39m\u001b[33mmutations\u001b[39m\u001b[33m'\u001b[39m] = lincs[\u001b[33m'\u001b[39m\u001b[33mmutations\u001b[39m\u001b[33m'\u001b[39m].apply(\u001b[38;5;28;01mlambda\u001b[39;00m x: x \u001b[38;5;28;01mif\u001b[39;00m \u001b[38;5;28misinstance\u001b[39m(x, \u001b[38;5;28mlist\u001b[39m) \u001b[38;5;28;01melse\u001b[39;00m [])\n\u001b[32m      2\u001b[39m \u001b[38;5;28;01mfor\u001b[39;00m mut \u001b[38;5;129;01min\u001b[39;00m all_mutations:\n\u001b[32m----> \u001b[39m\u001b[32m3\u001b[39m     lincs[mut] = \u001b[43mlincs\u001b[49m\u001b[43m[\u001b[49m\u001b[33;43m'\u001b[39;49m\u001b[33;43mmutations\u001b[39;49m\u001b[33;43m'\u001b[39;49m\u001b[43m]\u001b[49m\u001b[43m.\u001b[49m\u001b[43mapply\u001b[49m\u001b[43m(\u001b[49m\n\u001b[32m      4\u001b[39m \u001b[43m        \u001b[49m\u001b[38;5;28;43;01mlambda\u001b[39;49;00m\u001b[43m \u001b[49m\u001b[43mmuts\u001b[49m\u001b[43m:\u001b[49m\u001b[43m \u001b[49m\u001b[38;5;28;43mint\u001b[39;49m\u001b[43m(\u001b[49m\u001b[38;5;28;43many\u001b[39;49m\u001b[43m(\u001b[49m\u001b[43mm\u001b[49m\u001b[43m[\u001b[49m\u001b[33;43m'\u001b[39;49m\u001b[33;43mDNAChange\u001b[39;49m\u001b[33;43m'\u001b[39;49m\u001b[43m]\u001b[49m\u001b[43m \u001b[49m\u001b[43m==\u001b[49m\u001b[43m \u001b[49m\u001b[43mmut\u001b[49m\u001b[43m \u001b[49m\u001b[38;5;28;43;01mfor\u001b[39;49;00m\u001b[43m \u001b[49m\u001b[43mm\u001b[49m\u001b[43m \u001b[49m\u001b[38;5;129;43;01min\u001b[39;49;00m\u001b[43m \u001b[49m\u001b[43mmuts\u001b[49m\u001b[43m)\u001b[49m\u001b[43m)\u001b[49m\n\u001b[32m      5\u001b[39m \u001b[43m    \u001b[49m\u001b[43m)\u001b[49m\n",
            "\u001b[36mFile \u001b[39m\u001b[32m/Library/Frameworks/Python.framework/Versions/3.13/lib/python3.13/site-packages/pandas/core/series.py:4935\u001b[39m, in \u001b[36mSeries.apply\u001b[39m\u001b[34m(self, func, convert_dtype, args, by_row, **kwargs)\u001b[39m\n\u001b[32m   4800\u001b[39m \u001b[38;5;28;01mdef\u001b[39;00m\u001b[38;5;250m \u001b[39m\u001b[34mapply\u001b[39m(\n\u001b[32m   4801\u001b[39m     \u001b[38;5;28mself\u001b[39m,\n\u001b[32m   4802\u001b[39m     func: AggFuncType,\n\u001b[32m   (...)\u001b[39m\u001b[32m   4807\u001b[39m     **kwargs,\n\u001b[32m   4808\u001b[39m ) -> DataFrame | Series:\n\u001b[32m   4809\u001b[39m \u001b[38;5;250m    \u001b[39m\u001b[33;03m\"\"\"\u001b[39;00m\n\u001b[32m   4810\u001b[39m \u001b[33;03m    Invoke function on values of Series.\u001b[39;00m\n\u001b[32m   4811\u001b[39m \n\u001b[32m   (...)\u001b[39m\u001b[32m   4926\u001b[39m \u001b[33;03m    dtype: float64\u001b[39;00m\n\u001b[32m   4927\u001b[39m \u001b[33;03m    \"\"\"\u001b[39;00m\n\u001b[32m   4928\u001b[39m     \u001b[38;5;28;01mreturn\u001b[39;00m \u001b[43mSeriesApply\u001b[49m\u001b[43m(\u001b[49m\n\u001b[32m   4929\u001b[39m \u001b[43m        \u001b[49m\u001b[38;5;28;43mself\u001b[39;49m\u001b[43m,\u001b[49m\n\u001b[32m   4930\u001b[39m \u001b[43m        \u001b[49m\u001b[43mfunc\u001b[49m\u001b[43m,\u001b[49m\n\u001b[32m   4931\u001b[39m \u001b[43m        \u001b[49m\u001b[43mconvert_dtype\u001b[49m\u001b[43m=\u001b[49m\u001b[43mconvert_dtype\u001b[49m\u001b[43m,\u001b[49m\n\u001b[32m   4932\u001b[39m \u001b[43m        \u001b[49m\u001b[43mby_row\u001b[49m\u001b[43m=\u001b[49m\u001b[43mby_row\u001b[49m\u001b[43m,\u001b[49m\n\u001b[32m   4933\u001b[39m \u001b[43m        \u001b[49m\u001b[43margs\u001b[49m\u001b[43m=\u001b[49m\u001b[43margs\u001b[49m\u001b[43m,\u001b[49m\n\u001b[32m   4934\u001b[39m \u001b[43m        \u001b[49m\u001b[43mkwargs\u001b[49m\u001b[43m=\u001b[49m\u001b[43mkwargs\u001b[49m\u001b[43m,\u001b[49m\n\u001b[32m-> \u001b[39m\u001b[32m4935\u001b[39m \u001b[43m    \u001b[49m\u001b[43m)\u001b[49m\u001b[43m.\u001b[49m\u001b[43mapply\u001b[49m\u001b[43m(\u001b[49m\u001b[43m)\u001b[49m\n",
            "\u001b[36mFile \u001b[39m\u001b[32m/Library/Frameworks/Python.framework/Versions/3.13/lib/python3.13/site-packages/pandas/core/apply.py:1422\u001b[39m, in \u001b[36mSeriesApply.apply\u001b[39m\u001b[34m(self)\u001b[39m\n\u001b[32m   1419\u001b[39m     \u001b[38;5;28;01mreturn\u001b[39;00m \u001b[38;5;28mself\u001b[39m.apply_compat()\n\u001b[32m   1421\u001b[39m \u001b[38;5;66;03m# self.func is Callable\u001b[39;00m\n\u001b[32m-> \u001b[39m\u001b[32m1422\u001b[39m \u001b[38;5;28;01mreturn\u001b[39;00m \u001b[38;5;28;43mself\u001b[39;49m\u001b[43m.\u001b[49m\u001b[43mapply_standard\u001b[49m\u001b[43m(\u001b[49m\u001b[43m)\u001b[49m\n",
            "\u001b[36mFile \u001b[39m\u001b[32m/Library/Frameworks/Python.framework/Versions/3.13/lib/python3.13/site-packages/pandas/core/apply.py:1502\u001b[39m, in \u001b[36mSeriesApply.apply_standard\u001b[39m\u001b[34m(self)\u001b[39m\n\u001b[32m   1496\u001b[39m \u001b[38;5;66;03m# row-wise access\u001b[39;00m\n\u001b[32m   1497\u001b[39m \u001b[38;5;66;03m# apply doesn't have a `na_action` keyword and for backward compat reasons\u001b[39;00m\n\u001b[32m   1498\u001b[39m \u001b[38;5;66;03m# we need to give `na_action=\"ignore\"` for categorical data.\u001b[39;00m\n\u001b[32m   1499\u001b[39m \u001b[38;5;66;03m# TODO: remove the `na_action=\"ignore\"` when that default has been changed in\u001b[39;00m\n\u001b[32m   1500\u001b[39m \u001b[38;5;66;03m#  Categorical (GH51645).\u001b[39;00m\n\u001b[32m   1501\u001b[39m action = \u001b[33m\"\u001b[39m\u001b[33mignore\u001b[39m\u001b[33m\"\u001b[39m \u001b[38;5;28;01mif\u001b[39;00m \u001b[38;5;28misinstance\u001b[39m(obj.dtype, CategoricalDtype) \u001b[38;5;28;01melse\u001b[39;00m \u001b[38;5;28;01mNone\u001b[39;00m\n\u001b[32m-> \u001b[39m\u001b[32m1502\u001b[39m mapped = \u001b[43mobj\u001b[49m\u001b[43m.\u001b[49m\u001b[43m_map_values\u001b[49m\u001b[43m(\u001b[49m\n\u001b[32m   1503\u001b[39m \u001b[43m    \u001b[49m\u001b[43mmapper\u001b[49m\u001b[43m=\u001b[49m\u001b[43mcurried\u001b[49m\u001b[43m,\u001b[49m\u001b[43m \u001b[49m\u001b[43mna_action\u001b[49m\u001b[43m=\u001b[49m\u001b[43maction\u001b[49m\u001b[43m,\u001b[49m\u001b[43m \u001b[49m\u001b[43mconvert\u001b[49m\u001b[43m=\u001b[49m\u001b[38;5;28;43mself\u001b[39;49m\u001b[43m.\u001b[49m\u001b[43mconvert_dtype\u001b[49m\n\u001b[32m   1504\u001b[39m \u001b[43m\u001b[49m\u001b[43m)\u001b[49m\n\u001b[32m   1506\u001b[39m \u001b[38;5;28;01mif\u001b[39;00m \u001b[38;5;28mlen\u001b[39m(mapped) \u001b[38;5;129;01mand\u001b[39;00m \u001b[38;5;28misinstance\u001b[39m(mapped[\u001b[32m0\u001b[39m], ABCSeries):\n\u001b[32m   1507\u001b[39m     \u001b[38;5;66;03m# GH#43986 Need to do list(mapped) in order to get treated as nested\u001b[39;00m\n\u001b[32m   1508\u001b[39m     \u001b[38;5;66;03m#  See also GH#25959 regarding EA support\u001b[39;00m\n\u001b[32m   1509\u001b[39m     \u001b[38;5;28;01mreturn\u001b[39;00m obj._constructor_expanddim(\u001b[38;5;28mlist\u001b[39m(mapped), index=obj.index)\n",
            "\u001b[36mFile \u001b[39m\u001b[32m/Library/Frameworks/Python.framework/Versions/3.13/lib/python3.13/site-packages/pandas/core/base.py:925\u001b[39m, in \u001b[36mIndexOpsMixin._map_values\u001b[39m\u001b[34m(self, mapper, na_action, convert)\u001b[39m\n\u001b[32m    922\u001b[39m \u001b[38;5;28;01mif\u001b[39;00m \u001b[38;5;28misinstance\u001b[39m(arr, ExtensionArray):\n\u001b[32m    923\u001b[39m     \u001b[38;5;28;01mreturn\u001b[39;00m arr.map(mapper, na_action=na_action)\n\u001b[32m--> \u001b[39m\u001b[32m925\u001b[39m \u001b[38;5;28;01mreturn\u001b[39;00m \u001b[43malgorithms\u001b[49m\u001b[43m.\u001b[49m\u001b[43mmap_array\u001b[49m\u001b[43m(\u001b[49m\u001b[43marr\u001b[49m\u001b[43m,\u001b[49m\u001b[43m \u001b[49m\u001b[43mmapper\u001b[49m\u001b[43m,\u001b[49m\u001b[43m \u001b[49m\u001b[43mna_action\u001b[49m\u001b[43m=\u001b[49m\u001b[43mna_action\u001b[49m\u001b[43m,\u001b[49m\u001b[43m \u001b[49m\u001b[43mconvert\u001b[49m\u001b[43m=\u001b[49m\u001b[43mconvert\u001b[49m\u001b[43m)\u001b[49m\n",
            "\u001b[36mFile \u001b[39m\u001b[32m/Library/Frameworks/Python.framework/Versions/3.13/lib/python3.13/site-packages/pandas/core/algorithms.py:1743\u001b[39m, in \u001b[36mmap_array\u001b[39m\u001b[34m(arr, mapper, na_action, convert)\u001b[39m\n\u001b[32m   1741\u001b[39m values = arr.astype(\u001b[38;5;28mobject\u001b[39m, copy=\u001b[38;5;28;01mFalse\u001b[39;00m)\n\u001b[32m   1742\u001b[39m \u001b[38;5;28;01mif\u001b[39;00m na_action \u001b[38;5;129;01mis\u001b[39;00m \u001b[38;5;28;01mNone\u001b[39;00m:\n\u001b[32m-> \u001b[39m\u001b[32m1743\u001b[39m     \u001b[38;5;28;01mreturn\u001b[39;00m \u001b[43mlib\u001b[49m\u001b[43m.\u001b[49m\u001b[43mmap_infer\u001b[49m\u001b[43m(\u001b[49m\u001b[43mvalues\u001b[49m\u001b[43m,\u001b[49m\u001b[43m \u001b[49m\u001b[43mmapper\u001b[49m\u001b[43m,\u001b[49m\u001b[43m \u001b[49m\u001b[43mconvert\u001b[49m\u001b[43m=\u001b[49m\u001b[43mconvert\u001b[49m\u001b[43m)\u001b[49m\n\u001b[32m   1744\u001b[39m \u001b[38;5;28;01melse\u001b[39;00m:\n\u001b[32m   1745\u001b[39m     \u001b[38;5;28;01mreturn\u001b[39;00m lib.map_infer_mask(\n\u001b[32m   1746\u001b[39m         values, mapper, mask=isna(values).view(np.uint8), convert=convert\n\u001b[32m   1747\u001b[39m     )\n",
            "\u001b[36mFile \u001b[39m\u001b[32mpandas/_libs/lib.pyx:2999\u001b[39m, in \u001b[36mpandas._libs.lib.map_infer\u001b[39m\u001b[34m()\u001b[39m\n",
            "\u001b[36mCell\u001b[39m\u001b[36m \u001b[39m\u001b[32mIn[103]\u001b[39m\u001b[32m, line 4\u001b[39m, in \u001b[36m<lambda>\u001b[39m\u001b[34m(muts)\u001b[39m\n\u001b[32m      1\u001b[39m lincs[\u001b[33m'\u001b[39m\u001b[33mmutations\u001b[39m\u001b[33m'\u001b[39m] = lincs[\u001b[33m'\u001b[39m\u001b[33mmutations\u001b[39m\u001b[33m'\u001b[39m].apply(\u001b[38;5;28;01mlambda\u001b[39;00m x: x \u001b[38;5;28;01mif\u001b[39;00m \u001b[38;5;28misinstance\u001b[39m(x, \u001b[38;5;28mlist\u001b[39m) \u001b[38;5;28;01melse\u001b[39;00m [])\n\u001b[32m      2\u001b[39m \u001b[38;5;28;01mfor\u001b[39;00m mut \u001b[38;5;129;01min\u001b[39;00m all_mutations:\n\u001b[32m      3\u001b[39m     lincs[mut] = lincs[\u001b[33m'\u001b[39m\u001b[33mmutations\u001b[39m\u001b[33m'\u001b[39m].apply(\n\u001b[32m----> \u001b[39m\u001b[32m4\u001b[39m         \u001b[38;5;28;01mlambda\u001b[39;00m muts: \u001b[38;5;28mint\u001b[39m(\u001b[38;5;28;43many\u001b[39;49m\u001b[43m(\u001b[49m\u001b[43mm\u001b[49m\u001b[43m[\u001b[49m\u001b[33;43m'\u001b[39;49m\u001b[33;43mDNAChange\u001b[39;49m\u001b[33;43m'\u001b[39;49m\u001b[43m]\u001b[49m\u001b[43m \u001b[49m\u001b[43m==\u001b[49m\u001b[43m \u001b[49m\u001b[43mmut\u001b[49m\u001b[43m \u001b[49m\u001b[38;5;28;43;01mfor\u001b[39;49;00m\u001b[43m \u001b[49m\u001b[43mm\u001b[49m\u001b[43m \u001b[49m\u001b[38;5;129;43;01min\u001b[39;49;00m\u001b[43m \u001b[49m\u001b[43mmuts\u001b[49m\u001b[43m)\u001b[49m)\n\u001b[32m      5\u001b[39m     )\n",
            "\u001b[36mCell\u001b[39m\u001b[36m \u001b[39m\u001b[32mIn[103]\u001b[39m\u001b[32m, line 4\u001b[39m, in \u001b[36m<genexpr>\u001b[39m\u001b[34m(.0)\u001b[39m\n\u001b[32m      1\u001b[39m lincs[\u001b[33m'\u001b[39m\u001b[33mmutations\u001b[39m\u001b[33m'\u001b[39m] = lincs[\u001b[33m'\u001b[39m\u001b[33mmutations\u001b[39m\u001b[33m'\u001b[39m].apply(\u001b[38;5;28;01mlambda\u001b[39;00m x: x \u001b[38;5;28;01mif\u001b[39;00m \u001b[38;5;28misinstance\u001b[39m(x, \u001b[38;5;28mlist\u001b[39m) \u001b[38;5;28;01melse\u001b[39;00m [])\n\u001b[32m      2\u001b[39m \u001b[38;5;28;01mfor\u001b[39;00m mut \u001b[38;5;129;01min\u001b[39;00m all_mutations:\n\u001b[32m      3\u001b[39m     lincs[mut] = lincs[\u001b[33m'\u001b[39m\u001b[33mmutations\u001b[39m\u001b[33m'\u001b[39m].apply(\n\u001b[32m----> \u001b[39m\u001b[32m4\u001b[39m         \u001b[38;5;28;01mlambda\u001b[39;00m muts: \u001b[38;5;28mint\u001b[39m(\u001b[38;5;28many\u001b[39m(m[\u001b[33m'\u001b[39m\u001b[33mDNAChange\u001b[39m\u001b[33m'\u001b[39m] == mut \u001b[38;5;28;01mfor\u001b[39;00m m \u001b[38;5;129;01min\u001b[39;00m muts))\n\u001b[32m      5\u001b[39m     )\n",
            "\u001b[31mKeyboardInterrupt\u001b[39m: "
          ]
        }
      ],
      "source": [
        "lincs['mutations'] = lincs['mutations'].apply(lambda x: x if isinstance(x, list) else [])\n",
        "for mut in all_mutations:\n",
        "    lincs[mut] = lincs['mutations'].apply(\n",
        "        lambda muts: int(any(m['DNAChange'] == mut for m in muts))\n",
        "    )"
      ]
    },
    {
      "cell_type": "code",
      "execution_count": 106,
      "metadata": {},
      "outputs": [],
      "source": [
        "from sklearn.preprocessing import MultiLabelBinarizer\n",
        "\n",
        "lincs['mutations'] = lincs['mutations'].apply(lambda x: x if isinstance(x, list) else [])\n",
        "# Extract DNAChange for each row\n",
        "mutation_lists = lincs['mutations'].apply(\n",
        "    lambda muts: [m['DNAChange'] for m in muts if 'DNAChange' in m]\n",
        ")"
      ]
    },
    {
      "cell_type": "code",
      "execution_count": null,
      "metadata": {},
      "outputs": [
        {
          "data": {
            "text/plain": [
              "0         [ENST00000357726.5:c.938C>T, ENST00000375759.8...\n",
              "1         [ENST00000357726.5:c.938C>T, ENST00000375759.8...\n",
              "2         [ENST00000357726.5:c.938C>T, ENST00000375759.8...\n",
              "3         [ENST00000357726.5:c.938C>T, ENST00000375759.8...\n",
              "4         [ENST00000357726.5:c.938C>T, ENST00000375759.8...\n",
              "                                ...                        \n",
              "182141    [ENST00000375759.8:c.7947_7967del, ENST0000040...\n",
              "182142    [ENST00000234590.10:c.795T>G, ENST00000377205....\n",
              "182143    [ENST00000234590.10:c.795T>G, ENST00000377205....\n",
              "182144    [ENST00000234590.10:c.795T>G, ENST00000377205....\n",
              "182145    [ENST00000234590.10:c.795T>G, ENST00000377205....\n",
              "Name: mutations, Length: 182146, dtype: object"
            ]
          },
          "execution_count": 107,
          "metadata": {},
          "output_type": "execute_result"
        }
      ],
      "source": [
        "mutation_lists_flattened = [item for sublist in mutation_lists for item in sublist]\n",
        "mutation_unique = "
      ]
    },
    {
      "cell_type": "code",
      "execution_count": null,
      "metadata": {},
      "outputs": [
        {
          "ename": "TypeError",
          "evalue": "'<' not supported between instances of 'float' and 'str'",
          "output_type": "error",
          "traceback": [
            "\u001b[31m---------------------------------------------------------------------------\u001b[39m",
            "\u001b[31mTypeError\u001b[39m                                 Traceback (most recent call last)",
            "\u001b[36mCell\u001b[39m\u001b[36m \u001b[39m\u001b[32mIn[105]\u001b[39m\u001b[32m, line 10\u001b[39m\n\u001b[32m      5\u001b[39m mutation_lists = lincs[\u001b[33m'\u001b[39m\u001b[33mmutations\u001b[39m\u001b[33m'\u001b[39m].apply(\n\u001b[32m      6\u001b[39m     \u001b[38;5;28;01mlambda\u001b[39;00m muts: [m[\u001b[33m'\u001b[39m\u001b[33mDNAChange\u001b[39m\u001b[33m'\u001b[39m] \u001b[38;5;28;01mfor\u001b[39;00m m \u001b[38;5;129;01min\u001b[39;00m muts \u001b[38;5;28;01mif\u001b[39;00m \u001b[33m'\u001b[39m\u001b[33mDNAChange\u001b[39m\u001b[33m'\u001b[39m \u001b[38;5;129;01min\u001b[39;00m m]\n\u001b[32m      7\u001b[39m )\n\u001b[32m      9\u001b[39m mlb = MultiLabelBinarizer()\n\u001b[32m---> \u001b[39m\u001b[32m10\u001b[39m mutation_matrix = \u001b[43mmlb\u001b[49m\u001b[43m.\u001b[49m\u001b[43mfit_transform\u001b[49m\u001b[43m(\u001b[49m\u001b[43mmutation_lists\u001b[49m\u001b[43m)\u001b[49m\n\u001b[32m     12\u001b[39m \u001b[38;5;66;03m# Create a DataFrame with the binary matrix\u001b[39;00m\n\u001b[32m     13\u001b[39m mutation_df = pd.DataFrame(\n\u001b[32m     14\u001b[39m     mutation_matrix, columns=mlb.classes_, index=lincs.index\n\u001b[32m     15\u001b[39m )\n",
            "\u001b[36mFile \u001b[39m\u001b[32m/Library/Frameworks/Python.framework/Versions/3.13/lib/python3.13/site-packages/sklearn/base.py:1363\u001b[39m, in \u001b[36m_fit_context.<locals>.decorator.<locals>.wrapper\u001b[39m\u001b[34m(estimator, *args, **kwargs)\u001b[39m\n\u001b[32m   1356\u001b[39m     estimator._validate_params()\n\u001b[32m   1358\u001b[39m \u001b[38;5;28;01mwith\u001b[39;00m config_context(\n\u001b[32m   1359\u001b[39m     skip_parameter_validation=(\n\u001b[32m   1360\u001b[39m         prefer_skip_nested_validation \u001b[38;5;129;01mor\u001b[39;00m global_skip_validation\n\u001b[32m   1361\u001b[39m     )\n\u001b[32m   1362\u001b[39m ):\n\u001b[32m-> \u001b[39m\u001b[32m1363\u001b[39m     \u001b[38;5;28;01mreturn\u001b[39;00m \u001b[43mfit_method\u001b[49m\u001b[43m(\u001b[49m\u001b[43mestimator\u001b[49m\u001b[43m,\u001b[49m\u001b[43m \u001b[49m\u001b[43m*\u001b[49m\u001b[43margs\u001b[49m\u001b[43m,\u001b[49m\u001b[43m \u001b[49m\u001b[43m*\u001b[49m\u001b[43m*\u001b[49m\u001b[43mkwargs\u001b[49m\u001b[43m)\u001b[49m\n",
            "\u001b[36mFile \u001b[39m\u001b[32m/Library/Frameworks/Python.framework/Versions/3.13/lib/python3.13/site-packages/sklearn/preprocessing/_label.py:837\u001b[39m, in \u001b[36mMultiLabelBinarizer.fit_transform\u001b[39m\u001b[34m(self, y)\u001b[39m\n\u001b[32m    835\u001b[39m class_mapping = np.empty(\u001b[38;5;28mlen\u001b[39m(tmp), dtype=dtype)\n\u001b[32m    836\u001b[39m class_mapping[:] = tmp\n\u001b[32m--> \u001b[39m\u001b[32m837\u001b[39m \u001b[38;5;28mself\u001b[39m.classes_, inverse = \u001b[43mnp\u001b[49m\u001b[43m.\u001b[49m\u001b[43munique\u001b[49m\u001b[43m(\u001b[49m\u001b[43mclass_mapping\u001b[49m\u001b[43m,\u001b[49m\u001b[43m \u001b[49m\u001b[43mreturn_inverse\u001b[49m\u001b[43m=\u001b[49m\u001b[38;5;28;43;01mTrue\u001b[39;49;00m\u001b[43m)\u001b[49m\n\u001b[32m    838\u001b[39m \u001b[38;5;66;03m# ensure yt.indices keeps its current dtype\u001b[39;00m\n\u001b[32m    839\u001b[39m yt.indices = np.asarray(inverse[yt.indices], dtype=yt.indices.dtype)\n",
            "\u001b[36mFile \u001b[39m\u001b[32m/Library/Frameworks/Python.framework/Versions/3.13/lib/python3.13/site-packages/numpy/lib/_arraysetops_impl.py:294\u001b[39m, in \u001b[36munique\u001b[39m\u001b[34m(ar, return_index, return_inverse, return_counts, axis, equal_nan, sorted)\u001b[39m\n\u001b[32m    292\u001b[39m ar = np.asanyarray(ar)\n\u001b[32m    293\u001b[39m \u001b[38;5;28;01mif\u001b[39;00m axis \u001b[38;5;129;01mis\u001b[39;00m \u001b[38;5;28;01mNone\u001b[39;00m:\n\u001b[32m--> \u001b[39m\u001b[32m294\u001b[39m     ret = \u001b[43m_unique1d\u001b[49m\u001b[43m(\u001b[49m\u001b[43mar\u001b[49m\u001b[43m,\u001b[49m\u001b[43m \u001b[49m\u001b[43mreturn_index\u001b[49m\u001b[43m,\u001b[49m\u001b[43m \u001b[49m\u001b[43mreturn_inverse\u001b[49m\u001b[43m,\u001b[49m\u001b[43m \u001b[49m\u001b[43mreturn_counts\u001b[49m\u001b[43m,\u001b[49m\n\u001b[32m    295\u001b[39m \u001b[43m                    \u001b[49m\u001b[43mequal_nan\u001b[49m\u001b[43m=\u001b[49m\u001b[43mequal_nan\u001b[49m\u001b[43m,\u001b[49m\u001b[43m \u001b[49m\u001b[43minverse_shape\u001b[49m\u001b[43m=\u001b[49m\u001b[43mar\u001b[49m\u001b[43m.\u001b[49m\u001b[43mshape\u001b[49m\u001b[43m,\u001b[49m\u001b[43m \u001b[49m\u001b[43maxis\u001b[49m\u001b[43m=\u001b[49m\u001b[38;5;28;43;01mNone\u001b[39;49;00m\u001b[43m,\u001b[49m\n\u001b[32m    296\u001b[39m \u001b[43m                    \u001b[49m\u001b[38;5;28;43msorted\u001b[39;49m\u001b[43m=\u001b[49m\u001b[38;5;28;43msorted\u001b[39;49m\u001b[43m)\u001b[49m\n\u001b[32m    297\u001b[39m     \u001b[38;5;28;01mreturn\u001b[39;00m _unpack_tuple(ret)\n\u001b[32m    299\u001b[39m \u001b[38;5;66;03m# axis was specified and not None\u001b[39;00m\n",
            "\u001b[36mFile \u001b[39m\u001b[32m/Library/Frameworks/Python.framework/Versions/3.13/lib/python3.13/site-packages/numpy/lib/_arraysetops_impl.py:379\u001b[39m, in \u001b[36m_unique1d\u001b[39m\u001b[34m(ar, return_index, return_inverse, return_counts, equal_nan, inverse_shape, axis, sorted)\u001b[39m\n\u001b[32m    377\u001b[39m \u001b[38;5;66;03m# If we don't use the hash map, we use the slower sorting method.\u001b[39;00m\n\u001b[32m    378\u001b[39m \u001b[38;5;28;01mif\u001b[39;00m optional_indices:\n\u001b[32m--> \u001b[39m\u001b[32m379\u001b[39m     perm = \u001b[43mar\u001b[49m\u001b[43m.\u001b[49m\u001b[43margsort\u001b[49m\u001b[43m(\u001b[49m\u001b[43mkind\u001b[49m\u001b[43m=\u001b[49m\u001b[33;43m'\u001b[39;49m\u001b[33;43mmergesort\u001b[39;49m\u001b[33;43m'\u001b[39;49m\u001b[43m \u001b[49m\u001b[38;5;28;43;01mif\u001b[39;49;00m\u001b[43m \u001b[49m\u001b[43mreturn_index\u001b[49m\u001b[43m \u001b[49m\u001b[38;5;28;43;01melse\u001b[39;49;00m\u001b[43m \u001b[49m\u001b[33;43m'\u001b[39;49m\u001b[33;43mquicksort\u001b[39;49m\u001b[33;43m'\u001b[39;49m\u001b[43m)\u001b[49m\n\u001b[32m    380\u001b[39m     aux = ar[perm]\n\u001b[32m    381\u001b[39m \u001b[38;5;28;01melse\u001b[39;00m:\n",
            "\u001b[31mTypeError\u001b[39m: '<' not supported between instances of 'float' and 'str'"
          ]
        }
      ],
      "source": [
        "\n",
        "mlb = MultiLabelBinarizer()\n",
        "mutation_matrix = mlb.fit_transform(mutation_lists)\n",
        "\n",
        "# Create a DataFrame with the binary matrix\n",
        "mutation_df = pd.DataFrame(\n",
        "    mutation_matrix, columns=mlb.classes_, index=lincs.index\n",
        ")\n",
        "\n",
        "# Concatenate with the original DataFrame if needed\n",
        "#lincs = pd.concat([lincs, mutation_df], axis=1)\n"
      ]
    },
    {
      "cell_type": "code",
      "execution_count": 19,
      "metadata": {},
      "outputs": [],
      "source": [
        "lincs.to_parquet(path='data/lincs_top0.7_variants.parquet', engine='pyarrow')"
      ]
    }
  ],
  "metadata": {
    "colab": {
      "provenance": []
    },
    "kernelspec": {
      "display_name": "Python 3",
      "name": "python3"
    },
    "language_info": {
      "codemirror_mode": {
        "name": "ipython",
        "version": 3
      },
      "file_extension": ".py",
      "mimetype": "text/x-python",
      "name": "python",
      "nbconvert_exporter": "python",
      "pygments_lexer": "ipython3",
      "version": "3.13.3"
    }
  },
  "nbformat": 4,
  "nbformat_minor": 0
}
