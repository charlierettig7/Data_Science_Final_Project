{
 "cells": [
  {
   "cell_type": "code",
   "execution_count": 2,
   "id": "9791068a",
   "metadata": {},
   "outputs": [],
   "source": [
    "import sys\n",
    "sys.path.insert(0,'/home/olgan96/.env/lib/python3.11/site-packages/')"
   ]
  },
  {
   "cell_type": "code",
   "execution_count": 3,
   "id": "0651a86a",
   "metadata": {},
   "outputs": [],
   "source": [
    "#!pip3 install cmapBQ -q"
   ]
  },
  {
   "cell_type": "code",
   "execution_count": 4,
   "id": "85c3ff0d",
   "metadata": {},
   "outputs": [],
   "source": [
    "import pandas as pd\n",
    "from tqdm import tqdm\n",
    "import cmapBQ.query as cmap_query\n",
    "import cmapBQ.config as cmap_config"
   ]
  },
  {
   "cell_type": "code",
   "execution_count": 4,
   "id": "d5ad42b1",
   "metadata": {},
   "outputs": [],
   "source": [
    "# URL with credentials\n",
    "credentials_filepath='../BQ-demo-credentials.json'\n",
    "# Set up credentials\n",
    "cmap_config.setup_credentials(credentials_filepath)\n",
    "bq_client = cmap_config.get_bq_client()"
   ]
  },
  {
   "cell_type": "code",
   "execution_count": 6,
   "id": "0406de58",
   "metadata": {},
   "outputs": [],
   "source": [
    "df_sig = pd.read_parquet('../../NO_BACKUP/lincs_2020/sig_overlap.parquet')"
   ]
  },
  {
   "cell_type": "code",
   "execution_count": 7,
   "id": "a9174a64",
   "metadata": {},
   "outputs": [],
   "source": [
    "sig_ids = df_sig.sig_id.values\n",
    "n = len(sig_ids)//4000"
   ]
  },
  {
   "cell_type": "code",
   "execution_count": 6,
   "id": "9448b783",
   "metadata": {},
   "outputs": [
    {
     "name": "stderr",
     "output_type": "stream",
     "text": [
      "\r",
      "  0%|          | 0/17 [00:00<?, ?it/s]"
     ]
    },
    {
     "name": "stdout",
     "output_type": "stream",
     "text": [
      "Running query ... (1/4)\n",
      "Total bytes processed: 0.0B\n",
      "Total bytes billed: 0.0B\n",
      "Running query ... (2/4)\n",
      "Total bytes processed: 0.0B\n",
      "Total bytes billed: 0.0B\n",
      "Running query ... (3/4)\n",
      "Total bytes processed: 0.0B\n",
      "Total bytes billed: 0.0B\n",
      "Running query ... (4/4)\n",
      "Total bytes processed: 0.0B\n",
      "Total bytes billed: 0.0B\n",
      "Pivoting Dataframes to GCT objects\n",
      "Complete\n"
     ]
    },
    {
     "name": "stderr",
     "output_type": "stream",
     "text": [
      "\r",
      "  6%|▌         | 1/17 [01:33<24:58, 93.67s/it]"
     ]
    },
    {
     "name": "stdout",
     "output_type": "stream",
     "text": [
      "Running query ... (1/4)\n",
      "Total bytes processed: 0.0B\n",
      "Total bytes billed: 0.0B\n",
      "Running query ... (2/4)\n",
      "Total bytes processed: 0.0B\n",
      "Total bytes billed: 0.0B\n",
      "Running query ... (3/4)\n",
      "Total bytes processed: 0.0B\n",
      "Total bytes billed: 0.0B\n",
      "Running query ... (4/4)\n",
      "Total bytes processed: 0.0B\n",
      "Total bytes billed: 0.0B\n",
      "Pivoting Dataframes to GCT objects\n",
      "Complete\n"
     ]
    },
    {
     "name": "stderr",
     "output_type": "stream",
     "text": [
      "\r",
      " 12%|█▏        | 2/17 [03:14<24:25, 97.69s/it]"
     ]
    },
    {
     "name": "stdout",
     "output_type": "stream",
     "text": [
      "Running query ... (1/4)\n",
      "Total bytes processed: 0.0B\n",
      "Total bytes billed: 0.0B\n",
      "Running query ... (2/4)\n",
      "Total bytes processed: 0.0B\n",
      "Total bytes billed: 0.0B\n",
      "Running query ... (3/4)\n",
      "Total bytes processed: 0.0B\n",
      "Total bytes billed: 0.0B\n",
      "Running query ... (4/4)\n",
      "Total bytes processed: 0.0B\n",
      "Total bytes billed: 0.0B\n",
      "Pivoting Dataframes to GCT objects\n",
      "Complete\n"
     ]
    },
    {
     "name": "stderr",
     "output_type": "stream",
     "text": [
      "\r",
      " 18%|█▊        | 3/17 [04:51<22:46, 97.59s/it]"
     ]
    },
    {
     "name": "stdout",
     "output_type": "stream",
     "text": [
      "Running query ... (1/4)\n",
      "Total bytes processed: 0.0B\n",
      "Total bytes billed: 0.0B\n",
      "Running query ... (2/4)\n",
      "Total bytes processed: 0.0B\n",
      "Total bytes billed: 0.0B\n",
      "Running query ... (3/4)\n",
      "Total bytes processed: 0.0B\n",
      "Total bytes billed: 0.0B\n",
      "Running query ... (4/4)\n",
      "Total bytes processed: 0.0B\n",
      "Total bytes billed: 0.0B\n",
      "Pivoting Dataframes to GCT objects\n",
      "Complete\n"
     ]
    },
    {
     "name": "stderr",
     "output_type": "stream",
     "text": [
      "\r",
      " 24%|██▎       | 4/17 [06:33<21:31, 99.38s/it]"
     ]
    },
    {
     "name": "stdout",
     "output_type": "stream",
     "text": [
      "Running query ... (1/4)\n",
      "Total bytes processed: 0.0B\n",
      "Total bytes billed: 0.0B\n",
      "Running query ... (2/4)\n",
      "Total bytes processed: 0.0B\n",
      "Total bytes billed: 0.0B\n",
      "Running query ... (3/4)\n",
      "Total bytes processed: 0.0B\n",
      "Total bytes billed: 0.0B\n",
      "Running query ... (4/4)\n",
      "Total bytes processed: 0.0B\n",
      "Total bytes billed: 0.0B\n",
      "Pivoting Dataframes to GCT objects\n",
      "Complete\n"
     ]
    },
    {
     "name": "stderr",
     "output_type": "stream",
     "text": [
      "\r",
      " 29%|██▉       | 5/17 [08:16<20:06, 100.55s/it]"
     ]
    },
    {
     "name": "stdout",
     "output_type": "stream",
     "text": [
      "Running query ... (1/4)\n",
      "Total bytes processed: 0.0B\n",
      "Total bytes billed: 0.0B\n",
      "Running query ... (2/4)\n",
      "Total bytes processed: 0.0B\n",
      "Total bytes billed: 0.0B\n",
      "Running query ... (3/4)\n",
      "Total bytes processed: 0.0B\n",
      "Total bytes billed: 0.0B\n",
      "Running query ... (4/4)\n",
      "Total bytes processed: 0.0B\n",
      "Total bytes billed: 0.0B\n",
      "Pivoting Dataframes to GCT objects\n",
      "Complete\n"
     ]
    },
    {
     "name": "stderr",
     "output_type": "stream",
     "text": [
      "\r",
      " 35%|███▌      | 6/17 [09:55<18:21, 100.18s/it]"
     ]
    },
    {
     "name": "stdout",
     "output_type": "stream",
     "text": [
      "Running query ... (1/4)\n",
      "Total bytes processed: 0.0B\n",
      "Total bytes billed: 0.0B\n",
      "Running query ... (2/4)\n",
      "Total bytes processed: 0.0B\n",
      "Total bytes billed: 0.0B\n",
      "Running query ... (3/4)\n",
      "Total bytes processed: 0.0B\n",
      "Total bytes billed: 0.0B\n",
      "Running query ... (4/4)\n",
      "Total bytes processed: 0.0B\n",
      "Total bytes billed: 0.0B\n",
      "Pivoting Dataframes to GCT objects\n",
      "Complete\n"
     ]
    },
    {
     "name": "stderr",
     "output_type": "stream",
     "text": [
      "\r",
      " 41%|████      | 7/17 [11:43<17:06, 102.66s/it]"
     ]
    },
    {
     "name": "stdout",
     "output_type": "stream",
     "text": [
      "Running query ... (1/4)\n",
      "Total bytes processed: 0.0B\n",
      "Total bytes billed: 0.0B\n",
      "Running query ... (2/4)\n",
      "Total bytes processed: 0.0B\n",
      "Total bytes billed: 0.0B\n",
      "Running query ... (3/4)\n",
      "Total bytes processed: 0.0B\n",
      "Total bytes billed: 0.0B\n",
      "Running query ... (4/4)\n",
      "Pivoting Dataframes to GCT objects\n",
      "Complete\n"
     ]
    },
    {
     "name": "stderr",
     "output_type": "stream",
     "text": [
      "\r",
      " 47%|████▋     | 8/17 [13:24<15:19, 102.18s/it]"
     ]
    },
    {
     "name": "stdout",
     "output_type": "stream",
     "text": [
      "Running query ... (1/4)\n",
      "Total bytes processed: 0.0B\n",
      "Total bytes billed: 0.0B\n",
      "Running query ... (2/4)\n",
      "Total bytes processed: 0.0B\n",
      "Total bytes billed: 0.0B\n",
      "Running query ... (3/4)\n",
      "Total bytes processed: 0.0B\n",
      "Total bytes billed: 0.0B\n",
      "Running query ... (4/4)\n",
      "Total bytes processed: 0.0B\n",
      "Total bytes billed: 0.0B\n",
      "Pivoting Dataframes to GCT objects\n",
      "Complete\n"
     ]
    },
    {
     "name": "stderr",
     "output_type": "stream",
     "text": [
      "\r",
      " 53%|█████▎    | 9/17 [15:04<13:30, 101.30s/it]"
     ]
    },
    {
     "name": "stdout",
     "output_type": "stream",
     "text": [
      "Running query ... (1/4)\n",
      "Total bytes processed: 0.0B\n",
      "Total bytes billed: 0.0B\n",
      "Running query ... (2/4)\n",
      "Total bytes processed: 0.0B\n",
      "Total bytes billed: 0.0B\n",
      "Running query ... (3/4)\n",
      "Total bytes processed: 0.0B\n",
      "Total bytes billed: 0.0B\n",
      "Running query ... (4/4)\n",
      "Total bytes processed: 0.0B\n",
      "Total bytes billed: 0.0B\n",
      "Pivoting Dataframes to GCT objects\n",
      "Complete\n"
     ]
    },
    {
     "name": "stderr",
     "output_type": "stream",
     "text": [
      "\r",
      " 59%|█████▉    | 10/17 [16:45<11:49, 101.40s/it]"
     ]
    },
    {
     "name": "stdout",
     "output_type": "stream",
     "text": [
      "Running query ... (1/4)\n",
      "Total bytes processed: 0.0B\n",
      "Total bytes billed: 0.0B\n",
      "Running query ... (2/4)\n",
      "Total bytes processed: 0.0B\n",
      "Total bytes billed: 0.0B\n",
      "Running query ... (3/4)\n",
      "Total bytes processed: 0.0B\n",
      "Total bytes billed: 0.0B\n",
      "Running query ... (4/4)\n",
      "Total bytes processed: 0.0B\n",
      "Total bytes billed: 0.0B\n",
      "Pivoting Dataframes to GCT objects\n",
      "Complete\n"
     ]
    },
    {
     "name": "stderr",
     "output_type": "stream",
     "text": [
      "\r",
      " 65%|██████▍   | 11/17 [18:25<10:06, 101.02s/it]"
     ]
    },
    {
     "name": "stdout",
     "output_type": "stream",
     "text": [
      "Running query ... (1/4)\n",
      "Total bytes processed: 0.0B\n",
      "Total bytes billed: 0.0B\n",
      "Running query ... (2/4)\n",
      "Total bytes processed: 0.0B\n",
      "Total bytes billed: 0.0B\n",
      "Running query ... (3/4)\n",
      "Total bytes processed: 0.0B\n",
      "Total bytes billed: 0.0B\n",
      "Running query ... (4/4)\n",
      "Total bytes processed: 0.0B\n",
      "Total bytes billed: 0.0B\n",
      "Pivoting Dataframes to GCT objects\n",
      "Complete\n"
     ]
    },
    {
     "name": "stderr",
     "output_type": "stream",
     "text": [
      "\r",
      " 71%|███████   | 12/17 [20:06<08:24, 100.88s/it]"
     ]
    },
    {
     "name": "stdout",
     "output_type": "stream",
     "text": [
      "Running query ... (1/4)\n",
      "Total bytes processed: 0.0B\n",
      "Total bytes billed: 0.0B\n",
      "Running query ... (2/4)\n",
      "Total bytes processed: 0.0B\n",
      "Total bytes billed: 0.0B\n",
      "Running query ... (3/4)\n",
      "Total bytes processed: 0.0B\n",
      "Total bytes billed: 0.0B\n",
      "Running query ... (4/4)\n",
      "Total bytes processed: 0.0B\n",
      "Total bytes billed: 0.0B\n",
      "Pivoting Dataframes to GCT objects\n",
      "Complete\n"
     ]
    },
    {
     "name": "stderr",
     "output_type": "stream",
     "text": [
      "\r",
      " 76%|███████▋  | 13/17 [21:48<06:44, 101.22s/it]"
     ]
    },
    {
     "name": "stdout",
     "output_type": "stream",
     "text": [
      "Running query ... (1/4)\n",
      "Total bytes processed: 0.0B\n",
      "Total bytes billed: 0.0B\n",
      "Running query ... (2/4)\n",
      "Total bytes processed: 0.0B\n",
      "Total bytes billed: 0.0B\n",
      "Running query ... (3/4)\n",
      "Total bytes processed: 0.0B\n",
      "Total bytes billed: 0.0B\n",
      "Running query ... (4/4)\n",
      "Total bytes processed: 0.0B\n",
      "Total bytes billed: 0.0B\n",
      "Pivoting Dataframes to GCT objects\n",
      "Complete\n"
     ]
    },
    {
     "name": "stderr",
     "output_type": "stream",
     "text": [
      "\r",
      " 82%|████████▏ | 14/17 [23:25<05:00, 100.07s/it]"
     ]
    },
    {
     "name": "stdout",
     "output_type": "stream",
     "text": [
      "Running query ... (1/4)\n",
      "Total bytes processed: 0.0B\n",
      "Total bytes billed: 0.0B\n",
      "Running query ... (2/4)\n",
      "Total bytes processed: 0.0B\n",
      "Total bytes billed: 0.0B\n",
      "Running query ... (3/4)\n",
      "Total bytes processed: 0.0B\n",
      "Total bytes billed: 0.0B\n",
      "Running query ... (4/4)\n",
      "Total bytes processed: 0.0B\n",
      "Total bytes billed: 0.0B\n",
      "Pivoting Dataframes to GCT objects\n",
      "Complete\n"
     ]
    },
    {
     "name": "stderr",
     "output_type": "stream",
     "text": [
      "\r",
      " 88%|████████▊ | 15/17 [25:16<03:26, 103.29s/it]"
     ]
    },
    {
     "name": "stdout",
     "output_type": "stream",
     "text": [
      "Running query ... (1/4)\n",
      "Total bytes processed: 0.0B\n",
      "Total bytes billed: 0.0B\n",
      "Running query ... (2/4)\n",
      "Total bytes processed: 0.0B\n",
      "Total bytes billed: 0.0B\n",
      "Running query ... (3/4)\n",
      "Total bytes processed: 0.0B\n",
      "Total bytes billed: 0.0B\n",
      "Running query ... (4/4)\n",
      "Total bytes processed: 0.0B\n",
      "Total bytes billed: 0.0B\n",
      "Pivoting Dataframes to GCT objects\n",
      "Complete\n"
     ]
    },
    {
     "name": "stderr",
     "output_type": "stream",
     "text": [
      "\r",
      " 94%|█████████▍| 16/17 [26:57<01:42, 102.50s/it]"
     ]
    },
    {
     "name": "stdout",
     "output_type": "stream",
     "text": [
      "Running query ... (1/1)\n",
      "Total bytes processed: 0.0B\n",
      "Total bytes billed: 0.0B\n",
      "Pivoting Dataframes to GCT objects\n",
      "Complete\n"
     ]
    },
    {
     "name": "stderr",
     "output_type": "stream",
     "text": [
      "100%|██████████| 17/17 [27:14<00:00, 96.12s/it] \n"
     ]
    }
   ],
   "source": [
    "\n",
    "\n",
    "for i in tqdm(range(n + 1)):\n",
    "    batch = sig_ids[i * 4000 :(i + 1) * 4000]\n",
    "    cmap_query.cmap_matrix(bq_client, cid=list(batch), verbose=False, feature_space='aig').data_df.T.to_parquet('../../NO_BACKUP/lincs_2020/matrices_inferred_genes/matrix_' + str(i) + '.parquet')"
   ]
  },
  {
   "cell_type": "code",
   "execution_count": 9,
   "id": "24547889",
   "metadata": {},
   "outputs": [
    {
     "name": "stderr",
     "output_type": "stream",
     "text": [
      "\n",
      "  0%|          | 0/16 [00:00<?, ?it/s]\u001b[A\n",
      "  6%|▋         | 1/16 [00:06<01:35,  6.33s/it]\u001b[A\n",
      " 12%|█▎        | 2/16 [00:11<01:17,  5.53s/it]\u001b[A\n",
      " 19%|█▉        | 3/16 [00:15<01:06,  5.11s/it]\u001b[A\n",
      " 25%|██▌       | 4/16 [00:21<01:01,  5.14s/it]\u001b[A\n",
      " 31%|███▏      | 5/16 [00:27<01:00,  5.48s/it]\u001b[A\n",
      " 38%|███▊      | 6/16 [00:33<00:58,  5.82s/it]\u001b[A\n",
      " 44%|████▍     | 7/16 [00:39<00:52,  5.80s/it]\u001b[A\n",
      " 50%|█████     | 8/16 [00:46<00:48,  6.08s/it]\u001b[A\n",
      " 56%|█████▋    | 9/16 [00:53<00:45,  6.49s/it]\u001b[A\n",
      " 62%|██████▎   | 10/16 [01:01<00:41,  6.90s/it]\u001b[A\n",
      " 69%|██████▉   | 11/16 [01:09<00:36,  7.27s/it]\u001b[A\n",
      " 75%|███████▌  | 12/16 [01:17<00:29,  7.44s/it]\u001b[A\n",
      " 81%|████████▏ | 13/16 [01:24<00:22,  7.50s/it]\u001b[A\n",
      " 88%|████████▊ | 14/16 [01:33<00:15,  7.89s/it]\u001b[A\n",
      " 94%|█████████▍| 15/16 [01:41<00:07,  7.89s/it]\u001b[A\n",
      "100%|██████████| 16/16 [01:46<00:00,  6.68s/it]\u001b[A\n"
     ]
    }
   ],
   "source": [
    "#Uniting downloaded matrices to one:\n",
    "i = 0\n",
    "matrices = pd.read_parquet('../../NO_BACKUP/lincs_2020/matrices_inferred_genes/matrix_' + str(i) + '.parquet')\n",
    "for i in tqdm(range(1, n + 1)):\n",
    "    matrix = pd.read_parquet('../../NO_BACKUP/lincs_2020/matrices_inferred_genes/matrix_' + str(i) + '.parquet')\n",
    "    matrices = pd.concat([matrices, matrix])"
   ]
  },
  {
   "cell_type": "code",
   "execution_count": 10,
   "id": "1eb227d6",
   "metadata": {},
   "outputs": [],
   "source": [
    "matrices.to_parquet('../../NO_BACKUP/lincs_2020/sig_matrix_filtered_inferred_genes.parquet', index=True)"
   ]
  }
 ],
 "metadata": {
  "kernelspec": {
   "display_name": "Python 3 (ipykernel)",
   "language": "python",
   "name": "python3"
  },
  "language_info": {
   "codemirror_mode": {
    "name": "ipython",
    "version": 3
   },
   "file_extension": ".py",
   "mimetype": "text/x-python",
   "name": "python",
   "nbconvert_exporter": "python",
   "pygments_lexer": "ipython3",
   "version": "3.11.2"
  }
 },
 "nbformat": 4,
 "nbformat_minor": 5
}
