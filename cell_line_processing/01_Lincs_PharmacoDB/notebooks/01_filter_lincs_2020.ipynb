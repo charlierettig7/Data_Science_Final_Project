{
 "cells": [
  {
   "cell_type": "code",
   "execution_count": 1,
   "id": "24396d16",
   "metadata": {},
   "outputs": [],
   "source": [
    "import sys\n",
    "sys.path.insert(0,'/home/olgan96/.env/lib/python3.11/site-packages/')"
   ]
  },
  {
   "cell_type": "code",
   "execution_count": 2,
   "id": "90ac5588",
   "metadata": {},
   "outputs": [],
   "source": [
    "import pandas as pd"
   ]
  },
  {
   "cell_type": "markdown",
   "id": "60638bc5",
   "metadata": {},
   "source": [
    "### A small filtration of a signature matrix:"
   ]
  },
  {
   "cell_type": "code",
   "execution_count": 3,
   "id": "bc2f8cc4",
   "metadata": {},
   "outputs": [],
   "source": [
    "siginfo_tumor_cp = pd.read_parquet('../NO_BACKUP/lincs_2020/sig_info.parquet')"
   ]
  },
  {
   "cell_type": "code",
   "execution_count": 4,
   "id": "96433590",
   "metadata": {},
   "outputs": [],
   "source": [
    "siginfo_tumor_cp = siginfo_tumor_cp[(siginfo_tumor_cp['qc_pass']>0)&(siginfo_tumor_cp['pert_time']==24)]"
   ]
  },
  {
   "cell_type": "code",
   "execution_count": 3,
   "id": "ad630378",
   "metadata": {},
   "outputs": [],
   "source": [
    "matrix = pd.read_parquet('../NO_BACKUP/lincs_2020/sig_matrix.parquet')"
   ]
  },
  {
   "cell_type": "code",
   "execution_count": 6,
   "id": "6d7e007a",
   "metadata": {},
   "outputs": [
    {
     "data": {
      "text/plain": [
       "323468"
      ]
     },
     "execution_count": 6,
     "metadata": {},
     "output_type": "execute_result"
    }
   ],
   "source": [
    "len(siginfo_tumor_cp['sig_id'].values)"
   ]
  },
  {
   "cell_type": "code",
   "execution_count": 7,
   "id": "ed798743",
   "metadata": {},
   "outputs": [],
   "source": [
    "matrix_ = matrix[matrix.index.isin(siginfo_tumor_cp['sig_id'].values)]"
   ]
  },
  {
   "cell_type": "code",
   "execution_count": 9,
   "id": "6aad2bc7",
   "metadata": {},
   "outputs": [],
   "source": [
    "matrix_.to_parquet('../NO_BACKUP/lincs_2020/sig_matrix_filtered.parquet', index=True)"
   ]
  }
 ],
 "metadata": {
  "kernelspec": {
   "display_name": "Python 3 (ipykernel)",
   "language": "python",
   "name": "python3"
  },
  "language_info": {
   "codemirror_mode": {
    "name": "ipython",
    "version": 3
   },
   "file_extension": ".py",
   "mimetype": "text/x-python",
   "name": "python",
   "nbconvert_exporter": "python",
   "pygments_lexer": "ipython3",
   "version": "3.11.2"
  }
 },
 "nbformat": 4,
 "nbformat_minor": 5
}
