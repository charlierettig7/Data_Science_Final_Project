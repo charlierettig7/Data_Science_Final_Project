{
 "cells": [
  {
   "cell_type": "code",
   "execution_count": 1,
   "id": "ca3d87de",
   "metadata": {},
   "outputs": [],
   "source": [
    "import sys\n",
    "import os\n",
    "from tqdm import tqdm\n",
    "sys.path.insert(0,'/home/olgan96/.env/lib/python3.11/site-packages/')"
   ]
  },
  {
   "cell_type": "code",
   "execution_count": 2,
   "id": "b7c56ff6",
   "metadata": {},
   "outputs": [],
   "source": [
    "import json\n",
    "import pandas as pd"
   ]
  },
  {
   "cell_type": "code",
   "execution_count": 3,
   "id": "2e2d6052",
   "metadata": {},
   "outputs": [],
   "source": [
    "path = '../NO_BACKUP/pharmacodb/compound_i'"
   ]
  },
  {
   "cell_type": "code",
   "execution_count": 4,
   "id": "9f7813e5",
   "metadata": {},
   "outputs": [
    {
     "data": {
      "text/plain": [
       "56150"
      ]
     },
     "execution_count": 4,
     "metadata": {},
     "output_type": "execute_result"
    }
   ],
   "source": [
    "len(os.listdir(path))"
   ]
  },
  {
   "cell_type": "code",
   "execution_count": 30,
   "id": "2bfaa3a6",
   "metadata": {},
   "outputs": [
    {
     "name": "stderr",
     "output_type": "stream",
     "text": [
      "100%|██████████| 56149/56149 [01:31<00:00, 612.60it/s]\n"
     ]
    }
   ],
   "source": [
    "\n",
    "filename = 'compound_' + str(i) + '.json'\n",
    "row = []\n",
    "table = []\n",
    "for i in tqdm(range(1, len(os.listdir(path)))):\n",
    "    filename = 'compound_' + str(i) + '.json'\n",
    "    with open(os.path.join(path, filename), 'r') as f:\n",
    "        response = json.loads(f.read())\n",
    "    if len(response['data']['singleCompound'])!=0:\n",
    "        row.append(response['data']['singleCompound']['compound']['id'])\n",
    "        row.append(response['data']['singleCompound']['compound']['name'])\n",
    "        row.append(response['data']['singleCompound']['compound']['uid'])\n",
    "        row.append(response['data']['singleCompound']['compound']['annotation']['inchikey'])\n",
    "        row.append(response['data']['singleCompound']['compound']['annotation']['smiles'])\n",
    "        row.append(response['data']['singleCompound']['compound']['annotation']['pubchem'])\n",
    "        row.append(response['data']['singleCompound']['compound']['annotation']['fda_status'])\n",
    "        row.append(response['data']['singleCompound']['compound']['annotation']['chembl'])\n",
    "        row.append(response['data']['singleCompound']['compound']['annotation']['reactome'])\n",
    "        table.append(row.copy())\n",
    "        row = []\n"
   ]
  },
  {
   "cell_type": "code",
   "execution_count": 34,
   "id": "99208d90",
   "metadata": {},
   "outputs": [],
   "source": [
    "df = pd.DataFrame(table).rename(columns={0: 'id', 1: 'name', 2: 'uid', 3: 'inchikey', 4: 'smiles', 5: 'pubchem', 6: 'fda_status', 7: 'chembl', 8: 'reactome'})"
   ]
  },
  {
   "cell_type": "code",
   "execution_count": 36,
   "id": "b1f622d7",
   "metadata": {},
   "outputs": [],
   "source": [
    "df.to_parquet('../NO_BACKUP/pharmacodb/compounds_pharmdb.parqeut', index=False)"
   ]
  }
 ],
 "metadata": {
  "kernelspec": {
   "display_name": "Python 3 (ipykernel)",
   "language": "python",
   "name": "python3"
  },
  "language_info": {
   "codemirror_mode": {
    "name": "ipython",
    "version": 3
   },
   "file_extension": ".py",
   "mimetype": "text/x-python",
   "name": "python",
   "nbconvert_exporter": "python",
   "pygments_lexer": "ipython3",
   "version": "3.11.2"
  }
 },
 "nbformat": 4,
 "nbformat_minor": 5
}
