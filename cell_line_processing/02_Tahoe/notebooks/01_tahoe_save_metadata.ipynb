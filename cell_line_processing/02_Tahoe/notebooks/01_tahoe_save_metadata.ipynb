{
 "cells": [
  {
   "cell_type": "code",
   "execution_count": 1,
   "id": "b691480f",
   "metadata": {},
   "outputs": [],
   "source": [
    "import sys\n",
    "from tqdm import tqdm as tqdm\n",
    "sys.path.insert(0,'/home/olgan96/.env/lib/python3.11/site-packages/')"
   ]
  },
  {
   "cell_type": "code",
   "execution_count": 2,
   "id": "030ead04",
   "metadata": {},
   "outputs": [],
   "source": [
    "import pandas as pd\n",
    "from scipy.sparse import csr_matrix\n",
    "import anndata\n",
    "import pandas as pd\n",
    "import pubchempy as pcp\n",
    "from tqdm import tqdm\n",
    "from datasets import load_dataset\n",
    "import pandas as pd"
   ]
  },
  {
   "cell_type": "code",
   "execution_count": null,
   "id": "b4f754f1",
   "metadata": {},
   "outputs": [],
   "source": []
  },
  {
   "cell_type": "code",
   "execution_count": 7,
   "id": "7069faec",
   "metadata": {},
   "outputs": [],
   "source": [
    "df = pd.read_parquet('../../NO_BACKUP/tahoe/obs_metadata_filtered.parquet')"
   ]
  },
  {
   "cell_type": "code",
   "execution_count": 6,
   "id": "6b592915",
   "metadata": {},
   "outputs": [
    {
     "data": {
      "application/vnd.jupyter.widget-view+json": {
       "model_id": "14b41efb4e01461d9e5100bef40cb570",
       "version_major": 2,
       "version_minor": 0
      },
      "text/plain": [
       "Resolving data files:   0%|          | 0/3388 [00:00<?, ?it/s]"
      ]
     },
     "metadata": {},
     "output_type": "display_data"
    }
   ],
   "source": [
    "# Load dataset in streaming mode\n",
    "#ds = \n",
    "drug_meta = load_dataset(\"tahoebio/Tahoe-100m\", 'drug_metadata', split=\"train\").to_pandas()\n",
    "# View the first record\n",
    "#next(ds.iter(1))"
   ]
  },
  {
   "cell_type": "code",
   "execution_count": 8,
   "id": "fb38d002",
   "metadata": {},
   "outputs": [],
   "source": [
    "drug_meta.to_parquet('../../NO_BACKUP/tahoe/drug_meta.parquet', index=False)"
   ]
  },
  {
   "cell_type": "code",
   "execution_count": 4,
   "id": "2ea8e625",
   "metadata": {},
   "outputs": [
    {
     "data": {
      "application/vnd.jupyter.widget-view+json": {
       "model_id": "81eb9e6e5ff8466c9bebd36f38cfdee0",
       "version_major": 2,
       "version_minor": 0
      },
      "text/plain": [
       "Resolving data files:   0%|          | 0/3388 [00:00<?, ?it/s]"
      ]
     },
     "metadata": {},
     "output_type": "display_data"
    },
    {
     "data": {
      "application/vnd.jupyter.widget-view+json": {
       "model_id": "823a4567e0464b9984b0a4f999f8f9f2",
       "version_major": 2,
       "version_minor": 0
      },
      "text/plain": [
       "gene_metadata.parquet:   0%|          | 0.00/1.33M [00:00<?, ?B/s]"
      ]
     },
     "metadata": {},
     "output_type": "display_data"
    },
    {
     "data": {
      "application/vnd.jupyter.widget-view+json": {
       "model_id": "c48e18773ad5459f964ed3bc6156d865",
       "version_major": 2,
       "version_minor": 0
      },
      "text/plain": [
       "Generating train split: 0 examples [00:00, ? examples/s]"
      ]
     },
     "metadata": {},
     "output_type": "display_data"
    }
   ],
   "source": [
    "# Load dataset in streaming mode\n",
    "#ds = \n",
    "gene_meta = load_dataset(\"tahoebio/Tahoe-100m\", 'gene_metadata', split=\"train\").to_pandas()\n",
    "# View the first record\n",
    "#next(ds.iter(1))"
   ]
  },
  {
   "cell_type": "code",
   "execution_count": 6,
   "id": "0fca8c46",
   "metadata": {},
   "outputs": [],
   "source": [
    "gene_meta.to_parquet('../../NO_BACKUP/tahoe/gene_meta.parquet', index=False)"
   ]
  },
  {
   "cell_type": "code",
   "execution_count": 3,
   "id": "d60a97a9",
   "metadata": {},
   "outputs": [
    {
     "data": {
      "application/vnd.jupyter.widget-view+json": {
       "model_id": "cf87e9cbb70c455db42f1bf2a470da0b",
       "version_major": 2,
       "version_minor": 0
      },
      "text/plain": [
       "README.md: 0.00B [00:00, ?B/s]"
      ]
     },
     "metadata": {},
     "output_type": "display_data"
    },
    {
     "data": {
      "application/vnd.jupyter.widget-view+json": {
       "model_id": "3d933e8d8720477d84f1d11fb76c2c5e",
       "version_major": 2,
       "version_minor": 0
      },
      "text/plain": [
       "Resolving data files:   0%|          | 0/3388 [00:00<?, ?it/s]"
      ]
     },
     "metadata": {},
     "output_type": "display_data"
    },
    {
     "data": {
      "application/vnd.jupyter.widget-view+json": {
       "model_id": "ac5aa0502b4b43ef8dc4480bf5658b2d",
       "version_major": 2,
       "version_minor": 0
      },
      "text/plain": [
       "Generating train split: 0 examples [00:00, ? examples/s]"
      ]
     },
     "metadata": {},
     "output_type": "display_data"
    },
    {
     "data": {
      "text/html": [
       "<div>\n",
       "<style scoped>\n",
       "    .dataframe tbody tr th:only-of-type {\n",
       "        vertical-align: middle;\n",
       "    }\n",
       "\n",
       "    .dataframe tbody tr th {\n",
       "        vertical-align: top;\n",
       "    }\n",
       "\n",
       "    .dataframe thead th {\n",
       "        text-align: right;\n",
       "    }\n",
       "</style>\n",
       "<table border=\"1\" class=\"dataframe\">\n",
       "  <thead>\n",
       "    <tr style=\"text-align: right;\">\n",
       "      <th></th>\n",
       "      <th>cell_name</th>\n",
       "      <th>Cell_ID_DepMap</th>\n",
       "      <th>Cell_ID_Cellosaur</th>\n",
       "      <th>Organ</th>\n",
       "      <th>Driver_Gene_Symbol</th>\n",
       "      <th>Driver_VarZyg</th>\n",
       "      <th>Driver_VarType</th>\n",
       "      <th>Driver_ProtEffect_or_CdnaEffect</th>\n",
       "      <th>Driver_Mech_InferDM</th>\n",
       "      <th>Driver_GeneType_DM</th>\n",
       "    </tr>\n",
       "  </thead>\n",
       "  <tbody>\n",
       "    <tr>\n",
       "      <th>0</th>\n",
       "      <td>A549</td>\n",
       "      <td>ACH-000681</td>\n",
       "      <td>CVCL_0023</td>\n",
       "      <td>Lung</td>\n",
       "      <td>CDKN2A</td>\n",
       "      <td>Hom</td>\n",
       "      <td>Deletion</td>\n",
       "      <td>DEL</td>\n",
       "      <td>LoF</td>\n",
       "      <td>Suppressor</td>\n",
       "    </tr>\n",
       "    <tr>\n",
       "      <th>1</th>\n",
       "      <td>A549</td>\n",
       "      <td>ACH-000681</td>\n",
       "      <td>CVCL_0023</td>\n",
       "      <td>Lung</td>\n",
       "      <td>CDKN2B</td>\n",
       "      <td>Hom</td>\n",
       "      <td>Deletion</td>\n",
       "      <td>DEL</td>\n",
       "      <td>LoF</td>\n",
       "      <td>Suppressor</td>\n",
       "    </tr>\n",
       "    <tr>\n",
       "      <th>2</th>\n",
       "      <td>A549</td>\n",
       "      <td>ACH-000681</td>\n",
       "      <td>CVCL_0023</td>\n",
       "      <td>Lung</td>\n",
       "      <td>KRAS</td>\n",
       "      <td>Hom</td>\n",
       "      <td>Missense</td>\n",
       "      <td>p.G12S</td>\n",
       "      <td>GoF</td>\n",
       "      <td>Oncogene</td>\n",
       "    </tr>\n",
       "    <tr>\n",
       "      <th>3</th>\n",
       "      <td>A549</td>\n",
       "      <td>ACH-000681</td>\n",
       "      <td>CVCL_0023</td>\n",
       "      <td>Lung</td>\n",
       "      <td>SMARCA4</td>\n",
       "      <td>Hom</td>\n",
       "      <td>Frameshift</td>\n",
       "      <td>p.Q729fs</td>\n",
       "      <td>LoF</td>\n",
       "      <td>Suppressor</td>\n",
       "    </tr>\n",
       "    <tr>\n",
       "      <th>4</th>\n",
       "      <td>A549</td>\n",
       "      <td>ACH-000681</td>\n",
       "      <td>CVCL_0023</td>\n",
       "      <td>Lung</td>\n",
       "      <td>STK11</td>\n",
       "      <td>Hom</td>\n",
       "      <td>Stopgain</td>\n",
       "      <td>p.Q37*</td>\n",
       "      <td>LoF</td>\n",
       "      <td>Suppressor</td>\n",
       "    </tr>\n",
       "  </tbody>\n",
       "</table>\n",
       "</div>"
      ],
      "text/plain": [
       "  cell_name Cell_ID_DepMap Cell_ID_Cellosaur Organ Driver_Gene_Symbol  \\\n",
       "0      A549     ACH-000681         CVCL_0023  Lung             CDKN2A   \n",
       "1      A549     ACH-000681         CVCL_0023  Lung             CDKN2B   \n",
       "2      A549     ACH-000681         CVCL_0023  Lung               KRAS   \n",
       "3      A549     ACH-000681         CVCL_0023  Lung            SMARCA4   \n",
       "4      A549     ACH-000681         CVCL_0023  Lung              STK11   \n",
       "\n",
       "  Driver_VarZyg Driver_VarType Driver_ProtEffect_or_CdnaEffect  \\\n",
       "0           Hom       Deletion                             DEL   \n",
       "1           Hom       Deletion                             DEL   \n",
       "2           Hom       Missense                          p.G12S   \n",
       "3           Hom     Frameshift                        p.Q729fs   \n",
       "4           Hom       Stopgain                          p.Q37*   \n",
       "\n",
       "  Driver_Mech_InferDM Driver_GeneType_DM  \n",
       "0                 LoF         Suppressor  \n",
       "1                 LoF         Suppressor  \n",
       "2                 GoF           Oncogene  \n",
       "3                 LoF         Suppressor  \n",
       "4                 LoF         Suppressor  "
      ]
     },
     "execution_count": 3,
     "metadata": {},
     "output_type": "execute_result"
    }
   ],
   "source": [
    "cell_line_metadata = load_dataset(\"vevotx/Tahoe-100M\",\"cell_line_metadata\", split=\"train\").to_pandas()\n",
    "cell_line_metadata.head()"
   ]
  },
  {
   "cell_type": "code",
   "execution_count": 5,
   "id": "38b2a8f7",
   "metadata": {},
   "outputs": [],
   "source": [
    "cell_line_metadata.to_parquet('../../NO_BACKUP/tahoe/cell_line_info.parquet', index=False)"
   ]
  },
  {
   "cell_type": "code",
   "execution_count": null,
   "id": "03fde515",
   "metadata": {},
   "outputs": [],
   "source": []
  }
 ],
 "metadata": {
  "kernelspec": {
   "display_name": "Python 3 (ipykernel)",
   "language": "python",
   "name": "python3"
  },
  "language_info": {
   "codemirror_mode": {
    "name": "ipython",
    "version": 3
   },
   "file_extension": ".py",
   "mimetype": "text/x-python",
   "name": "python",
   "nbconvert_exporter": "python",
   "pygments_lexer": "ipython3",
   "version": "3.11.2"
  }
 },
 "nbformat": 4,
 "nbformat_minor": 5
}
