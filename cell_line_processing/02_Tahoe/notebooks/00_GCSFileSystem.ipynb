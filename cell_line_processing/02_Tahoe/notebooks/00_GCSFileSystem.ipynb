{
 "cells": [
  {
   "cell_type": "code",
   "execution_count": 4,
   "id": "67bca145",
   "metadata": {},
   "outputs": [],
   "source": [
    "import sys\n",
    "from tqdm import tqdm as tqdm\n",
    "sys.path.insert(0,'/home/olgan96/.env/lib/python3.11/site-packages/')"
   ]
  },
  {
   "cell_type": "code",
   "execution_count": 5,
   "id": "d1589298",
   "metadata": {},
   "outputs": [],
   "source": [
    "import gcsfs"
   ]
  },
  {
   "cell_type": "code",
   "execution_count": 6,
   "id": "4649ad5a",
   "metadata": {},
   "outputs": [],
   "source": [
    "fs = gcsfs.GCSFileSystem()"
   ]
  },
  {
   "cell_type": "code",
   "execution_count": 10,
   "id": "20a1393a",
   "metadata": {},
   "outputs": [],
   "source": [
    "gcp_base_path = \"gs://arc-ctc-tahoe100/\""
   ]
  },
  {
   "cell_type": "code",
   "execution_count": 11,
   "id": "7ce68405",
   "metadata": {},
   "outputs": [
    {
     "data": {
      "text/plain": [
       "['arc-ctc-tahoe100/2025-02-25', 'arc-ctc-tahoe100/README.md']"
      ]
     },
     "execution_count": 11,
     "metadata": {},
     "output_type": "execute_result"
    }
   ],
   "source": [
    "fs.ls(gcp_base_path)"
   ]
  },
  {
   "cell_type": "code",
   "execution_count": 12,
   "id": "a5fca7d4",
   "metadata": {},
   "outputs": [
    {
     "data": {
      "text/plain": [
       "['arc-ctc-tahoe100/2025-02-25/metadata/obs_metadata.parquet',\n",
       " 'arc-ctc-tahoe100/2025-02-25/metadata/obs_metadata_descriptions.tsv',\n",
       " 'arc-ctc-tahoe100/2025-02-25/metadata/sample_metadata.parquet']"
      ]
     },
     "execution_count": 12,
     "metadata": {},
     "output_type": "execute_result"
    }
   ],
   "source": [
    "fs.ls('gs://arc-ctc-tahoe100/2025-02-25/metadata/')"
   ]
  },
  {
   "cell_type": "code",
   "execution_count": null,
   "id": "5e44ff9f",
   "metadata": {},
   "outputs": [],
   "source": []
  },
  {
   "cell_type": "code",
   "execution_count": null,
   "id": "9479b6fa",
   "metadata": {},
   "outputs": [],
   "source": []
  },
  {
   "cell_type": "code",
   "execution_count": null,
   "id": "963bdd36",
   "metadata": {},
   "outputs": [],
   "source": []
  }
 ],
 "metadata": {
  "kernelspec": {
   "display_name": "Python 3 (ipykernel)",
   "language": "python",
   "name": "python3"
  },
  "language_info": {
   "codemirror_mode": {
    "name": "ipython",
    "version": 3
   },
   "file_extension": ".py",
   "mimetype": "text/x-python",
   "name": "python",
   "nbconvert_exporter": "python",
   "pygments_lexer": "ipython3",
   "version": "3.11.2"
  }
 },
 "nbformat": 4,
 "nbformat_minor": 5
}
