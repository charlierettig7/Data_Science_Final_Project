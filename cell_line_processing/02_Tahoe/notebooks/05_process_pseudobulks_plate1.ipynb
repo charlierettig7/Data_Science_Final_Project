{
 "cells": [
  {
   "cell_type": "code",
   "execution_count": 1,
   "id": "3d5f0d79",
   "metadata": {},
   "outputs": [],
   "source": [
    "import sys\n",
    "from tqdm import tqdm as tqdm\n",
    "sys.path.insert(0,'/home/olgan96/.env/lib/python3.11/site-packages/')"
   ]
  },
  {
   "cell_type": "code",
   "execution_count": 2,
   "id": "61cfa9b0",
   "metadata": {},
   "outputs": [
    {
     "name": "stderr",
     "output_type": "stream",
     "text": [
      "/home/olgan96/.env/lib/python3.11/site-packages/matplotlib/projections/__init__.py:63: UserWarning: Unable to import Axes3D. This may be due to multiple versions of Matplotlib being installed (e.g. as a system package and as a pip package). As a result, the 3D projection is not available.\n",
      "  warnings.warn(\"Unable to import Axes3D. This may be due to multiple versions of \"\n"
     ]
    }
   ],
   "source": [
    "import pandas as pd\n",
    "import anndata\n",
    "import anndata as ad\n",
    "import numpy as np\n",
    "from scipy import sparse\n",
    "from tqdm import tqdm\n",
    "import scanpy as sc\n",
    "import qnorm\n",
    "import matplotlib.pyplot as plt\n",
    "import seaborn as sns\n",
    "import tables"
   ]
  },
  {
   "cell_type": "code",
   "execution_count": 3,
   "id": "a283cf4e",
   "metadata": {},
   "outputs": [],
   "source": [
    "i = 0"
   ]
  },
  {
   "cell_type": "code",
   "execution_count": 4,
   "id": "7c93a9d8",
   "metadata": {},
   "outputs": [],
   "source": [
    "df = anndata.read_h5ad('../../NO_BACKUP/tahoe/pseudobulks/plate14/bulk_1.h5ad')"
   ]
  },
  {
   "cell_type": "code",
   "execution_count": 5,
   "id": "b3b71847",
   "metadata": {},
   "outputs": [],
   "source": [
    "df.obs = df.obs.reset_index()#['sm_cl'].duplicated()"
   ]
  },
  {
   "cell_type": "code",
   "execution_count": 6,
   "id": "b9f50dee",
   "metadata": {},
   "outputs": [],
   "source": [
    "df.obs['bulk'] = 'bulk_' + str(i+1)"
   ]
  },
  {
   "cell_type": "code",
   "execution_count": 7,
   "id": "2bfbdf42",
   "metadata": {},
   "outputs": [],
   "source": [
    "df.obs['bulk_id'] = df.obs['bulk'] + '_id_'+ df.obs['index']"
   ]
  },
  {
   "cell_type": "code",
   "execution_count": 8,
   "id": "ca918e37",
   "metadata": {},
   "outputs": [],
   "source": [
    "df.obs = df.obs.set_index('bulk_id')"
   ]
  },
  {
   "cell_type": "code",
   "execution_count": 9,
   "id": "607745c7",
   "metadata": {},
   "outputs": [
    {
     "name": "stderr",
     "output_type": "stream",
     "text": [
      "100%|██████████| 99/99 [08:09<00:00,  4.94s/it]\n"
     ]
    }
   ],
   "source": [
    "for i in tqdm(range(1, 100)):\n",
    "    \n",
    "    df_ = anndata.read_h5ad('../../NO_BACKUP/tahoe/pseudobulks/plate14/bulk_' + str(i+1) + '.h5ad')\n",
    "    df_.obs = df_.obs.reset_index()#['sm_cl'].duplicated()\n",
    "    df_.obs['bulk'] = 'bulk_' + str(i+1)\n",
    "    df_.obs['bulk_id'] = df_.obs['bulk'] + '_id_'+ df_.obs['index']\n",
    "    df_.obs = df_.obs.set_index('bulk_id')\n",
    "    \n",
    "    df = ad.concat([df, df_], join='outer')"
   ]
  },
  {
   "cell_type": "code",
   "execution_count": 10,
   "id": "db066d84",
   "metadata": {},
   "outputs": [],
   "source": [
    "df.write_h5ad('../../NO_BACKUP/tahoe/pseudobulks/plate14_bulk.h5ad')"
   ]
  },
  {
   "cell_type": "code",
   "execution_count": 11,
   "id": "a7b81a5c",
   "metadata": {},
   "outputs": [],
   "source": [
    "#df = ad.read_h5ad('../../NO_BACKUP/tahoe/pseudobulks/plate3_bulk.h5ad')"
   ]
  },
  {
   "cell_type": "code",
   "execution_count": 12,
   "id": "6aa1f691",
   "metadata": {},
   "outputs": [],
   "source": [
    "df.obs['cl_sm_dose'] = (df.obs['sm_cl'].astype(str) + '_' + df.obs['drugname_drugconc'].str.strip('()[]').str.split(',').str[1].str.strip()).astype('category')"
   ]
  },
  {
   "cell_type": "code",
   "execution_count": 13,
   "id": "9f0073fc",
   "metadata": {},
   "outputs": [],
   "source": [
    "df.obs['cl_sm_dose_bulk'] = (df.obs['cl_sm_dose'].astype(str) + df.obs['bulk'].astype(str)).astype('category')\n",
    "#[df.obs['sample_cell_line'].duplicated()]\n",
    "#['cl_sm_dose']# = df.obs['dose_sm_cl']"
   ]
  },
  {
   "cell_type": "code",
   "execution_count": 14,
   "id": "37992ed9",
   "metadata": {},
   "outputs": [
    {
     "data": {
      "text/html": [
       "<div>\n",
       "<style scoped>\n",
       "    .dataframe tbody tr th:only-of-type {\n",
       "        vertical-align: middle;\n",
       "    }\n",
       "\n",
       "    .dataframe tbody tr th {\n",
       "        vertical-align: top;\n",
       "    }\n",
       "\n",
       "    .dataframe thead th {\n",
       "        text-align: right;\n",
       "    }\n",
       "</style>\n",
       "<table border=\"1\" class=\"dataframe\">\n",
       "  <thead>\n",
       "    <tr style=\"text-align: right;\">\n",
       "      <th></th>\n",
       "      <th>index</th>\n",
       "      <th>sample_cell_line</th>\n",
       "      <th>cell_line</th>\n",
       "      <th>plate</th>\n",
       "      <th>drugname_drugconc</th>\n",
       "      <th>sm_cl</th>\n",
       "      <th>cell_name</th>\n",
       "      <th>sample</th>\n",
       "      <th>drug</th>\n",
       "      <th>bulk</th>\n",
       "      <th>cl_sm_dose</th>\n",
       "      <th>cl_sm_dose_bulk</th>\n",
       "    </tr>\n",
       "    <tr>\n",
       "      <th>bulk_id</th>\n",
       "      <th></th>\n",
       "      <th></th>\n",
       "      <th></th>\n",
       "      <th></th>\n",
       "      <th></th>\n",
       "      <th></th>\n",
       "      <th></th>\n",
       "      <th></th>\n",
       "      <th></th>\n",
       "      <th></th>\n",
       "      <th></th>\n",
       "      <th></th>\n",
       "    </tr>\n",
       "  </thead>\n",
       "  <tbody>\n",
       "    <tr>\n",
       "      <th>bulk_1_id_0</th>\n",
       "      <td>0</td>\n",
       "      <td>smp_2743_CVCL_0023</td>\n",
       "      <td>CVCL_0023</td>\n",
       "      <td>plate14</td>\n",
       "      <td>[('8-Hydroxyquinoline', 5.0, 'uM')]</td>\n",
       "      <td>CVCL_0023_8-Hydroxyquinoline</td>\n",
       "      <td>A549</td>\n",
       "      <td>smp_2743</td>\n",
       "      <td>8-Hydroxyquinoline</td>\n",
       "      <td>bulk_1</td>\n",
       "      <td>CVCL_0023_8-Hydroxyquinoline_5.0</td>\n",
       "      <td>CVCL_0023_8-Hydroxyquinoline_5.0bulk_1</td>\n",
       "    </tr>\n",
       "    <tr>\n",
       "      <th>bulk_1_id_1</th>\n",
       "      <td>1</td>\n",
       "      <td>smp_2743_CVCL_0028</td>\n",
       "      <td>CVCL_0028</td>\n",
       "      <td>plate14</td>\n",
       "      <td>[('8-Hydroxyquinoline', 5.0, 'uM')]</td>\n",
       "      <td>CVCL_0028_8-Hydroxyquinoline</td>\n",
       "      <td>AN3 CA</td>\n",
       "      <td>smp_2743</td>\n",
       "      <td>8-Hydroxyquinoline</td>\n",
       "      <td>bulk_1</td>\n",
       "      <td>CVCL_0028_8-Hydroxyquinoline_5.0</td>\n",
       "      <td>CVCL_0028_8-Hydroxyquinoline_5.0bulk_1</td>\n",
       "    </tr>\n",
       "    <tr>\n",
       "      <th>bulk_1_id_2</th>\n",
       "      <td>2</td>\n",
       "      <td>smp_2743_CVCL_0069</td>\n",
       "      <td>CVCL_0069</td>\n",
       "      <td>plate14</td>\n",
       "      <td>[('8-Hydroxyquinoline', 5.0, 'uM')]</td>\n",
       "      <td>CVCL_0069_8-Hydroxyquinoline</td>\n",
       "      <td>SK-MEL-2</td>\n",
       "      <td>smp_2743</td>\n",
       "      <td>8-Hydroxyquinoline</td>\n",
       "      <td>bulk_1</td>\n",
       "      <td>CVCL_0069_8-Hydroxyquinoline_5.0</td>\n",
       "      <td>CVCL_0069_8-Hydroxyquinoline_5.0bulk_1</td>\n",
       "    </tr>\n",
       "    <tr>\n",
       "      <th>bulk_1_id_3</th>\n",
       "      <td>3</td>\n",
       "      <td>smp_2743_CVCL_0099</td>\n",
       "      <td>CVCL_0099</td>\n",
       "      <td>plate14</td>\n",
       "      <td>[('8-Hydroxyquinoline', 5.0, 'uM')]</td>\n",
       "      <td>CVCL_0099_8-Hydroxyquinoline</td>\n",
       "      <td>SNU-1</td>\n",
       "      <td>smp_2743</td>\n",
       "      <td>8-Hydroxyquinoline</td>\n",
       "      <td>bulk_1</td>\n",
       "      <td>CVCL_0099_8-Hydroxyquinoline_5.0</td>\n",
       "      <td>CVCL_0099_8-Hydroxyquinoline_5.0bulk_1</td>\n",
       "    </tr>\n",
       "    <tr>\n",
       "      <th>bulk_1_id_4</th>\n",
       "      <td>4</td>\n",
       "      <td>smp_2743_CVCL_0131</td>\n",
       "      <td>CVCL_0131</td>\n",
       "      <td>plate14</td>\n",
       "      <td>[('8-Hydroxyquinoline', 5.0, 'uM')]</td>\n",
       "      <td>CVCL_0131_8-Hydroxyquinoline</td>\n",
       "      <td>A-172</td>\n",
       "      <td>smp_2743</td>\n",
       "      <td>8-Hydroxyquinoline</td>\n",
       "      <td>bulk_1</td>\n",
       "      <td>CVCL_0131_8-Hydroxyquinoline_5.0</td>\n",
       "      <td>CVCL_0131_8-Hydroxyquinoline_5.0bulk_1</td>\n",
       "    </tr>\n",
       "    <tr>\n",
       "      <th>...</th>\n",
       "      <td>...</td>\n",
       "      <td>...</td>\n",
       "      <td>...</td>\n",
       "      <td>...</td>\n",
       "      <td>...</td>\n",
       "      <td>...</td>\n",
       "      <td>...</td>\n",
       "      <td>...</td>\n",
       "      <td>...</td>\n",
       "      <td>...</td>\n",
       "      <td>...</td>\n",
       "      <td>...</td>\n",
       "    </tr>\n",
       "    <tr>\n",
       "      <th>bulk_100_id_1337</th>\n",
       "      <td>1337</td>\n",
       "      <td>smp_2838_CVCL_1716</td>\n",
       "      <td>CVCL_1716</td>\n",
       "      <td>plate14</td>\n",
       "      <td>[('DMSO_TF', 0.0, 'uM')]</td>\n",
       "      <td>CVCL_1716_DMSO_TF</td>\n",
       "      <td>SW 1271</td>\n",
       "      <td>smp_2838</td>\n",
       "      <td>DMSO_TF</td>\n",
       "      <td>bulk_100</td>\n",
       "      <td>CVCL_1716_DMSO_TF_0.0</td>\n",
       "      <td>CVCL_1716_DMSO_TF_0.0bulk_100</td>\n",
       "    </tr>\n",
       "    <tr>\n",
       "      <th>bulk_100_id_1338</th>\n",
       "      <td>1338</td>\n",
       "      <td>smp_2838_CVCL_1717</td>\n",
       "      <td>CVCL_1717</td>\n",
       "      <td>plate14</td>\n",
       "      <td>[('DMSO_TF', 0.0, 'uM')]</td>\n",
       "      <td>CVCL_1717_DMSO_TF</td>\n",
       "      <td>SW1417</td>\n",
       "      <td>smp_2838</td>\n",
       "      <td>DMSO_TF</td>\n",
       "      <td>bulk_100</td>\n",
       "      <td>CVCL_1717_DMSO_TF_0.0</td>\n",
       "      <td>CVCL_1717_DMSO_TF_0.0bulk_100</td>\n",
       "    </tr>\n",
       "    <tr>\n",
       "      <th>bulk_100_id_1339</th>\n",
       "      <td>1339</td>\n",
       "      <td>smp_2838_CVCL_1724</td>\n",
       "      <td>CVCL_1724</td>\n",
       "      <td>plate14</td>\n",
       "      <td>[('DMSO_TF', 0.0, 'uM')]</td>\n",
       "      <td>CVCL_1724_DMSO_TF</td>\n",
       "      <td>SW48</td>\n",
       "      <td>smp_2838</td>\n",
       "      <td>DMSO_TF</td>\n",
       "      <td>bulk_100</td>\n",
       "      <td>CVCL_1724_DMSO_TF_0.0</td>\n",
       "      <td>CVCL_1724_DMSO_TF_0.0bulk_100</td>\n",
       "    </tr>\n",
       "    <tr>\n",
       "      <th>bulk_100_id_1340</th>\n",
       "      <td>1340</td>\n",
       "      <td>smp_2838_CVCL_1731</td>\n",
       "      <td>CVCL_1731</td>\n",
       "      <td>plate14</td>\n",
       "      <td>[('DMSO_TF', 0.0, 'uM')]</td>\n",
       "      <td>CVCL_1731_DMSO_TF</td>\n",
       "      <td>SW 900</td>\n",
       "      <td>smp_2838</td>\n",
       "      <td>DMSO_TF</td>\n",
       "      <td>bulk_100</td>\n",
       "      <td>CVCL_1731_DMSO_TF_0.0</td>\n",
       "      <td>CVCL_1731_DMSO_TF_0.0bulk_100</td>\n",
       "    </tr>\n",
       "    <tr>\n",
       "      <th>bulk_100_id_1341</th>\n",
       "      <td>1341</td>\n",
       "      <td>smp_2838_CVCL_C466</td>\n",
       "      <td>CVCL_C466</td>\n",
       "      <td>plate14</td>\n",
       "      <td>[('DMSO_TF', 0.0, 'uM')]</td>\n",
       "      <td>CVCL_C466_DMSO_TF</td>\n",
       "      <td>hTERT-HPNE</td>\n",
       "      <td>smp_2838</td>\n",
       "      <td>DMSO_TF</td>\n",
       "      <td>bulk_100</td>\n",
       "      <td>CVCL_C466_DMSO_TF_0.0</td>\n",
       "      <td>CVCL_C466_DMSO_TF_0.0bulk_100</td>\n",
       "    </tr>\n",
       "  </tbody>\n",
       "</table>\n",
       "<p>134176 rows × 12 columns</p>\n",
       "</div>"
      ],
      "text/plain": [
       "                 index    sample_cell_line  cell_line    plate  \\\n",
       "bulk_id                                                          \n",
       "bulk_1_id_0          0  smp_2743_CVCL_0023  CVCL_0023  plate14   \n",
       "bulk_1_id_1          1  smp_2743_CVCL_0028  CVCL_0028  plate14   \n",
       "bulk_1_id_2          2  smp_2743_CVCL_0069  CVCL_0069  plate14   \n",
       "bulk_1_id_3          3  smp_2743_CVCL_0099  CVCL_0099  plate14   \n",
       "bulk_1_id_4          4  smp_2743_CVCL_0131  CVCL_0131  plate14   \n",
       "...                ...                 ...        ...      ...   \n",
       "bulk_100_id_1337  1337  smp_2838_CVCL_1716  CVCL_1716  plate14   \n",
       "bulk_100_id_1338  1338  smp_2838_CVCL_1717  CVCL_1717  plate14   \n",
       "bulk_100_id_1339  1339  smp_2838_CVCL_1724  CVCL_1724  plate14   \n",
       "bulk_100_id_1340  1340  smp_2838_CVCL_1731  CVCL_1731  plate14   \n",
       "bulk_100_id_1341  1341  smp_2838_CVCL_C466  CVCL_C466  plate14   \n",
       "\n",
       "                                    drugname_drugconc  \\\n",
       "bulk_id                                                 \n",
       "bulk_1_id_0       [('8-Hydroxyquinoline', 5.0, 'uM')]   \n",
       "bulk_1_id_1       [('8-Hydroxyquinoline', 5.0, 'uM')]   \n",
       "bulk_1_id_2       [('8-Hydroxyquinoline', 5.0, 'uM')]   \n",
       "bulk_1_id_3       [('8-Hydroxyquinoline', 5.0, 'uM')]   \n",
       "bulk_1_id_4       [('8-Hydroxyquinoline', 5.0, 'uM')]   \n",
       "...                                               ...   \n",
       "bulk_100_id_1337             [('DMSO_TF', 0.0, 'uM')]   \n",
       "bulk_100_id_1338             [('DMSO_TF', 0.0, 'uM')]   \n",
       "bulk_100_id_1339             [('DMSO_TF', 0.0, 'uM')]   \n",
       "bulk_100_id_1340             [('DMSO_TF', 0.0, 'uM')]   \n",
       "bulk_100_id_1341             [('DMSO_TF', 0.0, 'uM')]   \n",
       "\n",
       "                                         sm_cl   cell_name    sample  \\\n",
       "bulk_id                                                                \n",
       "bulk_1_id_0       CVCL_0023_8-Hydroxyquinoline        A549  smp_2743   \n",
       "bulk_1_id_1       CVCL_0028_8-Hydroxyquinoline      AN3 CA  smp_2743   \n",
       "bulk_1_id_2       CVCL_0069_8-Hydroxyquinoline    SK-MEL-2  smp_2743   \n",
       "bulk_1_id_3       CVCL_0099_8-Hydroxyquinoline       SNU-1  smp_2743   \n",
       "bulk_1_id_4       CVCL_0131_8-Hydroxyquinoline       A-172  smp_2743   \n",
       "...                                        ...         ...       ...   \n",
       "bulk_100_id_1337             CVCL_1716_DMSO_TF     SW 1271  smp_2838   \n",
       "bulk_100_id_1338             CVCL_1717_DMSO_TF      SW1417  smp_2838   \n",
       "bulk_100_id_1339             CVCL_1724_DMSO_TF        SW48  smp_2838   \n",
       "bulk_100_id_1340             CVCL_1731_DMSO_TF      SW 900  smp_2838   \n",
       "bulk_100_id_1341             CVCL_C466_DMSO_TF  hTERT-HPNE  smp_2838   \n",
       "\n",
       "                                drug      bulk  \\\n",
       "bulk_id                                          \n",
       "bulk_1_id_0       8-Hydroxyquinoline    bulk_1   \n",
       "bulk_1_id_1       8-Hydroxyquinoline    bulk_1   \n",
       "bulk_1_id_2       8-Hydroxyquinoline    bulk_1   \n",
       "bulk_1_id_3       8-Hydroxyquinoline    bulk_1   \n",
       "bulk_1_id_4       8-Hydroxyquinoline    bulk_1   \n",
       "...                              ...       ...   \n",
       "bulk_100_id_1337             DMSO_TF  bulk_100   \n",
       "bulk_100_id_1338             DMSO_TF  bulk_100   \n",
       "bulk_100_id_1339             DMSO_TF  bulk_100   \n",
       "bulk_100_id_1340             DMSO_TF  bulk_100   \n",
       "bulk_100_id_1341             DMSO_TF  bulk_100   \n",
       "\n",
       "                                        cl_sm_dose  \\\n",
       "bulk_id                                              \n",
       "bulk_1_id_0       CVCL_0023_8-Hydroxyquinoline_5.0   \n",
       "bulk_1_id_1       CVCL_0028_8-Hydroxyquinoline_5.0   \n",
       "bulk_1_id_2       CVCL_0069_8-Hydroxyquinoline_5.0   \n",
       "bulk_1_id_3       CVCL_0099_8-Hydroxyquinoline_5.0   \n",
       "bulk_1_id_4       CVCL_0131_8-Hydroxyquinoline_5.0   \n",
       "...                                            ...   \n",
       "bulk_100_id_1337             CVCL_1716_DMSO_TF_0.0   \n",
       "bulk_100_id_1338             CVCL_1717_DMSO_TF_0.0   \n",
       "bulk_100_id_1339             CVCL_1724_DMSO_TF_0.0   \n",
       "bulk_100_id_1340             CVCL_1731_DMSO_TF_0.0   \n",
       "bulk_100_id_1341             CVCL_C466_DMSO_TF_0.0   \n",
       "\n",
       "                                         cl_sm_dose_bulk  \n",
       "bulk_id                                                   \n",
       "bulk_1_id_0       CVCL_0023_8-Hydroxyquinoline_5.0bulk_1  \n",
       "bulk_1_id_1       CVCL_0028_8-Hydroxyquinoline_5.0bulk_1  \n",
       "bulk_1_id_2       CVCL_0069_8-Hydroxyquinoline_5.0bulk_1  \n",
       "bulk_1_id_3       CVCL_0099_8-Hydroxyquinoline_5.0bulk_1  \n",
       "bulk_1_id_4       CVCL_0131_8-Hydroxyquinoline_5.0bulk_1  \n",
       "...                                                  ...  \n",
       "bulk_100_id_1337           CVCL_1716_DMSO_TF_0.0bulk_100  \n",
       "bulk_100_id_1338           CVCL_1717_DMSO_TF_0.0bulk_100  \n",
       "bulk_100_id_1339           CVCL_1724_DMSO_TF_0.0bulk_100  \n",
       "bulk_100_id_1340           CVCL_1731_DMSO_TF_0.0bulk_100  \n",
       "bulk_100_id_1341           CVCL_C466_DMSO_TF_0.0bulk_100  \n",
       "\n",
       "[134176 rows x 12 columns]"
      ]
     },
     "execution_count": 14,
     "metadata": {},
     "output_type": "execute_result"
    }
   ],
   "source": [
    "df.obs"
   ]
  },
  {
   "cell_type": "code",
   "execution_count": 15,
   "id": "701bc04f",
   "metadata": {},
   "outputs": [],
   "source": [
    "df_agg = sc.get.aggregate(\n",
    "    df, by=[\"cl_sm_dose_bulk\"], func=[\"mean\"]\n",
    ")"
   ]
  },
  {
   "cell_type": "code",
   "execution_count": 16,
   "id": "5b6d5dba",
   "metadata": {},
   "outputs": [],
   "source": [
    "#df_mean_var = sc.get.aggregate(\n",
    "#    df, by=\"cl_sm_dose\", func=[\"mean\", \"var\"]\n",
    "#)"
   ]
  },
  {
   "cell_type": "code",
   "execution_count": 17,
   "id": "e9debc69",
   "metadata": {},
   "outputs": [
    {
     "data": {
      "text/plain": [
       "AnnData object with n_obs × n_vars = 129393 × 12124\n",
       "    obs: 'cl_sm_dose_bulk'\n",
       "    layers: 'mean'"
      ]
     },
     "execution_count": 17,
     "metadata": {},
     "output_type": "execute_result"
    }
   ],
   "source": [
    "df_agg"
   ]
  },
  {
   "cell_type": "code",
   "execution_count": 18,
   "id": "ea660bd1",
   "metadata": {},
   "outputs": [],
   "source": [
    "#df_agg.write_h5ad('../../NO_BACKUP/tahoe/aggregated/plate1_agg_median.h5ad')\n",
    "#df_mean_var.write_h5ad('../../NO_BACKUP/tahoe/aggregated/plate1_agg_mean_var.h5ad')"
   ]
  },
  {
   "cell_type": "code",
   "execution_count": 19,
   "id": "29f81a6d",
   "metadata": {},
   "outputs": [],
   "source": [
    "#df_mean_var.layers['var']"
   ]
  },
  {
   "cell_type": "code",
   "execution_count": 20,
   "id": "d8f21ae6",
   "metadata": {},
   "outputs": [],
   "source": [
    "df_agg.X = df_agg.layers['mean']"
   ]
  },
  {
   "cell_type": "code",
   "execution_count": 21,
   "id": "48d04db8",
   "metadata": {},
   "outputs": [],
   "source": [
    "del df_agg.layers['mean']"
   ]
  },
  {
   "cell_type": "code",
   "execution_count": 22,
   "id": "9596f8f8",
   "metadata": {},
   "outputs": [],
   "source": [
    "#df_agg.X"
   ]
  },
  {
   "cell_type": "code",
   "execution_count": 23,
   "id": "7f981ec1",
   "metadata": {},
   "outputs": [],
   "source": [
    "sc.pp.normalize_total(df_agg)"
   ]
  },
  {
   "cell_type": "code",
   "execution_count": 24,
   "id": "d0ef5645",
   "metadata": {},
   "outputs": [],
   "source": [
    "sc.pp.log1p(df_agg, base=2)"
   ]
  },
  {
   "cell_type": "code",
   "execution_count": 25,
   "id": "404395d3",
   "metadata": {},
   "outputs": [],
   "source": [
    "#np.median(df_agg.X, axis=0).shape"
   ]
  },
  {
   "cell_type": "code",
   "execution_count": 26,
   "id": "bd05d247",
   "metadata": {},
   "outputs": [],
   "source": [
    "def z_scores(X):\n",
    "    print('calc median')\n",
    "    median = np.median(X, axis=0)\n",
    "    #print(median)\n",
    "    print('calc diff')\n",
    "    diff = X - median\n",
    "    print('calc MAD')\n",
    "    MAD = np.median(np.absolute(diff))\n",
    "    print('calc z-scores')\n",
    "    z = diff/(MAD * 1.4826)\n",
    "    return z"
   ]
  },
  {
   "cell_type": "code",
   "execution_count": 27,
   "id": "d81d91a1",
   "metadata": {},
   "outputs": [
    {
     "name": "stdout",
     "output_type": "stream",
     "text": [
      "calc median\n",
      "calc diff\n",
      "calc MAD\n",
      "calc z-scores\n"
     ]
    }
   ],
   "source": [
    "z = z_scores(df_agg.X)"
   ]
  },
  {
   "cell_type": "code",
   "execution_count": 28,
   "id": "dd8baebf",
   "metadata": {},
   "outputs": [],
   "source": [
    "#sc.pp.scale(df_agg, max_value=10)"
   ]
  },
  {
   "cell_type": "code",
   "execution_count": 29,
   "id": "98c8f67e",
   "metadata": {},
   "outputs": [],
   "source": [
    "df_agg.obs['cl_sm_dose'] = df_agg.obs['cl_sm_dose_bulk'].astype(str).str.split('bulk').str[0]"
   ]
  },
  {
   "cell_type": "code",
   "execution_count": 30,
   "id": "965cf0f5",
   "metadata": {},
   "outputs": [],
   "source": [
    "df_agg.X = z"
   ]
  },
  {
   "cell_type": "code",
   "execution_count": 31,
   "id": "e243e03d",
   "metadata": {},
   "outputs": [
    {
     "data": {
      "text/plain": [
       "array([[ 0.        ,  0.        ,  2.31304862, ...,  0.51513732,\n",
       "         0.80313662,  0.02799694],\n",
       "       [ 0.        ,  0.        ,  0.98113917, ...,  0.07472474,\n",
       "        -1.32062418, -1.08337973],\n",
       "       [ 0.        ,  0.        ,  0.        , ...,  1.27027635,\n",
       "        -0.36054399, -2.13438587],\n",
       "       ...,\n",
       "       [ 0.        ,  0.        ,  1.06113734, ..., -0.34011573,\n",
       "         0.59908698,  0.12898679],\n",
       "       [ 0.        ,  0.        ,  0.92511307, ..., -0.68455483,\n",
       "        -0.42455109, -0.19756819],\n",
       "       [ 0.        ,  0.        ,  2.24599311, ..., -0.31760844,\n",
       "         0.41720719,  0.67088151]], shape=(129393, 12124))"
      ]
     },
     "execution_count": 31,
     "metadata": {},
     "output_type": "execute_result"
    }
   ],
   "source": [
    "df_agg.X"
   ]
  },
  {
   "cell_type": "code",
   "execution_count": 32,
   "id": "176bada5",
   "metadata": {},
   "outputs": [],
   "source": [
    "df_agg = sc.get.aggregate(\n",
    "    df_agg, by=\"cl_sm_dose\", func=[\"mean\"]\n",
    ")"
   ]
  },
  {
   "cell_type": "code",
   "execution_count": 33,
   "id": "ee293639",
   "metadata": {},
   "outputs": [],
   "source": [
    "df_agg.write_h5ad('../../NO_BACKUP/tahoe/aggregated/plate14_agg_z_scores.h5ad')"
   ]
  },
  {
   "cell_type": "code",
   "execution_count": 25,
   "id": "59680777",
   "metadata": {},
   "outputs": [],
   "source": [
    "#scales_counts = sc.pp.normalize_total(df, target_sum=None, inplace=False)"
   ]
  },
  {
   "cell_type": "code",
   "execution_count": 26,
   "id": "955bea17",
   "metadata": {},
   "outputs": [],
   "source": [
    "#df.layers[\"log1p_norm\"] = sc.pp.log1p(scales_counts[\"X\"], copy=True, base=2)"
   ]
  },
  {
   "cell_type": "code",
   "execution_count": 30,
   "id": "08927dcd",
   "metadata": {},
   "outputs": [
    {
     "data": {
      "image/png": "[encoded data removed]",
      "text/plain": [
       "<Figure size 1000x500 with 2 Axes>"
      ]
     },
     "metadata": {},
     "output_type": "display_data"
    }
   ],
   "source": [
    "#fig, axes = plt.subplots(1, 2, figsize=(10, 5))\n",
    "#p1 = sns.histplot(df.X.sum(1), bins=100, kde=False, ax=axes[0])\n",
    "#axes[0].set_title(\"Total counts\")\n",
    "#p2 = sns.histplot(df.layers[\"log1p_norm\"].sum(1), bins=100, kde=False, ax=axes[1])\n",
    "#axes[1].set_title(\"Shifted logarithm\")\n",
    "#plt.show()"
   ]
  },
  {
   "cell_type": "code",
   "execution_count": 4,
   "id": "c56c8f44",
   "metadata": {},
   "outputs": [
    {
     "data": {
      "text/plain": [
       "22.857142857142858"
      ]
     },
     "execution_count": 4,
     "metadata": {},
     "output_type": "execute_result"
    }
   ],
   "source": [
    "import numpy as np\n",
    "np.mean([25, 22,\n",
    "35,\n",
    "27,\n",
    "21,\n",
    "18,\n",
    "28,\n",
    "13,\n",
    "22,\n",
    "19,\n",
    "27,\n",
    "16,\n",
    "29,\n",
    "18])"
   ]
  },
  {
   "cell_type": "code",
   "execution_count": null,
   "id": "e16abd89",
   "metadata": {},
   "outputs": [],
   "source": []
  }
 ],
 "metadata": {
  "kernelspec": {
   "display_name": "Python 3 (ipykernel)",
   "language": "python",
   "name": "python3"
  },
  "language_info": {
   "codemirror_mode": {
    "name": "ipython",
    "version": 3
   },
   "file_extension": ".py",
   "mimetype": "text/x-python",
   "name": "python",
   "nbconvert_exporter": "python",
   "pygments_lexer": "ipython3",
   "version": "3.11.2"
  }
 },
 "nbformat": 4,
 "nbformat_minor": 5
}
