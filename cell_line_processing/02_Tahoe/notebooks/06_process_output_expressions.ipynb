{
 "cells": [
  {
   "cell_type": "code",
   "execution_count": 1,
   "id": "920192a0",
   "metadata": {},
   "outputs": [],
   "source": [
    "import sys\n",
    "from tqdm import tqdm as tqdm\n",
    "sys.path.insert(0,'/home/olgan96/.env/lib/python3.11/site-packages/')"
   ]
  },
  {
   "cell_type": "code",
   "execution_count": 2,
   "id": "87a711ee",
   "metadata": {},
   "outputs": [],
   "source": [
    "import pandas as pd\n",
    "import anndata"
   ]
  },
  {
   "cell_type": "markdown",
   "id": "92d14d64",
   "metadata": {},
   "source": [
    "### Download all the expression"
   ]
  },
  {
   "cell_type": "code",
   "execution_count": 3,
   "id": "eefae65c",
   "metadata": {},
   "outputs": [],
   "source": [
    "df1 = anndata.read_h5ad('../../NO_BACKUP/tahoe/aggregated/plate1_agg_z_scores.h5ad')"
   ]
  },
  {
   "cell_type": "code",
   "execution_count": 4,
   "id": "5e3d2cb7",
   "metadata": {},
   "outputs": [],
   "source": [
    "df3 = anndata.read_h5ad('../../NO_BACKUP/tahoe/aggregated/plate3_agg_z_scores.h5ad')"
   ]
  },
  {
   "cell_type": "code",
   "execution_count": 5,
   "id": "2b3554f8",
   "metadata": {},
   "outputs": [],
   "source": [
    "df4 = anndata.read_h5ad('../../NO_BACKUP/tahoe/aggregated/plate4_agg_z_scores.h5ad')"
   ]
  },
  {
   "cell_type": "code",
   "execution_count": 6,
   "id": "57a6349b",
   "metadata": {},
   "outputs": [],
   "source": [
    "df5 = anndata.read_h5ad('../../NO_BACKUP/tahoe/aggregated/plate5_agg_z_scores.h5ad')"
   ]
  },
  {
   "cell_type": "code",
   "execution_count": 7,
   "id": "a3cd1d69",
   "metadata": {},
   "outputs": [],
   "source": [
    "df7 = anndata.read_h5ad('../../NO_BACKUP/tahoe/aggregated/plate7_agg_z_scores.h5ad')"
   ]
  },
  {
   "cell_type": "code",
   "execution_count": 11,
   "id": "3b31cff7",
   "metadata": {},
   "outputs": [],
   "source": [
    "df9 = anndata.read_h5ad('../../NO_BACKUP/tahoe/aggregated/plate9_agg_z_scores.h5ad')"
   ]
  },
  {
   "cell_type": "code",
   "execution_count": 12,
   "id": "a2665a54",
   "metadata": {},
   "outputs": [],
   "source": [
    "df10 = anndata.read_h5ad('../../NO_BACKUP/tahoe/aggregated/plate10_agg_z_scores.h5ad')"
   ]
  },
  {
   "cell_type": "code",
   "execution_count": 13,
   "id": "7bacb634",
   "metadata": {},
   "outputs": [],
   "source": [
    "df11 = anndata.read_h5ad('../../NO_BACKUP/tahoe/aggregated/plate11_agg_z_scores.h5ad')"
   ]
  },
  {
   "cell_type": "code",
   "execution_count": 17,
   "id": "fc94cde5",
   "metadata": {},
   "outputs": [],
   "source": [
    "df = pd.concat([df1.obs, df3.obs, df4.obs, df5.obs, df7.obs, df9.obs, df10.obs, df11.obs])"
   ]
  },
  {
   "cell_type": "code",
   "execution_count": 20,
   "id": "2dadb4c9",
   "metadata": {},
   "outputs": [],
   "source": [
    "df.reset_index(drop=True).to_parquet('../../NO_BACKUP/tahoe/computed_signaturs_meta.parquet', index=False)"
   ]
  },
  {
   "cell_type": "code",
   "execution_count": 21,
   "id": "56322317",
   "metadata": {},
   "outputs": [],
   "source": [
    "pd.concat([pd.DataFrame(df1.layers['mean']), \n",
    "           pd.DataFrame(df3.layers['mean']),\n",
    "           pd.DataFrame(df4.layers['mean']),\n",
    "           pd.DataFrame(df5.layers['mean']),\n",
    "           pd.DataFrame(df7.layers['mean']),\n",
    "           pd.DataFrame(df9.layers['mean']),\n",
    "           pd.DataFrame(df10.layers['mean']),\n",
    "           pd.DataFrame(df11.layers['mean']),\n",
    "           ]).to_parquet('../../NO_BACKUP/tahoe/sig_matrix.parquet', index=False)"
   ]
  },
  {
   "cell_type": "code",
   "execution_count": 25,
   "id": "90cd407f",
   "metadata": {},
   "outputs": [],
   "source": [
    "df1.var.reset_index().to_parquet('../../NO_BACKUP/tahoe/sig_genes.parquet')"
   ]
  },
  {
   "cell_type": "code",
   "execution_count": null,
   "id": "0af955c3",
   "metadata": {},
   "outputs": [],
   "source": []
  }
 ],
 "metadata": {
  "kernelspec": {
   "display_name": "Python 3 (ipykernel)",
   "language": "python",
   "name": "python3"
  },
  "language_info": {
   "codemirror_mode": {
    "name": "ipython",
    "version": 3
   },
   "file_extension": ".py",
   "mimetype": "text/x-python",
   "name": "python",
   "nbconvert_exporter": "python",
   "pygments_lexer": "ipython3",
   "version": "3.11.2"
  }
 },
 "nbformat": 4,
 "nbformat_minor": 5
}
