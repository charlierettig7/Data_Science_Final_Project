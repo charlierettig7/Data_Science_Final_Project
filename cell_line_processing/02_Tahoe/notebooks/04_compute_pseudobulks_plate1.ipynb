{
 "cells": [
  {
   "cell_type": "code",
   "execution_count": 1,
   "id": "fb9efe90",
   "metadata": {},
   "outputs": [],
   "source": [
    "import sys\n",
    "from tqdm import tqdm as tqdm\n",
    "sys.path.insert(0,'/home/olgan96/.env/lib/python3.11/site-packages/')"
   ]
  },
  {
   "cell_type": "code",
   "execution_count": 2,
   "id": "045dea54",
   "metadata": {},
   "outputs": [
    {
     "name": "stderr",
     "output_type": "stream",
     "text": [
      "/home/olgan96/.env/lib/python3.11/site-packages/matplotlib/projections/__init__.py:63: UserWarning: Unable to import Axes3D. This may be due to multiple versions of Matplotlib being installed (e.g. as a system package and as a pip package). As a result, the 3D projection is not available.\n",
      "  warnings.warn(\"Unable to import Axes3D. This may be due to multiple versions of \"\n"
     ]
    }
   ],
   "source": [
    "import pandas as pd\n",
    "import anndata\n",
    "import anndata as ad\n",
    "import numpy as np\n",
    "from scipy import sparse\n",
    "from tqdm import tqdm\n",
    "import scanpy as sc\n",
    "import matplotlib.pyplot as plt\n"
   ]
  },
  {
   "cell_type": "code",
   "execution_count": 3,
   "id": "0afd6be5",
   "metadata": {},
   "outputs": [],
   "source": [
    "df = anndata.read_h5ad('../../NO_BACKUP/tahoe/plates_filtered/plate14_filtered.h5ad')"
   ]
  },
  {
   "cell_type": "code",
   "execution_count": 4,
   "id": "9044487e",
   "metadata": {},
   "outputs": [],
   "source": [
    "!mkdir ../../NO_BACKUP/tahoe/pseudobulks/plate14"
   ]
  },
  {
   "cell_type": "code",
   "execution_count": 5,
   "id": "68d69954",
   "metadata": {},
   "outputs": [],
   "source": [
    "np.random.seed(42)"
   ]
  },
  {
   "cell_type": "code",
   "execution_count": 6,
   "id": "646c3fe6",
   "metadata": {},
   "outputs": [],
   "source": [
    "df_sm_cl = df.obs['cell_line'].astype(str) + '_' + df.obs['drug'].astype(str)"
   ]
  },
  {
   "cell_type": "code",
   "execution_count": 7,
   "id": "286594c0",
   "metadata": {},
   "outputs": [],
   "source": [
    "df_sample_cell_line = df.obs['sample'].astype(str) + '_' + df.obs['cell_line'].astype(str)"
   ]
  },
  {
   "cell_type": "code",
   "execution_count": 8,
   "id": "fec54eab",
   "metadata": {},
   "outputs": [],
   "source": [
    "df.obs['sm_cl'] = df_sm_cl.astype(\"category\")"
   ]
  },
  {
   "cell_type": "code",
   "execution_count": 9,
   "id": "845309d7",
   "metadata": {},
   "outputs": [],
   "source": [
    "df.obs['sample_cell_line'] = df_sample_cell_line.astype(\"category\")"
   ]
  },
  {
   "cell_type": "markdown",
   "id": "611d01cf",
   "metadata": {},
   "source": [
    "### subsample visualization"
   ]
  },
  {
   "cell_type": "code",
   "execution_count": 10,
   "id": "49209626",
   "metadata": {},
   "outputs": [],
   "source": [
    "indices = np.random.choice(list(df.obs.index), size=1000)\n",
    "subsample = df[indices]"
   ]
  },
  {
   "cell_type": "code",
   "execution_count": 11,
   "id": "f218a4c8",
   "metadata": {},
   "outputs": [
    {
     "data": {
      "text/plain": [
       "(array([994.,   0.,   0.,   0.,   0.,   4.,   0.,   0.,   0.,   2.]),\n",
       " array([0. , 0.2, 0.4, 0.6, 0.8, 1. , 1.2, 1.4, 1.6, 1.8, 2. ]),\n",
       " <BarContainer object of 10 artists>)"
      ]
     },
     "execution_count": 11,
     "metadata": {},
     "output_type": "execute_result"
    },
    {
     "data": {
      "image/png": "[encoded data removed]",
      "text/plain": [
       "<Figure size 640x480 with 1 Axes>"
      ]
     },
     "metadata": {},
     "output_type": "display_data"
    }
   ],
   "source": [
    "plt.hist(subsample.X[1].todense().tolist()[0][:1000])"
   ]
  },
  {
   "cell_type": "code",
   "execution_count": 12,
   "id": "27eb7c71",
   "metadata": {},
   "outputs": [
    {
     "data": {
      "text/html": [
       "<div>\n",
       "<style scoped>\n",
       "    .dataframe tbody tr th:only-of-type {\n",
       "        vertical-align: middle;\n",
       "    }\n",
       "\n",
       "    .dataframe tbody tr th {\n",
       "        vertical-align: top;\n",
       "    }\n",
       "\n",
       "    .dataframe thead th {\n",
       "        text-align: right;\n",
       "    }\n",
       "</style>\n",
       "<table border=\"1\" class=\"dataframe\">\n",
       "  <thead>\n",
       "    <tr style=\"text-align: right;\">\n",
       "      <th></th>\n",
       "      <th>Column</th>\n",
       "      <th>description</th>\n",
       "    </tr>\n",
       "  </thead>\n",
       "  <tbody>\n",
       "    <tr>\n",
       "      <th>0</th>\n",
       "      <td>plate</td>\n",
       "      <td>plate number</td>\n",
       "    </tr>\n",
       "    <tr>\n",
       "      <th>1</th>\n",
       "      <td>BARCODE_SUB_LIB_ID</td>\n",
       "      <td>cell identifier</td>\n",
       "    </tr>\n",
       "    <tr>\n",
       "      <th>2</th>\n",
       "      <td>sample</td>\n",
       "      <td>unique treatment identifier, distinguishes rep...</td>\n",
       "    </tr>\n",
       "    <tr>\n",
       "      <th>3</th>\n",
       "      <td>gene_count</td>\n",
       "      <td>number of genes with at least one count</td>\n",
       "    </tr>\n",
       "    <tr>\n",
       "      <th>4</th>\n",
       "      <td>tsc_count</td>\n",
       "      <td>number of transcripts, aka UMI count</td>\n",
       "    </tr>\n",
       "    <tr>\n",
       "      <th>5</th>\n",
       "      <td>mread_count</td>\n",
       "      <td>number of reads per cell</td>\n",
       "    </tr>\n",
       "    <tr>\n",
       "      <th>6</th>\n",
       "      <td>drugname_drugconc</td>\n",
       "      <td>drug name, concentration and concentration unit</td>\n",
       "    </tr>\n",
       "    <tr>\n",
       "      <th>7</th>\n",
       "      <td>drug</td>\n",
       "      <td>drug name, as used in the drugname_drugconc field</td>\n",
       "    </tr>\n",
       "    <tr>\n",
       "      <th>8</th>\n",
       "      <td>cell_line</td>\n",
       "      <td>cell line Cellosaurus identifier</td>\n",
       "    </tr>\n",
       "    <tr>\n",
       "      <th>9</th>\n",
       "      <td>sublibrary</td>\n",
       "      <td>sublibrary id (related to library prep and seq...</td>\n",
       "    </tr>\n",
       "    <tr>\n",
       "      <th>10</th>\n",
       "      <td>BARCODE</td>\n",
       "      <td>barcode id</td>\n",
       "    </tr>\n",
       "    <tr>\n",
       "      <th>11</th>\n",
       "      <td>pcnt_mito</td>\n",
       "      <td>percentage mitochondrial reads</td>\n",
       "    </tr>\n",
       "    <tr>\n",
       "      <th>12</th>\n",
       "      <td>S_score</td>\n",
       "      <td>inferred S phase score</td>\n",
       "    </tr>\n",
       "    <tr>\n",
       "      <th>13</th>\n",
       "      <td>G2M_score</td>\n",
       "      <td>inferred G2M phase score</td>\n",
       "    </tr>\n",
       "    <tr>\n",
       "      <th>14</th>\n",
       "      <td>phase</td>\n",
       "      <td>inferred cell cycle phase (G1, S, G2M)</td>\n",
       "    </tr>\n",
       "    <tr>\n",
       "      <th>15</th>\n",
       "      <td>pass_filter</td>\n",
       "      <td>full' filters are more stringent on gene_count...</td>\n",
       "    </tr>\n",
       "    <tr>\n",
       "      <th>16</th>\n",
       "      <td>cell_name</td>\n",
       "      <td>commonly-used cell line name (related to the c...</td>\n",
       "    </tr>\n",
       "  </tbody>\n",
       "</table>\n",
       "</div>"
      ],
      "text/plain": [
       "                Column                                        description\n",
       "0                plate                                       plate number\n",
       "1   BARCODE_SUB_LIB_ID                                    cell identifier\n",
       "2               sample  unique treatment identifier, distinguishes rep...\n",
       "3           gene_count            number of genes with at least one count\n",
       "4            tsc_count               number of transcripts, aka UMI count\n",
       "5          mread_count                           number of reads per cell\n",
       "6    drugname_drugconc    drug name, concentration and concentration unit\n",
       "7                 drug  drug name, as used in the drugname_drugconc field\n",
       "8            cell_line                   cell line Cellosaurus identifier\n",
       "9           sublibrary  sublibrary id (related to library prep and seq...\n",
       "10             BARCODE                                         barcode id\n",
       "11           pcnt_mito                     percentage mitochondrial reads\n",
       "12             S_score                             inferred S phase score\n",
       "13           G2M_score                           inferred G2M phase score\n",
       "14               phase             inferred cell cycle phase (G1, S, G2M)\n",
       "15         pass_filter  full' filters are more stringent on gene_count...\n",
       "16           cell_name  commonly-used cell line name (related to the c..."
      ]
     },
     "execution_count": 12,
     "metadata": {},
     "output_type": "execute_result"
    }
   ],
   "source": [
    "pd.read_csv('../../NO_BACKUP/tahoe/metadata/obs_metadata_descriptions.tsv', sep='\\t')"
   ]
  },
  {
   "cell_type": "code",
   "execution_count": 13,
   "id": "fe7adb3e",
   "metadata": {},
   "outputs": [
    {
     "data": {
      "image/png": "[encoded data removed]",
      "text/plain": [
       "<Figure size 804.6x480 with 1 Axes>"
      ]
     },
     "metadata": {},
     "output_type": "display_data"
    }
   ],
   "source": [
    "sc.pl.violin(subsample, ['gene_count', 'tscp_count', 'mread_count','pcnt_mito'],\n",
    "             jitter=0.4)"
   ]
  },
  {
   "cell_type": "code",
   "execution_count": 14,
   "id": "ba92110a",
   "metadata": {},
   "outputs": [
    {
     "data": {
      "text/plain": [
       "(739, 12124)"
      ]
     },
     "execution_count": 14,
     "metadata": {},
     "output_type": "execute_result"
    }
   ],
   "source": [
    "subsample[(subsample.obs.gene_count < 2000) & \n",
    "(subsample.obs.tscp_count < 3000) & \n",
    "(subsample.obs.mread_count < 5000),:].shape"
   ]
  },
  {
   "cell_type": "code",
   "execution_count": 15,
   "id": "d42b2f9c",
   "metadata": {},
   "outputs": [],
   "source": [
    "# Do the filtering\n",
    "subsample = subsample[(subsample.obs.gene_count < 2000) & \n",
    "(subsample.obs.tscp_count < 3000) & \n",
    "(subsample.obs.mread_count < 5000),:]"
   ]
  },
  {
   "cell_type": "code",
   "execution_count": 16,
   "id": "1792dffb",
   "metadata": {},
   "outputs": [
    {
     "data": {
      "image/png": "[encoded data removed]",
      "text/plain": [
       "<Figure size 804.6x480 with 1 Axes>"
      ]
     },
     "metadata": {},
     "output_type": "display_data"
    }
   ],
   "source": [
    "sc.pl.violin(subsample, ['gene_count', 'tscp_count', 'mread_count','pcnt_mito'],\n",
    "             jitter=0.4)"
   ]
  },
  {
   "cell_type": "code",
   "execution_count": 17,
   "id": "3fdab165",
   "metadata": {},
   "outputs": [
    {
     "name": "stderr",
     "output_type": "stream",
     "text": [
      "/home/olgan96/.env/lib/python3.11/site-packages/scanpy/preprocessing/_simple.py:174: ImplicitModificationWarning: Trying to modify attribute `.obs` of view, initializing view as actual.\n",
      "  adata.obs[\"n_counts\"] = number\n"
     ]
    }
   ],
   "source": [
    "sc.pp.filter_cells(subsample, min_counts=3)\n",
    "sc.pp.filter_cells(subsample, max_counts=2000)"
   ]
  },
  {
   "cell_type": "markdown",
   "id": "bdfd98f3",
   "metadata": {},
   "source": [
    "### subsample end"
   ]
  },
  {
   "cell_type": "code",
   "execution_count": 18,
   "id": "6c7dbbf3",
   "metadata": {},
   "outputs": [
    {
     "name": "stderr",
     "output_type": "stream",
     "text": [
      "/home/olgan96/.env/lib/python3.11/site-packages/scanpy/preprocessing/_simple.py:174: ImplicitModificationWarning: Trying to modify attribute `.obs` of view, initializing view as actual.\n",
      "  adata.obs[\"n_counts\"] = number\n"
     ]
    }
   ],
   "source": [
    "# Do the filtering\n",
    "df = df[(df.obs.gene_count < 2000) & \n",
    "(df.obs.tscp_count < 3000) & \n",
    "(df.obs.mread_count < 5000),:]\n",
    "\n",
    "sc.pp.filter_cells(df, min_counts=3)\n",
    "sc.pp.filter_cells(df, max_counts=2000)"
   ]
  },
  {
   "cell_type": "code",
   "execution_count": null,
   "id": "c6fbd1d0",
   "metadata": {},
   "outputs": [],
   "source": []
  },
  {
   "cell_type": "code",
   "execution_count": 19,
   "id": "2636aaf1",
   "metadata": {},
   "outputs": [],
   "source": [
    "df_sm_cl_cnt = pd.DataFrame(df_sm_cl).value_counts()"
   ]
  },
  {
   "cell_type": "code",
   "execution_count": 20,
   "id": "27c808e8",
   "metadata": {},
   "outputs": [
    {
     "data": {
      "text/plain": [
       "np.float64(1349.2993445010925)"
      ]
     },
     "execution_count": 20,
     "metadata": {},
     "output_type": "execute_result"
    }
   ],
   "source": [
    "pd.DataFrame(df_sm_cl).value_counts().mean()#[df_sm_cl == 'CVCL_0292_Sapanisertib']"
   ]
  },
  {
   "cell_type": "code",
   "execution_count": 21,
   "id": "557bb5a3",
   "metadata": {},
   "outputs": [],
   "source": [
    "frequent_exp = df.obs[~df.obs['sm_cl'].isin(df_sm_cl_cnt[df_sm_cl_cnt < 100].reset_index()[0].unique())].index"
   ]
  },
  {
   "cell_type": "code",
   "execution_count": 22,
   "id": "afa1d015",
   "metadata": {},
   "outputs": [
    {
     "data": {
      "text/plain": [
       "169126.05"
      ]
     },
     "execution_count": 22,
     "metadata": {},
     "output_type": "execute_result"
    }
   ],
   "source": [
    "3382521 / 20"
   ]
  },
  {
   "cell_type": "code",
   "execution_count": 23,
   "id": "c69644cf",
   "metadata": {},
   "outputs": [],
   "source": [
    "def sum_by(adata: ad.AnnData, col: str) -> ad.AnnData:\n",
    "    \"\"\"\n",
    "    Adapted from this forum post:\n",
    "    https://discourse.scverse.org/t/group-sum-rows-based-on-jobs-feature/371/4\n",
    "    https://github.com/openproblems-bio/task_perturbation_prediction/blob/main/src/process_dataset/compute_pseudobulk/script.py\n",
    "    \"\"\"\n",
    "\n",
    "    # assert pd.api.types.is_categorical_dtype(adata.obs[col])\n",
    "    assert isinstance(adata.obs[col].dtypes, pd.CategoricalDtype)\n",
    "\n",
    "    # sum `.X` entries for each unique value in `col`\n",
    "    cat = adata.obs[col].values\n",
    "    indicator = sparse.coo_matrix(\n",
    "        (\n",
    "            np.broadcast_to(True, adata.n_obs),\n",
    "            (cat.codes, np.arange(adata.n_obs))\n",
    "        ),\n",
    "        shape=(len(cat.categories), adata.n_obs),\n",
    "    )\n",
    "    sum_adata = ad.AnnData(\n",
    "        var=adata.var,\n",
    "        obs=pd.DataFrame(index=cat.categories),\n",
    "    )\n",
    "    if adata.X is not None:\n",
    "        sum_adata.X = indicator @ adata.X\n",
    "\n",
    "    # copy over `.obs` values that have a one-to-one-mapping with `.obs[col]`\n",
    "    obs_cols = list(set(adata.obs.columns) - set([col]))\n",
    "\n",
    "    one_to_one_mapped_obs_cols = []\n",
    "    nunique_in_col = adata.obs[col].nunique()\n",
    "    for other_col in obs_cols:\n",
    "        if len(adata.obs[[col, other_col]].drop_duplicates()) == nunique_in_col:\n",
    "            one_to_one_mapped_obs_cols.append(other_col)\n",
    "\n",
    "    joining_df = adata.obs[[col] + one_to_one_mapped_obs_cols].drop_duplicates().set_index(col)\n",
    "    assert (sum_adata.obs.index == sum_adata.obs.join(joining_df).index).all()\n",
    "    sum_adata.obs = sum_adata.obs.join(joining_df)\n",
    "    sum_adata.obs.index.name = col\n",
    "    sum_adata.obs = sum_adata.obs.reset_index()\n",
    "    sum_adata.obs.index = sum_adata.obs.index.astype('str')\n",
    "\n",
    "    return sum_adata"
   ]
  },
  {
   "cell_type": "code",
   "execution_count": 24,
   "id": "95de2914",
   "metadata": {},
   "outputs": [
    {
     "name": "stderr",
     "output_type": "stream",
     "text": [
      "100%|██████████| 100/100 [11:04<00:00,  6.65s/it]\n"
     ]
    }
   ],
   "source": [
    "ids = list(df[frequent_exp].obs.index)\n",
    "for i in tqdm(range(100)):\n",
    "    bootstrap_ids = np.random.choice(ids, size=150000)\n",
    "    bulked = sum_by(df[bootstrap_ids], 'sample_cell_line')\n",
    "    #break\n",
    "    bulked.write_h5ad('../../NO_BACKUP/tahoe/pseudobulks/plate14/' + 'bulk_' + str(i+1) + '.h5ad')"
   ]
  },
  {
   "cell_type": "code",
   "execution_count": 38,
   "id": "b5fe5546",
   "metadata": {},
   "outputs": [
    {
     "data": {
      "text/plain": [
       "BARCODE_SUB_LIB_ID\n",
       "27_143_054-lib_2237    smp_2385_CVCL_0023\n",
       "78_151_030-lib_1709    smp_2436_CVCL_0218\n",
       "27_150_180-lib_1766    smp_2385_CVCL_1055\n",
       "89_153_134-lib_1701    smp_2447_CVCL_1285\n",
       "32_041_110-lib_2238    smp_2390_CVCL_1731\n",
       "                              ...        \n",
       "96_187_140-lib_2253    smp_2454_CVCL_1495\n",
       "96_188_009-lib_2253    smp_2454_CVCL_0428\n",
       "96_189_074-lib_2253    smp_2454_CVCL_0546\n",
       "96_190_059-lib_2253    smp_2454_CVCL_0152\n",
       "96_190_165-lib_2253    smp_2454_CVCL_1381\n",
       "Name: sample_cell_line, Length: 2262974, dtype: category\n",
       "Categories (1962, object): ['smp_2363_CVCL_0023', 'smp_2363_CVCL_0028', 'smp_2363_CVCL_0069', 'smp_2363_CVCL_0099', ..., 'smp_2454_CVCL_1717', 'smp_2454_CVCL_1724', 'smp_2454_CVCL_1731', 'smp_2454_CVCL_C466']"
      ]
     },
     "execution_count": 38,
     "metadata": {},
     "output_type": "execute_result"
    }
   ],
   "source": [
    "df.obs['sample_cell_line']#.unique()"
   ]
  },
  {
   "cell_type": "code",
   "execution_count": null,
   "id": "05787320",
   "metadata": {},
   "outputs": [],
   "source": [
    "df.obs"
   ]
  },
  {
   "cell_type": "code",
   "execution_count": 34,
   "id": "07e52e06",
   "metadata": {},
   "outputs": [
    {
     "data": {
      "text/plain": [
       "array([['sample',\n",
       "        'unique treatment identifier, distinguishes replicated treatments']],\n",
       "      dtype=object)"
      ]
     },
     "execution_count": 34,
     "metadata": {},
     "output_type": "execute_result"
    }
   ],
   "source": [
    "pd.read_csv('../../NO_BACKUP/tahoe/metadata/obs_metadata_descriptions.tsv', sep='\\t')[pd.read_csv('../../NO_BACKUP/tahoe/metadata/obs_metadata_descriptions.tsv', sep='\\t')['Column'] == 'sample'].values#['sample']"
   ]
  },
  {
   "cell_type": "code",
   "execution_count": 35,
   "id": "1b2328f8",
   "metadata": {},
   "outputs": [
    {
     "data": {
      "text/html": [
       "<div>\n",
       "<style scoped>\n",
       "    .dataframe tbody tr th:only-of-type {\n",
       "        vertical-align: middle;\n",
       "    }\n",
       "\n",
       "    .dataframe tbody tr th {\n",
       "        vertical-align: top;\n",
       "    }\n",
       "\n",
       "    .dataframe thead th {\n",
       "        text-align: right;\n",
       "    }\n",
       "</style>\n",
       "<table border=\"1\" class=\"dataframe\">\n",
       "  <thead>\n",
       "    <tr style=\"text-align: right;\">\n",
       "      <th></th>\n",
       "      <th>Column</th>\n",
       "      <th>description</th>\n",
       "    </tr>\n",
       "  </thead>\n",
       "  <tbody>\n",
       "    <tr>\n",
       "      <th>0</th>\n",
       "      <td>plate</td>\n",
       "      <td>plate number</td>\n",
       "    </tr>\n",
       "    <tr>\n",
       "      <th>1</th>\n",
       "      <td>BARCODE_SUB_LIB_ID</td>\n",
       "      <td>cell identifier</td>\n",
       "    </tr>\n",
       "    <tr>\n",
       "      <th>2</th>\n",
       "      <td>sample</td>\n",
       "      <td>unique treatment identifier, distinguishes rep...</td>\n",
       "    </tr>\n",
       "    <tr>\n",
       "      <th>3</th>\n",
       "      <td>gene_count</td>\n",
       "      <td>number of genes with at least one count</td>\n",
       "    </tr>\n",
       "    <tr>\n",
       "      <th>4</th>\n",
       "      <td>tsc_count</td>\n",
       "      <td>number of transcripts, aka UMI count</td>\n",
       "    </tr>\n",
       "    <tr>\n",
       "      <th>5</th>\n",
       "      <td>mread_count</td>\n",
       "      <td>number of reads per cell</td>\n",
       "    </tr>\n",
       "    <tr>\n",
       "      <th>6</th>\n",
       "      <td>drugname_drugconc</td>\n",
       "      <td>drug name, concentration and concentration unit</td>\n",
       "    </tr>\n",
       "    <tr>\n",
       "      <th>7</th>\n",
       "      <td>drug</td>\n",
       "      <td>drug name, as used in the drugname_drugconc field</td>\n",
       "    </tr>\n",
       "    <tr>\n",
       "      <th>8</th>\n",
       "      <td>cell_line</td>\n",
       "      <td>cell line Cellosaurus identifier</td>\n",
       "    </tr>\n",
       "    <tr>\n",
       "      <th>9</th>\n",
       "      <td>sublibrary</td>\n",
       "      <td>sublibrary id (related to library prep and seq...</td>\n",
       "    </tr>\n",
       "    <tr>\n",
       "      <th>10</th>\n",
       "      <td>BARCODE</td>\n",
       "      <td>barcode id</td>\n",
       "    </tr>\n",
       "    <tr>\n",
       "      <th>11</th>\n",
       "      <td>pcnt_mito</td>\n",
       "      <td>percentage mitochondrial reads</td>\n",
       "    </tr>\n",
       "    <tr>\n",
       "      <th>12</th>\n",
       "      <td>S_score</td>\n",
       "      <td>inferred S phase score</td>\n",
       "    </tr>\n",
       "    <tr>\n",
       "      <th>13</th>\n",
       "      <td>G2M_score</td>\n",
       "      <td>inferred G2M phase score</td>\n",
       "    </tr>\n",
       "    <tr>\n",
       "      <th>14</th>\n",
       "      <td>phase</td>\n",
       "      <td>inferred cell cycle phase (G1, S, G2M)</td>\n",
       "    </tr>\n",
       "    <tr>\n",
       "      <th>15</th>\n",
       "      <td>pass_filter</td>\n",
       "      <td>full' filters are more stringent on gene_count...</td>\n",
       "    </tr>\n",
       "    <tr>\n",
       "      <th>16</th>\n",
       "      <td>cell_name</td>\n",
       "      <td>commonly-used cell line name (related to the c...</td>\n",
       "    </tr>\n",
       "  </tbody>\n",
       "</table>\n",
       "</div>"
      ],
      "text/plain": [
       "                Column                                        description\n",
       "0                plate                                       plate number\n",
       "1   BARCODE_SUB_LIB_ID                                    cell identifier\n",
       "2               sample  unique treatment identifier, distinguishes rep...\n",
       "3           gene_count            number of genes with at least one count\n",
       "4            tsc_count               number of transcripts, aka UMI count\n",
       "5          mread_count                           number of reads per cell\n",
       "6    drugname_drugconc    drug name, concentration and concentration unit\n",
       "7                 drug  drug name, as used in the drugname_drugconc field\n",
       "8            cell_line                   cell line Cellosaurus identifier\n",
       "9           sublibrary  sublibrary id (related to library prep and seq...\n",
       "10             BARCODE                                         barcode id\n",
       "11           pcnt_mito                     percentage mitochondrial reads\n",
       "12             S_score                             inferred S phase score\n",
       "13           G2M_score                           inferred G2M phase score\n",
       "14               phase             inferred cell cycle phase (G1, S, G2M)\n",
       "15         pass_filter  full' filters are more stringent on gene_count...\n",
       "16           cell_name  commonly-used cell line name (related to the c..."
      ]
     },
     "execution_count": 35,
     "metadata": {},
     "output_type": "execute_result"
    }
   ],
   "source": [
    "pd.read_csv('../../NO_BACKUP/tahoe/metadata/obs_metadata_descriptions.tsv', sep='\\t')"
   ]
  },
  {
   "cell_type": "code",
   "execution_count": null,
   "id": "fbf592e4",
   "metadata": {},
   "outputs": [],
   "source": []
  }
 ],
 "metadata": {
  "kernelspec": {
   "display_name": "Python 3 (ipykernel)",
   "language": "python",
   "name": "python3"
  },
  "language_info": {
   "codemirror_mode": {
    "name": "ipython",
    "version": 3
   },
   "file_extension": ".py",
   "mimetype": "text/x-python",
   "name": "python",
   "nbconvert_exporter": "python",
   "pygments_lexer": "ipython3",
   "version": "3.11.2"
  }
 },
 "nbformat": 4,
 "nbformat_minor": 5
}
