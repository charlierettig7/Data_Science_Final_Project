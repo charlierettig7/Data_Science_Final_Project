{
 "cells": [
  {
   "cell_type": "code",
   "execution_count": 1,
   "id": "fb31222e",
   "metadata": {},
   "outputs": [],
   "source": [
    "import sys\n",
    "sys.path.insert(0,'/home/olgan96/.env/lib/python3.11/site-packages/')\n",
    "from tqdm import tqdm"
   ]
  },
  {
   "cell_type": "code",
   "execution_count": 2,
   "id": "b5975236",
   "metadata": {},
   "outputs": [
    {
     "name": "stderr",
     "output_type": "stream",
     "text": [
      "/home/olgan96/.env/lib/python3.11/site-packages/matplotlib/projections/__init__.py:63: UserWarning: Unable to import Axes3D. This may be due to multiple versions of Matplotlib being installed (e.g. as a system package and as a pip package). As a result, the 3D projection is not available.\n",
      "  warnings.warn(\"Unable to import Axes3D. This may be due to multiple versions of \"\n"
     ]
    }
   ],
   "source": [
    "import pandas as pd\n",
    "import matplotlib.pyplot as plt\n",
    "import numpy as np"
   ]
  },
  {
   "cell_type": "code",
   "execution_count": 3,
   "id": "a6162a6d",
   "metadata": {},
   "outputs": [],
   "source": [
    "def drug_response_curve(x, Einf, EC50, HS, E0=100):\n",
    "    y = Einf + (E0 - Einf)/(1 + (x/EC50)**HS)\n",
    "    return y"
   ]
  },
  {
   "cell_type": "code",
   "execution_count": 4,
   "id": "4006ffc5",
   "metadata": {},
   "outputs": [],
   "source": [
    "def calc_responses(df, dose):\n",
    "    Einf = df['Einf'].values\n",
    "    EC50 = df['EC50'].values\n",
    "    HS = df['HS'].values\n",
    "    n_curves = df.shape[0]\n",
    "    #r2 = np.zeros(len(dose_response))\n",
    "    responses_pred = np.zeros(n_curves)\n",
    "    for i in range(n_curves):\n",
    "        responses_pred[i] = drug_response_curve(dose, Einf[i], EC50[i], HS[i]).item()\n",
    "    return responses_pred"
   ]
  },
  {
   "cell_type": "code",
   "execution_count": 5,
   "id": "b8fed2ee",
   "metadata": {},
   "outputs": [],
   "source": [
    "df_resp = pd.read_parquet('../../NO_BACKUP/tahoe/drug_response_curves.parquet')"
   ]
  },
  {
   "cell_type": "code",
   "execution_count": 6,
   "id": "69a200db",
   "metadata": {},
   "outputs": [],
   "source": [
    "resp_test = df_resp['dose_response'].values\n",
    "resp_test_ = []\n",
    "for i in range(len(resp_test)):\n",
    "    for j in range(len(resp_test[i])):\n",
    "        resp_test_.append(resp_test[i][j]['response'])"
   ]
  },
  {
   "cell_type": "code",
   "execution_count": 7,
   "id": "a6f129b1",
   "metadata": {},
   "outputs": [],
   "source": [
    "df_sig = pd.read_parquet('../../NO_BACKUP/tahoe/sig_overlap.parquet')"
   ]
  },
  {
   "cell_type": "code",
   "execution_count": 9,
   "id": "4abe1717",
   "metadata": {},
   "outputs": [
    {
     "data": {
      "text/html": [
       "<div>\n",
       "<style scoped>\n",
       "    .dataframe tbody tr th:only-of-type {\n",
       "        vertical-align: middle;\n",
       "    }\n",
       "\n",
       "    .dataframe tbody tr th {\n",
       "        vertical-align: top;\n",
       "    }\n",
       "\n",
       "    .dataframe thead th {\n",
       "        text-align: right;\n",
       "    }\n",
       "</style>\n",
       "<table border=\"1\" class=\"dataframe\">\n",
       "  <thead>\n",
       "    <tr style=\"text-align: right;\">\n",
       "      <th></th>\n",
       "      <th>cl_sm_dose</th>\n",
       "      <th>cell_line</th>\n",
       "      <th>drug</th>\n",
       "      <th>dose</th>\n",
       "      <th>pubchem_cid</th>\n",
       "      <th>cell_line_drug</th>\n",
       "    </tr>\n",
       "  </thead>\n",
       "  <tbody>\n",
       "    <tr>\n",
       "      <th>0</th>\n",
       "      <td>CVCL_0023_APTO-253_0.05</td>\n",
       "      <td>CVCL_0023</td>\n",
       "      <td>APTO-253</td>\n",
       "      <td>0.05</td>\n",
       "      <td>11960271</td>\n",
       "      <td>CVCL_0023_11960271</td>\n",
       "    </tr>\n",
       "    <tr>\n",
       "      <th>1</th>\n",
       "      <td>CVCL_0023_AZD-7648_0.05</td>\n",
       "      <td>CVCL_0023</td>\n",
       "      <td>AZD-7648</td>\n",
       "      <td>0.05</td>\n",
       "      <td>135151360</td>\n",
       "      <td>CVCL_0023_135151360</td>\n",
       "    </tr>\n",
       "    <tr>\n",
       "      <th>2</th>\n",
       "      <td>CVCL_0023_AZD-8055_0.05</td>\n",
       "      <td>CVCL_0023</td>\n",
       "      <td>AZD-8055</td>\n",
       "      <td>0.05</td>\n",
       "      <td>25262965</td>\n",
       "      <td>CVCL_0023_25262965</td>\n",
       "    </tr>\n",
       "    <tr>\n",
       "      <th>3</th>\n",
       "      <td>CVCL_0023_AZD1390_0.05</td>\n",
       "      <td>CVCL_0023</td>\n",
       "      <td>AZD1390</td>\n",
       "      <td>0.05</td>\n",
       "      <td>126689157</td>\n",
       "      <td>CVCL_0023_126689157</td>\n",
       "    </tr>\n",
       "    <tr>\n",
       "      <th>4</th>\n",
       "      <td>CVCL_0023_Afatinib_0.05</td>\n",
       "      <td>CVCL_0023</td>\n",
       "      <td>Afatinib</td>\n",
       "      <td>0.05</td>\n",
       "      <td>10184653</td>\n",
       "      <td>CVCL_0023_10184653</td>\n",
       "    </tr>\n",
       "    <tr>\n",
       "      <th>...</th>\n",
       "      <td>...</td>\n",
       "      <td>...</td>\n",
       "      <td>...</td>\n",
       "      <td>...</td>\n",
       "      <td>...</td>\n",
       "      <td>...</td>\n",
       "    </tr>\n",
       "    <tr>\n",
       "      <th>8000</th>\n",
       "      <td>CVCL_1731_Sunitinib_0.5</td>\n",
       "      <td>CVCL_1731</td>\n",
       "      <td>Sunitinib</td>\n",
       "      <td>0.5</td>\n",
       "      <td>5329102</td>\n",
       "      <td>CVCL_1731_5329102</td>\n",
       "    </tr>\n",
       "    <tr>\n",
       "      <th>8001</th>\n",
       "      <td>CVCL_1731_Trametinib_0.5</td>\n",
       "      <td>CVCL_1731</td>\n",
       "      <td>Trametinib</td>\n",
       "      <td>0.5</td>\n",
       "      <td>11707110</td>\n",
       "      <td>CVCL_1731_11707110</td>\n",
       "    </tr>\n",
       "    <tr>\n",
       "      <th>8002</th>\n",
       "      <td>CVCL_1731_Uridine_0.5</td>\n",
       "      <td>CVCL_1731</td>\n",
       "      <td>Uridine</td>\n",
       "      <td>0.5</td>\n",
       "      <td>6029</td>\n",
       "      <td>CVCL_1731_6029</td>\n",
       "    </tr>\n",
       "    <tr>\n",
       "      <th>8003</th>\n",
       "      <td>CVCL_1731_Vandetanib_0.5</td>\n",
       "      <td>CVCL_1731</td>\n",
       "      <td>Vandetanib</td>\n",
       "      <td>0.5</td>\n",
       "      <td>3081361</td>\n",
       "      <td>CVCL_1731_3081361</td>\n",
       "    </tr>\n",
       "    <tr>\n",
       "      <th>8004</th>\n",
       "      <td>CVCL_1731_Vismodegib_0.5</td>\n",
       "      <td>CVCL_1731</td>\n",
       "      <td>Vismodegib</td>\n",
       "      <td>0.5</td>\n",
       "      <td>24776445</td>\n",
       "      <td>CVCL_1731_24776445</td>\n",
       "    </tr>\n",
       "  </tbody>\n",
       "</table>\n",
       "<p>8005 rows × 6 columns</p>\n",
       "</div>"
      ],
      "text/plain": [
       "                    cl_sm_dose  cell_line        drug  dose pubchem_cid  \\\n",
       "0      CVCL_0023_APTO-253_0.05  CVCL_0023    APTO-253  0.05    11960271   \n",
       "1      CVCL_0023_AZD-7648_0.05  CVCL_0023    AZD-7648  0.05   135151360   \n",
       "2      CVCL_0023_AZD-8055_0.05  CVCL_0023    AZD-8055  0.05    25262965   \n",
       "3       CVCL_0023_AZD1390_0.05  CVCL_0023     AZD1390  0.05   126689157   \n",
       "4      CVCL_0023_Afatinib_0.05  CVCL_0023    Afatinib  0.05    10184653   \n",
       "...                        ...        ...         ...   ...         ...   \n",
       "8000   CVCL_1731_Sunitinib_0.5  CVCL_1731   Sunitinib   0.5     5329102   \n",
       "8001  CVCL_1731_Trametinib_0.5  CVCL_1731  Trametinib   0.5    11707110   \n",
       "8002     CVCL_1731_Uridine_0.5  CVCL_1731     Uridine   0.5        6029   \n",
       "8003  CVCL_1731_Vandetanib_0.5  CVCL_1731  Vandetanib   0.5     3081361   \n",
       "8004  CVCL_1731_Vismodegib_0.5  CVCL_1731  Vismodegib   0.5    24776445   \n",
       "\n",
       "           cell_line_drug  \n",
       "0      CVCL_0023_11960271  \n",
       "1     CVCL_0023_135151360  \n",
       "2      CVCL_0023_25262965  \n",
       "3     CVCL_0023_126689157  \n",
       "4      CVCL_0023_10184653  \n",
       "...                   ...  \n",
       "8000    CVCL_1731_5329102  \n",
       "8001   CVCL_1731_11707110  \n",
       "8002       CVCL_1731_6029  \n",
       "8003    CVCL_1731_3081361  \n",
       "8004   CVCL_1731_24776445  \n",
       "\n",
       "[8005 rows x 6 columns]"
      ]
     },
     "execution_count": 9,
     "metadata": {},
     "output_type": "execute_result"
    }
   ],
   "source": [
    "df_sig"
   ]
  },
  {
   "cell_type": "code",
   "execution_count": 10,
   "id": "682acac1",
   "metadata": {},
   "outputs": [],
   "source": [
    "df_sig = df_sig[df_sig['cell_line_drug'].isin(df_resp['cell_line_drug'])].reset_index()"
   ]
  },
  {
   "cell_type": "code",
   "execution_count": 13,
   "id": "91b8462c",
   "metadata": {},
   "outputs": [],
   "source": [
    "df_sig['dose'] = df_sig['dose'].astype(float)"
   ]
  },
  {
   "cell_type": "code",
   "execution_count": 14,
   "id": "62efa413",
   "metadata": {},
   "outputs": [
    {
     "name": "stderr",
     "output_type": "stream",
     "text": [
      "100%|██████████| 4386/4386 [00:21<00:00, 199.72it/s]\n"
     ]
    }
   ],
   "source": [
    "doses = df_sig['dose'].values\n",
    "cell_drugs = df_sig['cell_line_drug'].values\n",
    "responses = []\n",
    "for i in tqdm(range(len(cell_drugs))):\n",
    "    cell_drug = cell_drugs[i]\n",
    "    df = df_resp[df_resp['cell_line_drug'] == cell_drug].reset_index().copy()\n",
    "    responses.append(np.array(calc_responses(df, doses[i])).mean().item())\n",
    "    #if len(responses[-1]) == 0:\n",
    "    #    break"
   ]
  },
  {
   "cell_type": "code",
   "execution_count": 15,
   "id": "4b85d5fc",
   "metadata": {},
   "outputs": [],
   "source": [
    "df_sig['responses'] = responses"
   ]
  },
  {
   "cell_type": "code",
   "execution_count": 16,
   "id": "eeec7e06",
   "metadata": {},
   "outputs": [
    {
     "data": {
      "text/plain": [
       "(array([ 175.,  239.,  258.,  249.,  267.,  239.,  247.,  255.,  341.,\n",
       "        2116.]),\n",
       " array([2.47152167e-07, 1.00000002e+01, 2.00000002e+01, 3.00000002e+01,\n",
       "        4.00000001e+01, 5.00000001e+01, 6.00000001e+01, 7.00000001e+01,\n",
       "        8.00000000e+01, 9.00000000e+01, 1.00000000e+02]),\n",
       " <BarContainer object of 10 artists>)"
      ]
     },
     "execution_count": 16,
     "metadata": {},
     "output_type": "execute_result"
    },
    {
     "data": {
      "image/png": "[encoded data removed]",
      "text/plain": [
       "<Figure size 640x480 with 1 Axes>"
      ]
     },
     "metadata": {},
     "output_type": "display_data"
    }
   ],
   "source": [
    "plt.hist(df_sig['responses'])"
   ]
  },
  {
   "cell_type": "code",
   "execution_count": 17,
   "id": "b596285f",
   "metadata": {},
   "outputs": [
    {
     "data": {
      "text/plain": [
       "(array([2.0000e+00, 1.9000e+01, 1.7700e+03, 7.8290e+03, 1.3791e+04,\n",
       "        1.9617e+04, 1.9722e+04, 2.0135e+04, 2.0782e+04, 3.0953e+04]),\n",
       " array([-36.5183    , -22.8668926 ,  -9.21548521,   4.43592219,\n",
       "         18.08732958,  31.73873698,  45.39014438,  59.04155177,\n",
       "         72.69295917,  86.34436656,  99.99577396]),\n",
       " <BarContainer object of 10 artists>)"
      ]
     },
     "execution_count": 17,
     "metadata": {},
     "output_type": "execute_result"
    },
    {
     "data": {
      "image/png": "[encoded data removed]",
      "text/plain": [
       "<Figure size 640x480 with 1 Axes>"
      ]
     },
     "metadata": {},
     "output_type": "display_data"
    }
   ],
   "source": [
    "plt.hist(np.array(resp_test_)[np.array(resp_test_)<100])"
   ]
  },
  {
   "cell_type": "code",
   "execution_count": 18,
   "id": "dbf6ff31",
   "metadata": {},
   "outputs": [
    {
     "data": {
      "text/plain": [
       "(array([1.08828585e-06, 1.03387156e-05, 9.63132976e-04, 4.26009496e-03,\n",
       "        7.50427507e-03, 1.06744517e-02, 1.07315868e-02, 1.09563178e-02,\n",
       "        1.13083783e-02, 1.68428559e-02]),\n",
       " array([-36.5183    , -22.8668926 ,  -9.21548521,   4.43592219,\n",
       "         18.08732958,  31.73873698,  45.39014438,  59.04155177,\n",
       "         72.69295917,  86.34436656,  99.99577396]),\n",
       " <BarContainer object of 10 artists>)"
      ]
     },
     "execution_count": 18,
     "metadata": {},
     "output_type": "execute_result"
    },
    {
     "data": {
      "image/png": "[encoded data removed]",
      "text/plain": [
       "<Figure size 640x480 with 1 Axes>"
      ]
     },
     "metadata": {},
     "output_type": "display_data"
    }
   ],
   "source": [
    "plt.hist(df_sig['responses'], density=True, alpha=0.5)\n",
    "plt.hist(np.array(resp_test_)[np.array(resp_test_)<100], density=True, alpha=0.5)"
   ]
  },
  {
   "cell_type": "code",
   "execution_count": 19,
   "id": "9ab91907",
   "metadata": {},
   "outputs": [],
   "source": [
    "df_sig['responses'] = df_sig['responses']/100"
   ]
  },
  {
   "cell_type": "code",
   "execution_count": 20,
   "id": "b1ec4790",
   "metadata": {},
   "outputs": [
    {
     "data": {
      "text/html": [
       "<div>\n",
       "<style scoped>\n",
       "    .dataframe tbody tr th:only-of-type {\n",
       "        vertical-align: middle;\n",
       "    }\n",
       "\n",
       "    .dataframe tbody tr th {\n",
       "        vertical-align: top;\n",
       "    }\n",
       "\n",
       "    .dataframe thead th {\n",
       "        text-align: right;\n",
       "    }\n",
       "</style>\n",
       "<table border=\"1\" class=\"dataframe\">\n",
       "  <thead>\n",
       "    <tr style=\"text-align: right;\">\n",
       "      <th></th>\n",
       "      <th>index</th>\n",
       "      <th>cl_sm_dose</th>\n",
       "      <th>cell_line</th>\n",
       "      <th>drug</th>\n",
       "      <th>dose</th>\n",
       "      <th>pubchem_cid</th>\n",
       "      <th>cell_line_drug</th>\n",
       "      <th>responses</th>\n",
       "    </tr>\n",
       "  </thead>\n",
       "  <tbody>\n",
       "    <tr>\n",
       "      <th>0</th>\n",
       "      <td>0</td>\n",
       "      <td>CVCL_0023_APTO-253_0.05</td>\n",
       "      <td>CVCL_0023</td>\n",
       "      <td>APTO-253</td>\n",
       "      <td>0.05</td>\n",
       "      <td>11960271</td>\n",
       "      <td>CVCL_0023_11960271</td>\n",
       "      <td>0.989992</td>\n",
       "    </tr>\n",
       "    <tr>\n",
       "      <th>1</th>\n",
       "      <td>1</td>\n",
       "      <td>CVCL_0023_AZD-7648_0.05</td>\n",
       "      <td>CVCL_0023</td>\n",
       "      <td>AZD-7648</td>\n",
       "      <td>0.05</td>\n",
       "      <td>135151360</td>\n",
       "      <td>CVCL_0023_135151360</td>\n",
       "      <td>0.991688</td>\n",
       "    </tr>\n",
       "    <tr>\n",
       "      <th>2</th>\n",
       "      <td>2</td>\n",
       "      <td>CVCL_0023_AZD-8055_0.05</td>\n",
       "      <td>CVCL_0023</td>\n",
       "      <td>AZD-8055</td>\n",
       "      <td>0.05</td>\n",
       "      <td>25262965</td>\n",
       "      <td>CVCL_0023_25262965</td>\n",
       "      <td>0.689011</td>\n",
       "    </tr>\n",
       "    <tr>\n",
       "      <th>3</th>\n",
       "      <td>3</td>\n",
       "      <td>CVCL_0023_AZD1390_0.05</td>\n",
       "      <td>CVCL_0023</td>\n",
       "      <td>AZD1390</td>\n",
       "      <td>0.05</td>\n",
       "      <td>126689157</td>\n",
       "      <td>CVCL_0023_126689157</td>\n",
       "      <td>0.999031</td>\n",
       "    </tr>\n",
       "    <tr>\n",
       "      <th>4</th>\n",
       "      <td>4</td>\n",
       "      <td>CVCL_0023_Afatinib_0.05</td>\n",
       "      <td>CVCL_0023</td>\n",
       "      <td>Afatinib</td>\n",
       "      <td>0.05</td>\n",
       "      <td>10184653</td>\n",
       "      <td>CVCL_0023_10184653</td>\n",
       "      <td>0.912780</td>\n",
       "    </tr>\n",
       "    <tr>\n",
       "      <th>...</th>\n",
       "      <td>...</td>\n",
       "      <td>...</td>\n",
       "      <td>...</td>\n",
       "      <td>...</td>\n",
       "      <td>...</td>\n",
       "      <td>...</td>\n",
       "      <td>...</td>\n",
       "      <td>...</td>\n",
       "    </tr>\n",
       "    <tr>\n",
       "      <th>4381</th>\n",
       "      <td>7978</td>\n",
       "      <td>CVCL_1731_5-Fluorouracil_0.5</td>\n",
       "      <td>CVCL_1731</td>\n",
       "      <td>5-Fluorouracil</td>\n",
       "      <td>0.50</td>\n",
       "      <td>3385</td>\n",
       "      <td>CVCL_1731_3385</td>\n",
       "      <td>0.923447</td>\n",
       "    </tr>\n",
       "    <tr>\n",
       "      <th>4382</th>\n",
       "      <td>7981</td>\n",
       "      <td>CVCL_1731_Belinostat_0.5</td>\n",
       "      <td>CVCL_1731</td>\n",
       "      <td>Belinostat</td>\n",
       "      <td>0.50</td>\n",
       "      <td>6918638</td>\n",
       "      <td>CVCL_1731_6918638</td>\n",
       "      <td>0.912687</td>\n",
       "    </tr>\n",
       "    <tr>\n",
       "      <th>4383</th>\n",
       "      <td>7990</td>\n",
       "      <td>CVCL_1731_Fulvestrant_0.5</td>\n",
       "      <td>CVCL_1731</td>\n",
       "      <td>Fulvestrant</td>\n",
       "      <td>0.50</td>\n",
       "      <td>104741</td>\n",
       "      <td>CVCL_1731_104741</td>\n",
       "      <td>0.901148</td>\n",
       "    </tr>\n",
       "    <tr>\n",
       "      <th>4384</th>\n",
       "      <td>7997</td>\n",
       "      <td>CVCL_1731_Panobinostat_0.5</td>\n",
       "      <td>CVCL_1731</td>\n",
       "      <td>Panobinostat</td>\n",
       "      <td>0.50</td>\n",
       "      <td>6918837</td>\n",
       "      <td>CVCL_1731_6918837</td>\n",
       "      <td>0.470417</td>\n",
       "    </tr>\n",
       "    <tr>\n",
       "      <th>4385</th>\n",
       "      <td>8001</td>\n",
       "      <td>CVCL_1731_Trametinib_0.5</td>\n",
       "      <td>CVCL_1731</td>\n",
       "      <td>Trametinib</td>\n",
       "      <td>0.50</td>\n",
       "      <td>11707110</td>\n",
       "      <td>CVCL_1731_11707110</td>\n",
       "      <td>0.499928</td>\n",
       "    </tr>\n",
       "  </tbody>\n",
       "</table>\n",
       "<p>4386 rows × 8 columns</p>\n",
       "</div>"
      ],
      "text/plain": [
       "      index                    cl_sm_dose  cell_line            drug  dose  \\\n",
       "0         0       CVCL_0023_APTO-253_0.05  CVCL_0023        APTO-253  0.05   \n",
       "1         1       CVCL_0023_AZD-7648_0.05  CVCL_0023        AZD-7648  0.05   \n",
       "2         2       CVCL_0023_AZD-8055_0.05  CVCL_0023        AZD-8055  0.05   \n",
       "3         3        CVCL_0023_AZD1390_0.05  CVCL_0023         AZD1390  0.05   \n",
       "4         4       CVCL_0023_Afatinib_0.05  CVCL_0023        Afatinib  0.05   \n",
       "...     ...                           ...        ...             ...   ...   \n",
       "4381   7978  CVCL_1731_5-Fluorouracil_0.5  CVCL_1731  5-Fluorouracil  0.50   \n",
       "4382   7981      CVCL_1731_Belinostat_0.5  CVCL_1731      Belinostat  0.50   \n",
       "4383   7990     CVCL_1731_Fulvestrant_0.5  CVCL_1731     Fulvestrant  0.50   \n",
       "4384   7997    CVCL_1731_Panobinostat_0.5  CVCL_1731    Panobinostat  0.50   \n",
       "4385   8001      CVCL_1731_Trametinib_0.5  CVCL_1731      Trametinib  0.50   \n",
       "\n",
       "     pubchem_cid       cell_line_drug  responses  \n",
       "0       11960271   CVCL_0023_11960271   0.989992  \n",
       "1      135151360  CVCL_0023_135151360   0.991688  \n",
       "2       25262965   CVCL_0023_25262965   0.689011  \n",
       "3      126689157  CVCL_0023_126689157   0.999031  \n",
       "4       10184653   CVCL_0023_10184653   0.912780  \n",
       "...          ...                  ...        ...  \n",
       "4381        3385       CVCL_1731_3385   0.923447  \n",
       "4382     6918638    CVCL_1731_6918638   0.912687  \n",
       "4383      104741     CVCL_1731_104741   0.901148  \n",
       "4384     6918837    CVCL_1731_6918837   0.470417  \n",
       "4385    11707110   CVCL_1731_11707110   0.499928  \n",
       "\n",
       "[4386 rows x 8 columns]"
      ]
     },
     "execution_count": 20,
     "metadata": {},
     "output_type": "execute_result"
    }
   ],
   "source": [
    "df_sig"
   ]
  },
  {
   "cell_type": "code",
   "execution_count": 21,
   "id": "52065bdc",
   "metadata": {},
   "outputs": [],
   "source": [
    "df_sig.to_parquet('../../NO_BACKUP/tahoe/signature_response.parquet', index=False)"
   ]
  },
  {
   "cell_type": "code",
   "execution_count": null,
   "id": "dd077141",
   "metadata": {},
   "outputs": [],
   "source": []
  }
 ],
 "metadata": {
  "kernelspec": {
   "display_name": "Python 3 (ipykernel)",
   "language": "python",
   "name": "python3"
  },
  "language_info": {
   "codemirror_mode": {
    "name": "ipython",
    "version": 3
   },
   "file_extension": ".py",
   "mimetype": "text/x-python",
   "name": "python",
   "nbconvert_exporter": "python",
   "pygments_lexer": "ipython3",
   "version": "3.11.2"
  }
 },
 "nbformat": 4,
 "nbformat_minor": 5
}
